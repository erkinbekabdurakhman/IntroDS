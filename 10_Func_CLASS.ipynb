{
 "cells": [
  {
   "cell_type": "markdown",
   "metadata": {},
   "source": [
    "Atalov S. (DevCIT)\n",
    "\n",
    "# Функции\n",
    "---"
   ]
  },
  {
   "cell_type": "markdown",
   "metadata": {},
   "source": [
    "### Создание (определение) функции"
   ]
  },
  {
   "cell_type": "code",
   "execution_count": null,
   "metadata": {},
   "outputs": [],
   "source": [
    "# define\n",
    "def func():\n",
    "    # здесь пишу функцию"
   ]
  },
  {
   "cell_type": "code",
   "execution_count": 1,
   "metadata": {},
   "outputs": [],
   "source": [
    "# Создадим нашу первую функцию. \n",
    "# У неё будет одна задача: выводить на экран текст `Today is: November 25`.\n",
    "def today():\n",
    "    print(\"Today is: November 25\")\n"
   ]
  },
  {
   "cell_type": "code",
   "execution_count": 8,
   "metadata": {},
   "outputs": [
    {
     "name": "stdout",
     "output_type": "stream",
     "text": [
      "Today is: November 25\n"
     ]
    }
   ],
   "source": [
    "# вызов функции\n",
    "today()"
   ]
  },
  {
   "cell_type": "code",
   "execution_count": null,
   "metadata": {},
   "outputs": [],
   "source": []
  },
  {
   "cell_type": "code",
   "execution_count": null,
   "metadata": {},
   "outputs": [],
   "source": []
  },
  {
   "cell_type": "code",
   "execution_count": 3,
   "metadata": {},
   "outputs": [
    {
     "name": "stdout",
     "output_type": "stream",
     "text": [
      "Today is: November 25\n"
     ]
    }
   ],
   "source": [
    "today()"
   ]
  },
  {
   "cell_type": "markdown",
   "metadata": {},
   "source": [
    "### Передача одного аргумента"
   ]
  },
  {
   "cell_type": "code",
   "execution_count": 3,
   "metadata": {},
   "outputs": [],
   "source": [
    "# переписать функцию так, чтобы дату можно было подавать функции\n",
    "def today(date):\n",
    "    print(f\"Today is: {date}\")"
   ]
  },
  {
   "cell_type": "code",
   "execution_count": 12,
   "metadata": {},
   "outputs": [
    {
     "name": "stdout",
     "output_type": "stream",
     "text": [
      "Today is: June 5\n"
     ]
    }
   ],
   "source": [
    "today('June 5')"
   ]
  },
  {
   "cell_type": "code",
   "execution_count": 13,
   "metadata": {},
   "outputs": [
    {
     "name": "stdout",
     "output_type": "stream",
     "text": [
      "Today is: January 30\n"
     ]
    }
   ],
   "source": [
    "today('January 30')"
   ]
  },
  {
   "cell_type": "code",
   "execution_count": 1,
   "metadata": {},
   "outputs": [],
   "source": [
    "def (a):\n",
    "    print(f'Это друга функция дает {a}')"
   ]
  },
  {
   "cell_type": "code",
   "execution_count": 2,
   "metadata": {},
   "outputs": [
    {
     "data": {
      "text/plain": [
       "5"
      ]
     },
     "execution_count": 2,
     "metadata": {},
     "output_type": "execute_result"
    }
   ],
   "source": [
    "int(5.7)"
   ]
  },
  {
   "cell_type": "code",
   "execution_count": 1,
   "metadata": {},
   "outputs": [],
   "source": [
    "def hello(name):\n",
    "    print(f\"Hello {name}!!!\")"
   ]
  },
  {
   "cell_type": "code",
   "execution_count": 2,
   "metadata": {},
   "outputs": [
    {
     "name": "stdout",
     "output_type": "stream",
     "text": [
      "John\n",
      "Hello John!!!\n"
     ]
    }
   ],
   "source": [
    "a = input()\n",
    "hello(a)"
   ]
  },
  {
   "cell_type": "code",
   "execution_count": null,
   "metadata": {},
   "outputs": [],
   "source": []
  },
  {
   "cell_type": "markdown",
   "metadata": {},
   "source": [
    "### Передача нескольких аргументов"
   ]
  },
  {
   "cell_type": "code",
   "execution_count": 4,
   "metadata": {},
   "outputs": [],
   "source": [
    "# переписать функцию так, чтобы месяц и день передавать отдельно\n",
    "def today(month, day):\n",
    "    print(f\"Today is: {month} {day}\")"
   ]
  },
  {
   "cell_type": "code",
   "execution_count": 10,
   "metadata": {},
   "outputs": [
    {
     "name": "stdout",
     "output_type": "stream",
     "text": [
      "Today is: November 25\n"
     ]
    }
   ],
   "source": [
    "today(day = 25, month = 'November')"
   ]
  },
  {
   "cell_type": "code",
   "execution_count": null,
   "metadata": {},
   "outputs": [],
   "source": []
  },
  {
   "cell_type": "markdown",
   "metadata": {},
   "source": [
    "В Python, как и в большинстве языков, при вызове функции нужно обязательно передать столько же аргументов, сколько было указано при её определении. Иначе программа выдаст ошибку."
   ]
  },
  {
   "cell_type": "markdown",
   "metadata": {},
   "source": [
    "### Возврат значений"
   ]
  },
  {
   "cell_type": "markdown",
   "metadata": {},
   "source": [
    "Мы в основном работали с функциями, которые выводят результат на экран, а не возвращают его. Честно говоря, вывод на экран — фактически обучающий элемент. В реальном коде на экран никто ничего не выводит (за исключением утилит командной строки). Функции возвращают данные, которые потребляются другими функциями."
   ]
  },
  {
   "cell_type": "code",
   "execution_count": 19,
   "metadata": {},
   "outputs": [],
   "source": [
    "# создадим и вызовем функцию, которая принимает два числа и возвращает произведение данных чисел\n",
    "def umnojitel(n1, n2):\n",
    "    aa = n1*n2\n",
    "    return aa"
   ]
  },
  {
   "cell_type": "code",
   "execution_count": 20,
   "metadata": {},
   "outputs": [],
   "source": [
    "# что если ничего не возвращать\n",
    "result = umnojitel(2, 5)"
   ]
  },
  {
   "cell_type": "code",
   "execution_count": 21,
   "metadata": {
    "scrolled": true
   },
   "outputs": [
    {
     "name": "stdout",
     "output_type": "stream",
     "text": [
      "10\n"
     ]
    }
   ],
   "source": [
    "print(result)"
   ]
  },
  {
   "cell_type": "markdown",
   "metadata": {},
   "source": [
    "### Параметры по умолчанию"
   ]
  },
  {
   "cell_type": "code",
   "execution_count": 39,
   "metadata": {},
   "outputs": [
    {
     "name": "stdout",
     "output_type": "stream",
     "text": [
      "Suban!!!DevCIT\n"
     ]
    }
   ],
   "source": [
    "# аргумент может быть необязательным. \n",
    "# У такого аргумента есть значение по умолчанию.\n",
    "print('Suban', end = '!!!')\n",
    "print('DevCIT')"
   ]
  },
  {
   "cell_type": "code",
   "execution_count": 81,
   "metadata": {},
   "outputs": [],
   "source": [
    "def svoi_print(n = 'Unknown', end = '\\n'):\n",
    "    m = f'{n} privet'\n",
    "    return m"
   ]
  },
  {
   "cell_type": "code",
   "execution_count": 79,
   "metadata": {},
   "outputs": [],
   "source": [
    "k = svoi_print(n = 'John')"
   ]
  },
  {
   "cell_type": "code",
   "execution_count": 80,
   "metadata": {},
   "outputs": [
    {
     "data": {
      "text/plain": [
       "'John privet'"
      ]
     },
     "execution_count": 80,
     "metadata": {},
     "output_type": "execute_result"
    }
   ],
   "source": [
    "k"
   ]
  },
  {
   "cell_type": "code",
   "execution_count": null,
   "metadata": {},
   "outputs": [],
   "source": []
  },
  {
   "cell_type": "code",
   "execution_count": null,
   "metadata": {},
   "outputs": [],
   "source": []
  },
  {
   "cell_type": "code",
   "execution_count": null,
   "metadata": {},
   "outputs": [],
   "source": []
  },
  {
   "cell_type": "code",
   "execution_count": 82,
   "metadata": {},
   "outputs": [
    {
     "name": "stdout",
     "output_type": "stream",
     "text": [
      "Name privet\n"
     ]
    }
   ],
   "source": [
    "a = 'Name'\n",
    "print(svoi_print(a))"
   ]
  },
  {
   "cell_type": "markdown",
   "metadata": {},
   "source": [
    "### Именование"
   ]
  },
  {
   "cell_type": "code",
   "execution_count": null,
   "metadata": {},
   "outputs": [],
   "source": [
    "# глагол\n",
    "# first_second_third\n"
   ]
  },
  {
   "cell_type": "markdown",
   "metadata": {},
   "source": [
    "### Глобальные и локальные переменные"
   ]
  },
  {
   "cell_type": "code",
   "execution_count": 85,
   "metadata": {},
   "outputs": [],
   "source": [
    "# Какое значение окажется внутри переменной result после выполнения кода?\n",
    "\n",
    "age = 5\n",
    "\n",
    "def generate():\n",
    "    return age + 3\n",
    "\n"
   ]
  },
  {
   "cell_type": "code",
   "execution_count": 98,
   "metadata": {},
   "outputs": [],
   "source": [
    "result = generate()"
   ]
  },
  {
   "cell_type": "code",
   "execution_count": 100,
   "metadata": {},
   "outputs": [
    {
     "name": "stdout",
     "output_type": "stream",
     "text": [
      "8\n"
     ]
    }
   ],
   "source": [
    "print(result)"
   ]
  },
  {
   "cell_type": "code",
   "execution_count": 101,
   "metadata": {},
   "outputs": [],
   "source": [
    "# а если так?\n",
    "\n",
    "age = 5\n",
    "\n",
    "def generate():\n",
    "    age = 10\n",
    "    return age + 3\n",
    "\n",
    "result = generate()"
   ]
  },
  {
   "cell_type": "code",
   "execution_count": 102,
   "metadata": {},
   "outputs": [
    {
     "name": "stdout",
     "output_type": "stream",
     "text": [
      "13\n"
     ]
    }
   ],
   "source": [
    "print(result)"
   ]
  },
  {
   "cell_type": "code",
   "execution_count": 103,
   "metadata": {},
   "outputs": [
    {
     "name": "stdout",
     "output_type": "stream",
     "text": [
      "5\n"
     ]
    }
   ],
   "source": [
    "print(age)"
   ]
  },
  {
   "cell_type": "code",
   "execution_count": 120,
   "metadata": {},
   "outputs": [],
   "source": [
    "# если так?\n",
    "\n",
    "age = 5\n",
    "\n",
    "def generate():\n",
    "    age = 8"
   ]
  },
  {
   "cell_type": "code",
   "execution_count": 121,
   "metadata": {},
   "outputs": [],
   "source": [
    "generate()"
   ]
  },
  {
   "cell_type": "code",
   "execution_count": 122,
   "metadata": {},
   "outputs": [],
   "source": [
    "result = age"
   ]
  },
  {
   "cell_type": "code",
   "execution_count": 123,
   "metadata": {},
   "outputs": [
    {
     "data": {
      "text/plain": [
       "5"
      ]
     },
     "execution_count": 123,
     "metadata": {},
     "output_type": "execute_result"
    }
   ],
   "source": [
    "result"
   ]
  },
  {
   "cell_type": "markdown",
   "metadata": {},
   "source": [
    "### Решаем задачки с использованием функций"
   ]
  },
  {
   "cell_type": "markdown",
   "metadata": {},
   "source": [
    "#### 1. Функция для расчета списка квадратов\n",
    "\n",
    "По данному целому числу N **верните** список всех квадратов натуральных чисел, не превосходящие N, в порядке возрастания.\n",
    "\n",
    "`Входные данные`\n",
    "\n",
    "`50`\n",
    "\n",
    "`Выходные данные`\n",
    "\n",
    "`[1, 4, 9, 16, 25, 36, 49]`"
   ]
  },
  {
   "cell_type": "code",
   "execution_count": 128,
   "metadata": {},
   "outputs": [
    {
     "name": "stdout",
     "output_type": "stream",
     "text": [
      "50\n"
     ]
    }
   ],
   "source": [
    "# старый способ\n",
    "N = int(input())\n",
    "lst = []\n",
    "for i in range(1, N+1):\n",
    "    if i**2 < N:\n",
    "        lst.append(i**2)\n",
    "    \n",
    "    if i**2 > N:\n",
    "        break"
   ]
  },
  {
   "cell_type": "code",
   "execution_count": 130,
   "metadata": {},
   "outputs": [],
   "source": [
    "# в виде функции\n",
    "def list_of_squares(N):\n",
    "    lst = []\n",
    "    \n",
    "    for i in range(1, N+1):\n",
    "        if i**2 < N:\n",
    "            lst.append(i**2)\n",
    "    \n",
    "        if i**2 > N:\n",
    "            break\n",
    "            \n",
    "    return lst"
   ]
  },
  {
   "cell_type": "code",
   "execution_count": 139,
   "metadata": {},
   "outputs": [
    {
     "name": "stdout",
     "output_type": "stream",
     "text": [
      "50\n"
     ]
    },
    {
     "data": {
      "text/plain": [
       "[1, 4, 9, 16, 25, 36, 49]"
      ]
     },
     "execution_count": 139,
     "metadata": {},
     "output_type": "execute_result"
    }
   ],
   "source": [
    "N = int(input())\n",
    "list_of_squares(N)"
   ]
  },
  {
   "cell_type": "code",
   "execution_count": 138,
   "metadata": {},
   "outputs": [
    {
     "data": {
      "text/plain": [
       "[1, 4, 9, 16, 25, 36, 49, 64, 81, 100, 121, 144, 169, 196]"
      ]
     },
     "execution_count": 138,
     "metadata": {},
     "output_type": "execute_result"
    }
   ],
   "source": [
    "lst2"
   ]
  },
  {
   "cell_type": "markdown",
   "metadata": {},
   "source": [
    "#### 2. Функция для нахождения максимума в списке чисел\n",
    "\n",
    "По данному списку lst **верните** максимальный элемент списка.\n",
    "\n",
    "`Входные данные`\n",
    "\n",
    "`[1, 4, 9, 162, 25, 36, 49]`\n",
    "\n",
    "`Выходные данные`\n",
    "\n",
    "`162`"
   ]
  },
  {
   "cell_type": "code",
   "execution_count": 140,
   "metadata": {},
   "outputs": [],
   "source": [
    "def find_maximum(lst):\n",
    "    maximum = lst[0]\n",
    "    for i in lst:\n",
    "        if i > maximum:\n",
    "            maximum = i\n",
    "            \n",
    "    return maximum"
   ]
  },
  {
   "cell_type": "code",
   "execution_count": 143,
   "metadata": {},
   "outputs": [
    {
     "data": {
      "text/plain": [
       "255"
      ]
     },
     "execution_count": 143,
     "metadata": {},
     "output_type": "execute_result"
    }
   ],
   "source": [
    "spisok = [1, 4, 9, 12, 255, 36, 49]\n",
    "\n",
    "find_maximum(spisok)"
   ]
  },
  {
   "cell_type": "code",
   "execution_count": 148,
   "metadata": {},
   "outputs": [
    {
     "name": "stdout",
     "output_type": "stream",
     "text": [
      "122\n"
     ]
    }
   ],
   "source": [
    "lst = [1, 4, 9, 122, 25, 36, 49]\n",
    "maximum = lst[0]\n",
    "\n",
    "for i in lst:\n",
    "    if i > maximum:\n",
    "        maximum = i\n",
    "\n",
    "print(maximum)"
   ]
  },
  {
   "cell_type": "code",
   "execution_count": null,
   "metadata": {},
   "outputs": [],
   "source": []
  },
  {
   "cell_type": "code",
   "execution_count": null,
   "metadata": {},
   "outputs": [],
   "source": []
  },
  {
   "cell_type": "code",
   "execution_count": null,
   "metadata": {},
   "outputs": [],
   "source": []
  },
  {
   "cell_type": "code",
   "execution_count": null,
   "metadata": {},
   "outputs": [],
   "source": []
  },
  {
   "cell_type": "code",
   "execution_count": 147,
   "metadata": {},
   "outputs": [
    {
     "data": {
      "text/plain": [
       "78"
      ]
     },
     "execution_count": 147,
     "metadata": {},
     "output_type": "execute_result"
    }
   ],
   "source": [
    "j = [5, 6,78, 34, 2]\n",
    "find_maximum(j)"
   ]
  },
  {
   "cell_type": "code",
   "execution_count": null,
   "metadata": {},
   "outputs": [],
   "source": []
  },
  {
   "cell_type": "markdown",
   "metadata": {},
   "source": [
    "#### 3. Функция для замены точек на запятую.\n",
    "\n",
    "На вход функции подается текст, в котором содержатся точки, верните тот же текст, но заменив точки на запятые.\n",
    "\n",
    "`Входные данные`\n",
    "\n",
    "`Это текст, для проверки, работы функции!`\n",
    "\n",
    "`Выходные данные`\n",
    "\n",
    "`Это текст. для проверки. работы функции!`"
   ]
  },
  {
   "cell_type": "code",
   "execution_count": null,
   "metadata": {},
   "outputs": [],
   "source": []
  },
  {
   "cell_type": "markdown",
   "metadata": {},
   "source": [
    "#### 4. Функция для округления списка чисел.\n",
    "\n",
    "На вход функции подается список дробных чисел. Верните список, в котором числа округлены (вниз) и имеют тип данных `int`\n",
    "\n",
    "`Входные данные`\n",
    "\n",
    "`[1.3, 5.22, 4.86]`\n",
    "\n",
    "`Выходные данные`\n",
    "\n",
    "`[1, 5, 4]`"
   ]
  },
  {
   "cell_type": "code",
   "execution_count": 153,
   "metadata": {},
   "outputs": [],
   "source": [
    "lst_float = [1.3, 5.22, 4.86]\n",
    "lst_int = []\n",
    "\n",
    "for i in lst_float:\n",
    "    i = int(i)\n",
    "    lst_int.append(i)"
   ]
  },
  {
   "cell_type": "code",
   "execution_count": 2,
   "metadata": {},
   "outputs": [],
   "source": [
    "def rounder(lst_float):\n",
    "    lst_int = []\n",
    "\n",
    "    for i in lst_float:\n",
    "        i = int(i)\n",
    "        lst_int.append(i)\n",
    "    \n",
    "    return lst_int"
   ]
  },
  {
   "cell_type": "code",
   "execution_count": 3,
   "metadata": {},
   "outputs": [
    {
     "data": {
      "text/plain": [
       "[5, 34, 35]"
      ]
     },
     "execution_count": 3,
     "metadata": {},
     "output_type": "execute_result"
    }
   ],
   "source": [
    "k = [5.66, 34.6, 35.7]\n",
    "rounder(k)"
   ]
  },
  {
   "cell_type": "markdown",
   "metadata": {},
   "source": [
    "#### 5. Функция для нахождения отличников.\n",
    "\n",
    "На вход функции подаются два списка:\n",
    "1. Список имен студентов\n",
    "2. Список оценок этих студентов\n",
    "\n",
    "Верните имена отличников (оценка = 5).\n",
    "\n",
    "`Входные данные`\n",
    "\n",
    "`names = ['Lucie','Mark', 'Lutz', 'John', 'Maria']`\n",
    "\n",
    "`marks = [5, 4, 5, 3, 4]`\n",
    "\n",
    "`Выходные данные`\n",
    "\n",
    "`['Lucie', 'Lutz']`"
   ]
  },
  {
   "cell_type": "code",
   "execution_count": null,
   "metadata": {},
   "outputs": [],
   "source": []
  },
  {
   "cell_type": "markdown",
   "metadata": {},
   "source": [
    "#### 6. Функция Модуль.\n",
    "\n",
    "На вход функции подается список чисел типа `int`. Верните список чисел, заменив знак отрицательных чисел на положительный.\n",
    "\n",
    "\n",
    "`Входные данные`\n",
    "\n",
    "``\n",
    "\n",
    "`[5, -8, 4, 5, -12, 0, 3, 4]`\n",
    "\n",
    "`Выходные данные`\n",
    "\n",
    "`[5, 8, 4, 5, 12, 0, 3, 4]`"
   ]
  },
  {
   "cell_type": "code",
   "execution_count": null,
   "metadata": {},
   "outputs": [],
   "source": []
  },
  {
   "cell_type": "markdown",
   "metadata": {},
   "source": [
    "#### 7. Функция для фильтрации чисел.\n",
    "\n",
    "На вход функции подается список чисел типа `int`. Верните список без 0.\n",
    "\n",
    "\n",
    "`Входные данные`\n",
    "\n",
    "``\n",
    "\n",
    "`[5, 0, 4, 5, 0, 0, 3, 4]`\n",
    "\n",
    "`Выходные данные`\n",
    "\n",
    "`[5, 4, 5, 3, 4]`"
   ]
  },
  {
   "cell_type": "code",
   "execution_count": 15,
   "metadata": {},
   "outputs": [],
   "source": [
    "def zero_remover(spisok):\n",
    "    new_spisok = []\n",
    "    for i in spisok:\n",
    "        if i > 0:\n",
    "            new_spisok.append(i)\n",
    "            \n",
    "    return new_spisok"
   ]
  },
  {
   "cell_type": "code",
   "execution_count": 17,
   "metadata": {},
   "outputs": [
    {
     "data": {
      "text/plain": [
       "[5, 4, 5, 3, 4]"
      ]
     },
     "execution_count": 17,
     "metadata": {},
     "output_type": "execute_result"
    }
   ],
   "source": [
    "zero_remover(lst1)"
   ]
  },
  {
   "cell_type": "code",
   "execution_count": 18,
   "metadata": {},
   "outputs": [
    {
     "data": {
      "text/plain": [
       "[5, 1, 1, 3, 4]"
      ]
     },
     "execution_count": 18,
     "metadata": {},
     "output_type": "execute_result"
    }
   ],
   "source": [
    "zero_remover(lst2)"
   ]
  }
 ],
 "metadata": {
  "kernelspec": {
   "display_name": "Python 3",
   "language": "python",
   "name": "python3"
  },
  "language_info": {
   "codemirror_mode": {
    "name": "ipython",
    "version": 3
   },
   "file_extension": ".py",
   "mimetype": "text/x-python",
   "name": "python",
   "nbconvert_exporter": "python",
   "pygments_lexer": "ipython3",
   "version": "3.8.3"
  }
 },
 "nbformat": 4,
 "nbformat_minor": 5
}
