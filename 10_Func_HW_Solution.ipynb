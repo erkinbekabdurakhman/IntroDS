{
 "cells": [
  {
   "cell_type": "markdown",
   "metadata": {},
   "source": [
    "Atalov S. DevCIT"
   ]
  },
  {
   "cell_type": "markdown",
   "metadata": {},
   "source": [
    "## 1. Создайте функцию которая принимает аргументом целое число и возвращает \"Четное\" если число четное или иначе \"Нечетное\".\n",
    "\n",
    "Вход:\n",
    "\n",
    "5\n",
    "\n",
    "Выход:\n",
    "\n",
    "Нечетное"
   ]
  },
  {
   "cell_type": "code",
   "execution_count": 1,
   "metadata": {},
   "outputs": [],
   "source": [
    "def check(n):\n",
    "    if n % 2 == 0:\n",
    "        return \"Четное\"\n",
    "    else:\n",
    "        return \"Нечетное\""
   ]
  },
  {
   "cell_type": "code",
   "execution_count": 2,
   "metadata": {},
   "outputs": [
    {
     "data": {
      "text/plain": [
       "'Нечетное'"
      ]
     },
     "execution_count": 2,
     "metadata": {},
     "output_type": "execute_result"
    }
   ],
   "source": [
    "check(5)"
   ]
  },
  {
   "cell_type": "markdown",
   "metadata": {},
   "source": [
    "## 2. Создайте функцию которая принимает аргументом список с числами, верните сумму четных чисел.\n",
    "\n",
    "Вход:\n",
    "\n",
    "[1, 2, 3, 4]\n",
    "\n",
    "Выход:\n",
    "\n",
    "6"
   ]
  },
  {
   "cell_type": "code",
   "execution_count": 3,
   "metadata": {},
   "outputs": [],
   "source": [
    "def even_sum(L):\n",
    "    s = sum([i for i in L if i % 2 == 0])\n",
    "    return s"
   ]
  },
  {
   "cell_type": "code",
   "execution_count": 4,
   "metadata": {},
   "outputs": [
    {
     "data": {
      "text/plain": [
       "6"
      ]
     },
     "execution_count": 4,
     "metadata": {},
     "output_type": "execute_result"
    }
   ],
   "source": [
    "even_sum([1, 2, 3, 4])"
   ]
  },
  {
   "cell_type": "markdown",
   "metadata": {},
   "source": [
    "## 3. Создайте функцию которая принимает аргументом список с числами, верните список первый элемент которого  - количество положительных чисел, а второй элемент - сумма отрицательных чисел.\n",
    "\n",
    "Вход:\n",
    "\n",
    "[1, 2, 3, 4, 5, 6, 7, 8, 9, 10, -11, -12, -13, -14, -15]\n",
    "\n",
    "Выход:\n",
    "\n",
    "[10, -65]."
   ]
  },
  {
   "cell_type": "code",
   "execution_count": 5,
   "metadata": {},
   "outputs": [],
   "source": [
    "def func(L):\n",
    "    positive_count = 0\n",
    "    negative_sum = 0\n",
    "    for i in L:\n",
    "        if i > 0:\n",
    "            positive_count += 1\n",
    "        else:\n",
    "            negative_sum += i\n",
    "    answer =  [positive_count, negative_sum]       \n",
    "    return answer"
   ]
  },
  {
   "cell_type": "code",
   "execution_count": 6,
   "metadata": {},
   "outputs": [
    {
     "data": {
      "text/plain": [
       "[10, -65]"
      ]
     },
     "execution_count": 6,
     "metadata": {},
     "output_type": "execute_result"
    }
   ],
   "source": [
    "func([1, 2, 3, 4, 5, 6, 7, 8, 9, 10, -11, -12, -13, -14, -15])"
   ]
  },
  {
   "cell_type": "markdown",
   "metadata": {},
   "source": [
    "## 4. Фильтр чисел. Создайте функцию которая принимает аргументом список с числами и строками, верните список с числами, убрав строки.\n",
    "\n",
    "```\n",
    "filter_list([1,2,'a','b']) == [1,2]\n",
    "filter_list([1,'a','b',0,15]) == [1,0,15]\n",
    "filter_list([1,2,'aasf','1','123',123]) == [1,2,123]\n",
    "```"
   ]
  },
  {
   "cell_type": "code",
   "execution_count": 7,
   "metadata": {},
   "outputs": [],
   "source": [
    "def filter_list(L):\n",
    "    numbers = [i for i in L if type(i) == int]\n",
    "    return numbers"
   ]
  },
  {
   "cell_type": "code",
   "execution_count": 8,
   "metadata": {},
   "outputs": [
    {
     "data": {
      "text/plain": [
       "[1, 2, 123]"
      ]
     },
     "execution_count": 8,
     "metadata": {},
     "output_type": "execute_result"
    }
   ],
   "source": [
    "filter_list([1,2,'aasf','1','123',123])"
   ]
  },
  {
   "cell_type": "markdown",
   "metadata": {},
   "source": [
    "## 5. Создайте функцию которая принимает аргументом целое число и возвращает число с обратным знаком.\n",
    "\n",
    "```\n",
    "1: -1\n",
    "14: -14\n",
    "-34: 34\n",
    "```"
   ]
  },
  {
   "cell_type": "code",
   "execution_count": 9,
   "metadata": {},
   "outputs": [],
   "source": [
    "def sign(n):\n",
    "    return -n"
   ]
  },
  {
   "cell_type": "code",
   "execution_count": 10,
   "metadata": {},
   "outputs": [
    {
     "data": {
      "text/plain": [
       "14"
      ]
     },
     "execution_count": 10,
     "metadata": {},
     "output_type": "execute_result"
    }
   ],
   "source": [
    "sign(-14)"
   ]
  },
  {
   "cell_type": "markdown",
   "metadata": {},
   "source": [
    "## 6. Создайте функцию которая принимает аргументом строку и возвращает новую строку без первого и последнего знака.\n",
    "\n",
    "Вход:\n",
    "\n",
    "Hello\n",
    "\n",
    "Выход:\n",
    "\n",
    "ell"
   ]
  },
  {
   "cell_type": "code",
   "execution_count": 11,
   "metadata": {},
   "outputs": [],
   "source": [
    "def cut(string):\n",
    "    new_string = string[1:-1]\n",
    "    return new_string"
   ]
  },
  {
   "cell_type": "code",
   "execution_count": 12,
   "metadata": {},
   "outputs": [
    {
     "data": {
      "text/plain": [
       "'ell'"
      ]
     },
     "execution_count": 12,
     "metadata": {},
     "output_type": "execute_result"
    }
   ],
   "source": [
    "cut('Hello')"
   ]
  },
  {
   "cell_type": "markdown",
   "metadata": {},
   "source": [
    "## 7. Создайте функцию `accum` по аналогии входа и выхода в примере:\n",
    "```\n",
    "accum(\"abcd\") -> \"a-bb-ccc-dddd\"\n",
    "accum(\"RqaEzty\") -> \"R-qq-aaa-EEEE-zzzzz-tttttt-yyyyyyy\"\n",
    "accum(\"cwAt\") -> \"c-ww-AAA-tttt\"\n",
    "```"
   ]
  },
  {
   "cell_type": "code",
   "execution_count": 13,
   "metadata": {},
   "outputs": [],
   "source": [
    "def accum(string):\n",
    "    new_string = []\n",
    "    for i in range(len(string)):\n",
    "        new_string.append(string[i] * (i+1))\n",
    "    \n",
    "    return \"-\".join(new_string)"
   ]
  },
  {
   "cell_type": "code",
   "execution_count": 14,
   "metadata": {},
   "outputs": [
    {
     "data": {
      "text/plain": [
       "'R-qq-aaa-EEEE-zzzzz-tttttt-yyyyyyy'"
      ]
     },
     "execution_count": 14,
     "metadata": {},
     "output_type": "execute_result"
    }
   ],
   "source": [
    "accum(\"RqaEzty\")"
   ]
  },
  {
   "cell_type": "markdown",
   "metadata": {},
   "source": [
    "## 8. Изограмма - это слово, в котором нет повторяющихся букв. Создайте функцию `is_isogram`, которое проверяет является ли слово изограммой. \n",
    "\n",
    "```\n",
    "is_isogram(\"Dermatoglyphics\" ) == True\n",
    "is_isogram(\"aba\" ) == False\n",
    "is_isogram(\"moOse\" ) == False\n",
    "```"
   ]
  },
  {
   "cell_type": "code",
   "execution_count": 15,
   "metadata": {},
   "outputs": [],
   "source": [
    "def is_isogram(string):\n",
    "    string = string.lower()\n",
    "    for i in string:\n",
    "        if string.count(i) > 1:\n",
    "            return False\n",
    "        \n",
    "    return True"
   ]
  },
  {
   "cell_type": "code",
   "execution_count": 16,
   "metadata": {},
   "outputs": [
    {
     "data": {
      "text/plain": [
       "True"
      ]
     },
     "execution_count": 16,
     "metadata": {},
     "output_type": "execute_result"
    }
   ],
   "source": [
    "is_isogram(\"Dermatoglyphics\")"
   ]
  },
  {
   "cell_type": "markdown",
   "metadata": {},
   "source": [
    "## 9. На вход функции подаются слова. Выведите самое короткое слово.\n",
    "\n",
    "```\n",
    "shortest_word(\"Привет как дела\" ) => \"как\"\n",
    "```"
   ]
  },
  {
   "cell_type": "code",
   "execution_count": 17,
   "metadata": {},
   "outputs": [],
   "source": [
    "def shortest_word(string):\n",
    "    string = string.split(\" \")\n",
    "    short_word = string[0]\n",
    "    short_length = len(string[0])\n",
    "    for i in string:\n",
    "        if len(i) < short_length:\n",
    "            short_length = len(i)\n",
    "            short_word = i\n",
    "    \n",
    "    return short_word"
   ]
  },
  {
   "cell_type": "code",
   "execution_count": 18,
   "metadata": {},
   "outputs": [
    {
     "data": {
      "text/plain": [
       "'как'"
      ]
     },
     "execution_count": 18,
     "metadata": {},
     "output_type": "execute_result"
    }
   ],
   "source": [
    "shortest_word(\"Привет как дела\")"
   ]
  },
  {
   "cell_type": "markdown",
   "metadata": {},
   "source": [
    "## 10. Маскировка номера карты. На вход функции подаются числа. Выведите только последние 4 цифры, заменив остальные символом `#`.\n",
    "\n",
    "```\n",
    "maskify(\"4556364607935616\") == \"############5616\"\n",
    "maskify(     \"64607935616\") ==      \"#######5616\"\n",
    "```"
   ]
  },
  {
   "cell_type": "code",
   "execution_count": 19,
   "metadata": {},
   "outputs": [],
   "source": [
    "def maskify(card_number):\n",
    "    masked = '#' * len(card_number[:-4]) + card_number[-4::]\n",
    "    return masked"
   ]
  },
  {
   "cell_type": "code",
   "execution_count": 20,
   "metadata": {},
   "outputs": [
    {
     "data": {
      "text/plain": [
       "'#######5616'"
      ]
     },
     "execution_count": 20,
     "metadata": {},
     "output_type": "execute_result"
    }
   ],
   "source": [
    "maskify(\"64607935616\")"
   ]
  }
 ],
 "metadata": {
  "kernelspec": {
   "display_name": "Python 3",
   "language": "python",
   "name": "python3"
  },
  "language_info": {
   "codemirror_mode": {
    "name": "ipython",
    "version": 3
   },
   "file_extension": ".py",
   "mimetype": "text/x-python",
   "name": "python",
   "nbconvert_exporter": "python",
   "pygments_lexer": "ipython3",
   "version": "3.8.8"
  }
 },
 "nbformat": 4,
 "nbformat_minor": 2
}
