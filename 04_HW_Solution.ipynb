{
 "cells": [
  {
   "cell_type": "markdown",
   "metadata": {
    "id": "o6QLvsYhJmYx"
   },
   "source": [
    "### 1. На вход подается число от 0 до 1000.\n",
    "\n",
    "Если число от 0 до 99, программа должна вернуть \"Ваше число меньше 100\".\n",
    "\n",
    "Если число от 100 до 499, программа должна вернуть \"Ваше число меньше 500, но больше 100\".\n",
    "\n",
    "Если число от 500 до 1000, программа должна вернуть \"Ваше число меньше 1000, но больше 500\"."
   ]
  },
  {
   "cell_type": "code",
   "execution_count": 1,
   "metadata": {
    "id": "8ZblpGrqJmY8"
   },
   "outputs": [
    {
     "name": "stdout",
     "output_type": "stream",
     "text": [
      "501\n",
      "Ваше число меньше 1000, но больше 500\n"
     ]
    }
   ],
   "source": [
    "n = int(input())\n",
    "\n",
    "if n < 100 and n >= 0:\n",
    "    print(\"Ваше число меньше 100\")\n",
    "elif n < 500 and n >= 100:\n",
    "    print(\"Ваше число меньше 500, но больше 100\")\n",
    "elif n < 1000 and n >= 500:\n",
    "    print(\"Ваше число меньше 1000, но больше 500\")"
   ]
  },
  {
   "cell_type": "markdown",
   "metadata": {
    "id": "F4Iu4ZJBJmY9"
   },
   "source": [
    "### 2. На вход подаются длина и ширина прямоугольника. Если они равны, выведите, что это квадрат. Иначе \"это прямоугольник\".\n",
    "\n",
    "**Пример**\n",
    "\n",
    "`input`\n",
    "\n",
    "`5`\n",
    "\n",
    "`3`\n",
    "\n",
    "`output`\n",
    "\n",
    "`\"Это прямоугольник\"`"
   ]
  },
  {
   "cell_type": "code",
   "execution_count": 2,
   "metadata": {
    "id": "TS5gtiKJJmY-"
   },
   "outputs": [
    {
     "name": "stdout",
     "output_type": "stream",
     "text": [
      "5\n",
      "3\n",
      "это прямоугольник\n"
     ]
    }
   ],
   "source": [
    "a = int(input())\n",
    "b = int(input())\n",
    "\n",
    "if a == b:\n",
    "    print(\"это квадрат\")\n",
    "else:\n",
    "    print(\"это прямоугольник\")"
   ]
  },
  {
   "cell_type": "markdown",
   "metadata": {
    "id": "F2rJayuoJmY-"
   },
   "source": [
    "### 3. Программа для выставления оценок. На вход подается количество баллов от 0 до 100. Выставите оценку по указанной ниже системе.\n",
    "\n",
    "Имеется следующая система выставления оценок:\n",
    "\n",
    "1. ниже 25 - F\n",
    "2. от 25 до 45 - E\n",
    "3. от 45 до 50 - D\n",
    "4. от 50 до 60 - C\n",
    "5. от 60 до 80 - B\n",
    "6. Выше 80 - A"
   ]
  },
  {
   "cell_type": "code",
   "execution_count": 3,
   "metadata": {
    "id": "nBHp2COgJmY_"
   },
   "outputs": [],
   "source": [
    "# логика такая же как в 1 задании"
   ]
  },
  {
   "cell_type": "markdown",
   "metadata": {
    "id": "084_kWxNJmY_"
   },
   "source": [
    "### 4. Собака или кошка?\n",
    "\n",
    "На вход подается слово \"dog\" или \"cat\".\n",
    "\n",
    "Если \"dog\", выведите \"bark\"\n",
    "\n",
    "Если \"cat\", выведите \"meow\""
   ]
  },
  {
   "cell_type": "code",
   "execution_count": 14,
   "metadata": {
    "id": "B8G2wO-1JmY_"
   },
   "outputs": [
    {
     "name": "stdout",
     "output_type": "stream",
     "text": [
      "dog\n",
      "bark\n"
     ]
    }
   ],
   "source": [
    "word = input()\n",
    "\n",
    "if word == \"dog\":\n",
    "    print(\"bark\")\n",
    "elif word == \"cat\":\n",
    "    print(\"meow\")"
   ]
  },
  {
   "cell_type": "markdown",
   "metadata": {
    "id": "n7YO_a5_JmZA"
   },
   "source": [
    "### 5. На вход подается положительное число, определите четное оно или нечетное.\n",
    "\n",
    "**Пример**\n",
    "\n",
    "`input`\n",
    "\n",
    "`5`\n",
    "\n",
    "`output`\n",
    "\n",
    "`\"Это число нечетное\"`"
   ]
  },
  {
   "cell_type": "code",
   "execution_count": 5,
   "metadata": {
    "id": "eyN_YZJLJmZA"
   },
   "outputs": [
    {
     "name": "stdout",
     "output_type": "stream",
     "text": [
      "5\n",
      "нечетное\n"
     ]
    }
   ],
   "source": [
    "n = int(input())\n",
    "\n",
    "if n % 2 == 0:\n",
    "    print('четное')\n",
    "else:\n",
    "    print('нечетное')"
   ]
  },
  {
   "cell_type": "markdown",
   "metadata": {
    "id": "q_ikVDucJmZA"
   },
   "source": [
    "### 6. Программа получает на вход последовательность целых неотрицательных чисел по одному. Последовательность завершается числом 0, при считывании которого программа должна закончить свою работу и вывести количество **нечетных** членов последовательности (не считая завершающего числа 0).\n",
    "\n",
    "**Пример**\n",
    "\n",
    "`input`\n",
    "\n",
    "`5`\n",
    "\n",
    "`2`\n",
    "\n",
    "`1`\n",
    "\n",
    "`0`\n",
    "\n",
    "`output`\n",
    "\n",
    "`2`"
   ]
  },
  {
   "cell_type": "code",
   "execution_count": 6,
   "metadata": {
    "id": "rtf7Sko9JmZB"
   },
   "outputs": [
    {
     "name": "stdout",
     "output_type": "stream",
     "text": [
      "5\n",
      "2\n",
      "1\n",
      "0\n",
      "Количество нечетных чисел: 2\n"
     ]
    }
   ],
   "source": [
    "n = int(input())\n",
    "nechetnye = 0\n",
    "while n != 0:\n",
    "    if n % 2 != 0:\n",
    "        nechetnye += 1\n",
    "    n = int(input())\n",
    "    \n",
    "print(f\"Количество нечетных чисел: {nechetnye}\")"
   ]
  },
  {
   "cell_type": "markdown",
   "metadata": {
    "id": "FlfzyKD8JmZB"
   },
   "source": [
    "### 7.  На вход подается число, поменяйте знак числа и верните.\n",
    "Если оно положительно верните со знаком минус, если отрицательно без знака минус.\n",
    "\n",
    "**Пример**\n",
    "\n",
    "`input`\n",
    "\n",
    "`5`\n",
    "\n",
    "`output`\n",
    "\n",
    "`-5`\n",
    "\n",
    "`input`\n",
    "\n",
    "`-78`\n",
    "\n",
    "`output`\n",
    "\n",
    "`78`"
   ]
  },
  {
   "cell_type": "code",
   "execution_count": 7,
   "metadata": {
    "id": "gO9fP07GJmZB"
   },
   "outputs": [
    {
     "name": "stdout",
     "output_type": "stream",
     "text": [
      "5\n",
      "-5\n"
     ]
    }
   ],
   "source": [
    "n = int(input())\n",
    "print(-1*n)"
   ]
  },
  {
   "cell_type": "markdown",
   "metadata": {
    "id": "bXCyPqTmJmZC"
   },
   "source": [
    "### 8.  Программа получает на вход последовательность целых неотрицательных чисел по одному. Последовательность завершается числом 0, при считывании которого программа должна закончить свою работу и вывести максимальное и минимальное число в последовательности (не считая завершающего числа 0).\n",
    "\n",
    "**Пример**\n",
    "\n",
    "`input`\n",
    "\n",
    "`5`\n",
    "\n",
    "`2`\n",
    "\n",
    "`1`\n",
    "\n",
    "`3`\n",
    "\n",
    "`0`\n",
    "\n",
    "`output`\n",
    "\n",
    "`максимум: 5`\n",
    "\n",
    "`минимум: 1`"
   ]
  },
  {
   "cell_type": "code",
   "execution_count": 8,
   "metadata": {
    "id": "qoJC62fsJmZC"
   },
   "outputs": [
    {
     "name": "stdout",
     "output_type": "stream",
     "text": [
      "5\n",
      "2\n",
      "1\n",
      "3\n",
      "0\n",
      "Максимум из чисел: 5\n",
      "Минимум из чисел: 1\n"
     ]
    }
   ],
   "source": [
    "n = int(input())\n",
    "minimum = n\n",
    "maximum = n\n",
    "while n != 0:\n",
    "    if minimum > n:\n",
    "        minimum = n\n",
    "    if maximum < n:\n",
    "        maximum = n\n",
    "    n = int(input())\n",
    "    \n",
    "print(f\"Максимум из чисел: {maximum}\")\n",
    "print(f\"Минимум из чисел: {minimum}\")"
   ]
  },
  {
   "cell_type": "markdown",
   "metadata": {
    "id": "SKt4pg7AJmZC"
   },
   "source": [
    "### 9. На вход подается 1 или 0. Выведите `True` если 1, иначе `False`.\n",
    "\n",
    "**Пример**\n",
    "\n",
    "`input`\n",
    "\n",
    "`0`\n",
    "\n",
    "`output`\n",
    "\n",
    "`False`"
   ]
  },
  {
   "cell_type": "code",
   "execution_count": 9,
   "metadata": {
    "id": "LO-XZvBAJmZD"
   },
   "outputs": [
    {
     "name": "stdout",
     "output_type": "stream",
     "text": [
      "1\n",
      "True\n"
     ]
    }
   ],
   "source": [
    "n = int(input())\n",
    "print(bool(n))"
   ]
  },
  {
   "cell_type": "markdown",
   "metadata": {
    "id": "xrk6HH2ZJmZD"
   },
   "source": [
    "### 10. На вход подается целое положительное число. Напечатайте столько же раз слово \"hi\"\n",
    "\n",
    "**Пример**\n",
    "\n",
    "`input`\n",
    "\n",
    "`5`\n",
    "\n",
    "`output`\n",
    "\n",
    "`hi hi hi hi hi`"
   ]
  },
  {
   "cell_type": "code",
   "execution_count": 10,
   "metadata": {
    "id": "P6ZeqNziJmZD"
   },
   "outputs": [
    {
     "name": "stdout",
     "output_type": "stream",
     "text": [
      "5\n",
      "hi hi hi hi hi \n"
     ]
    }
   ],
   "source": [
    "n = int(input())\n",
    "\n",
    "print(\"hi \" * n)"
   ]
  },
  {
   "cell_type": "markdown",
   "metadata": {
    "id": "nqfB6wC9JmZE"
   },
   "source": [
    "###  11. Программа получает на вход последовательность целых неотрицательных чисел по одному. Последовательность завершается числом 0, при считывании которого программа должна закончить свою работу и вывести числа в ряд без пробела (не считая завершающего числа 0).\n",
    "\n",
    "**Пример**\n",
    "\n",
    "`input`\n",
    "\n",
    "`5`\n",
    "\n",
    "`2`\n",
    "\n",
    "`1`\n",
    "\n",
    "`3`\n",
    "\n",
    "`0`\n",
    "\n",
    "`output`\n",
    "\n",
    "`5213`\n"
   ]
  },
  {
   "cell_type": "code",
   "execution_count": 11,
   "metadata": {
    "id": "qJEe9QzXJmZE"
   },
   "outputs": [
    {
     "name": "stdout",
     "output_type": "stream",
     "text": [
      "5\n",
      "2\n",
      "1\n",
      "0\n",
      "521\n"
     ]
    }
   ],
   "source": [
    "n = int(input())\n",
    "chisla = \"\" #или можно str()\n",
    "while n != 0:\n",
    "    chisla += str(n) # \"склеивание\" строк\n",
    "    n = int(input())\n",
    "    \n",
    "print(chisla)"
   ]
  },
  {
   "cell_type": "markdown",
   "metadata": {
    "id": "C3vgiRpxJmZF"
   },
   "source": [
    "### 12. Среднее значение последовательности.\n",
    "\n",
    "Определите среднее значение всех элементов последовательности, завершающейся числом 0.\n",
    "\n",
    "`Входные данные`\n",
    "\n",
    "Вводится последовательность целых чисел, оканчивающаяся числом 0 (само число 0 в последовательность не входит, а служит как признак ее окончания.\n",
    "\n",
    "`Выходные данные`\n",
    "\n",
    "Выведите ответ на задачу.\n",
    "\n",
    "`Примеры`\n",
    "\n",
    "`входные данные`\n",
    "\n",
    "`1`\n",
    "\n",
    "`7`\n",
    "\n",
    "`9`\n",
    "\n",
    "`0`\n",
    "\n",
    "`выходные данные`\n",
    "\n",
    "`5.66666666667`\n",
    "\n",
    "\n",
    "`hint: (1+7+9) / 3 = 5.6667`"
   ]
  },
  {
   "cell_type": "code",
   "execution_count": 12,
   "metadata": {
    "id": "tQpWBlZhJmZF"
   },
   "outputs": [
    {
     "name": "stdout",
     "output_type": "stream",
     "text": [
      "1\n",
      "7\n",
      "9\n",
      "0\n",
      "5.666666666666667\n"
     ]
    }
   ],
   "source": [
    "n = int(input())\n",
    "s = 0\n",
    "i = 0\n",
    "\n",
    "while n != 0:\n",
    "    s += n # считаем сумму\n",
    "    i += 1 # считаем количество\n",
    "    n = int(input())\n",
    "    \n",
    "print(s/i) # среднее как сумма разделить на количество"
   ]
  },
  {
   "cell_type": "markdown",
   "metadata": {
    "id": "Ms2osk7oJmZF"
   },
   "source": [
    "### 13. Список квадратов\n",
    "\n",
    "По данному целому числу N распечатайте все квадраты натуральных чисел, не превосходящие N, в порядке возрастания.\n",
    "\n",
    "`Входные данные`\n",
    "\n",
    "`50`\n",
    "\n",
    "`Выходные данные`\n",
    "\n",
    "`1 4 9 16 25 36 49`"
   ]
  },
  {
   "cell_type": "code",
   "execution_count": 13,
   "metadata": {
    "id": "tMn38N9VJmZG"
   },
   "outputs": [
    {
     "name": "stdout",
     "output_type": "stream",
     "text": [
      "50\n",
      "1 4 9 16 25 36 49 "
     ]
    }
   ],
   "source": [
    "n = int(input())\n",
    "i = 1\n",
    "while i**2 < n:\n",
    "    print(i**2, end= \" \")\n",
    "    i += 1"
   ]
  }
 ],
 "metadata": {
  "colab": {
   "name": "04_HW.ipynb",
   "provenance": []
  },
  "kernelspec": {
   "display_name": "Python 3",
   "language": "python",
   "name": "python3"
  },
  "language_info": {
   "codemirror_mode": {
    "name": "ipython",
    "version": 3
   },
   "file_extension": ".py",
   "mimetype": "text/x-python",
   "name": "python",
   "nbconvert_exporter": "python",
   "pygments_lexer": "ipython3",
   "version": "3.8.2"
  }
 },
 "nbformat": 4,
 "nbformat_minor": 1
}
