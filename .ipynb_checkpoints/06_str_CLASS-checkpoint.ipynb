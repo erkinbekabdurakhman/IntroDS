{
 "cells": [
  {
   "cell_type": "markdown",
   "metadata": {
    "id": "cwdbWPLQ9TzK"
   },
   "source": [
    "Atalov S. (DevCIT)"
   ]
  },
  {
   "cell_type": "markdown",
   "metadata": {},
   "source": [
    "## Повторение цикла for"
   ]
  },
  {
   "cell_type": "code",
   "execution_count": 1,
   "metadata": {},
   "outputs": [],
   "source": [
    "summa = 0\n",
    "\n",
    "for x in 'Hello':\n",
    "    summa += 1"
   ]
  },
  {
   "cell_type": "code",
   "execution_count": 2,
   "metadata": {},
   "outputs": [
    {
     "name": "stdout",
     "output_type": "stream",
     "text": [
      "5\n"
     ]
    }
   ],
   "source": [
    "print(summa)"
   ]
  },
  {
   "cell_type": "code",
   "execution_count": 4,
   "metadata": {},
   "outputs": [
    {
     "name": "stdout",
     "output_type": "stream",
     "text": [
      "20\n",
      "22\n",
      "24\n",
      "26\n",
      "28\n"
     ]
    }
   ],
   "source": [
    "for n in range(19, 30, 1):\n",
    "    if n % 2 == 0:\n",
    "        print(n)"
   ]
  },
  {
   "cell_type": "code",
   "execution_count": null,
   "metadata": {},
   "outputs": [],
   "source": [
    "\n",
    "    "
   ]
  },
  {
   "cell_type": "code",
   "execution_count": null,
   "metadata": {},
   "outputs": [],
   "source": []
  },
  {
   "cell_type": "code",
   "execution_count": null,
   "metadata": {},
   "outputs": [],
   "source": []
  },
  {
   "cell_type": "markdown",
   "metadata": {},
   "source": [
    "# Строки (индексация и методы)\n",
    "---"
   ]
  },
  {
   "cell_type": "code",
   "execution_count": 5,
   "metadata": {},
   "outputs": [
    {
     "name": "stdout",
     "output_type": "stream",
     "text": [
      "A\n",
      "l\n",
      "a\n",
      "n\n",
      " \n",
      "T\n",
      "u\n",
      "r\n",
      "i\n",
      "n\n",
      "g\n"
     ]
    }
   ],
   "source": [
    "name = \"Alan Turing\"\n",
    "# напечатайте в цикле каждый символ\n",
    "for i in name:\n",
    "    print(i)"
   ]
  },
  {
   "cell_type": "code",
   "execution_count": 6,
   "metadata": {},
   "outputs": [
    {
     "name": "stdout",
     "output_type": "stream",
     "text": [
      "A\n"
     ]
    }
   ],
   "source": [
    "# покажите первую букву в name\n",
    "for i in name:\n",
    "    if i == 'A':\n",
    "        print(i)"
   ]
  },
  {
   "cell_type": "code",
   "execution_count": 8,
   "metadata": {},
   "outputs": [],
   "source": [
    "name = \"Alan Turing\""
   ]
  },
  {
   "cell_type": "code",
   "execution_count": 10,
   "metadata": {},
   "outputs": [
    {
     "name": "stdout",
     "output_type": "stream",
     "text": [
      "A\n"
     ]
    }
   ],
   "source": [
    "# покажите первую букву в name\n",
    "print(name[0])"
   ]
  },
  {
   "cell_type": "code",
   "execution_count": 17,
   "metadata": {},
   "outputs": [
    {
     "data": {
      "text/plain": [
       "11"
      ]
     },
     "execution_count": 17,
     "metadata": {},
     "output_type": "execute_result"
    }
   ],
   "source": [
    "len(name)"
   ]
  },
  {
   "cell_type": "code",
   "execution_count": 18,
   "metadata": {},
   "outputs": [
    {
     "name": "stdout",
     "output_type": "stream",
     "text": [
      "A\n"
     ]
    }
   ],
   "source": [
    "print(name[0])"
   ]
  },
  {
   "cell_type": "code",
   "execution_count": 15,
   "metadata": {},
   "outputs": [
    {
     "name": "stdout",
     "output_type": "stream",
     "text": [
      "T\n"
     ]
    }
   ],
   "source": [
    "name = \"Alan Turing\"\n",
    "# покажите четвертую букву в name\n",
    "print( name[5] )"
   ]
  },
  {
   "cell_type": "code",
   "execution_count": null,
   "metadata": {},
   "outputs": [],
   "source": []
  },
  {
   "cell_type": "code",
   "execution_count": null,
   "metadata": {},
   "outputs": [],
   "source": []
  },
  {
   "cell_type": "markdown",
   "metadata": {
    "id": "19JHiJ8dBN0E"
   },
   "source": [
    "### **1. Срезы строк (Slices)**\n",
    "\n",
    "Срез (slice) — извлечение из данной строки одного символа или некоторого фрагмента подстроки или подпоследовательности.\n",
    "\n",
    "Есть три формы срезов. Самая простая форма среза: взятие одного символа строки, а именно, `S[i]` — это срез, состоящий из одного символа, который имеет номер i. При этом считается, что нумерация начинается с числа `0`. То есть если `S = 'Hello'`, то `S[0] == 'H'`, `S[1] == 'e'`, `S[2] == 'l'`, `S[3] == 'l'`, `S[4] == 'o'`.\n",
    "\n",
    "\n",
    "*Каждый объект, который получается в результате среза S[i] — это тоже строка типа str.*\n",
    "\n",
    "\n",
    "Номера символов в строке называются **индексом**."
   ]
  },
  {
   "cell_type": "code",
   "execution_count": 27,
   "metadata": {},
   "outputs": [
    {
     "data": {
      "text/plain": [
       "'5'"
      ]
     },
     "execution_count": 27,
     "metadata": {},
     "output_type": "execute_result"
    }
   ],
   "source": [
    "S = 'Hello5'\n",
    "S[5]\n"
   ]
  },
  {
   "cell_type": "markdown",
   "metadata": {
    "id": "IH1SX1F9B0j9"
   },
   "source": [
    "Если указать отрицательное значение индекса, то номер будет отсчитываться с конца, начиная с номера `-1`. То есть `S[-1] == 'o'`, `S[-2] == 'l'`, `S[-3] == 'l'`, `S[-4] == 'e'`, `S[-5] == 'H'`."
   ]
  },
  {
   "cell_type": "code",
   "execution_count": 45,
   "metadata": {},
   "outputs": [
    {
     "name": "stdout",
     "output_type": "stream",
     "text": [
      "y\n",
      "e\n",
      "l\n"
     ]
    }
   ],
   "source": [
    "S = 'Hello My name is Harry'\n",
    "print(S[-1])\n",
    "print(S[1])\n",
    "print(S[3])"
   ]
  },
  {
   "cell_type": "markdown",
   "metadata": {
    "id": "u9cf6fUhUoHz"
   },
   "source": [
    "![image.png](data:image/png;base64,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)\n",
    "\n"
   ]
  },
  {
   "cell_type": "markdown",
   "metadata": {
    "id": "9Q02Xy9EVVCq"
   },
   "source": [
    "Если же номер символа в срезе строки `S` больше либо равен `len(S)`, или меньше, чем `-len(S)`, то при обращении к этому символу строки произойдет ошибка `IndexError: string index out of range`"
   ]
  },
  {
   "cell_type": "code",
   "execution_count": 64,
   "metadata": {},
   "outputs": [],
   "source": [
    "S = 'Hello My name is Harry'"
   ]
  },
  {
   "cell_type": "code",
   "execution_count": 59,
   "metadata": {},
   "outputs": [
    {
     "data": {
      "text/plain": [
       "'Hello My name is Harry'"
      ]
     },
     "execution_count": 59,
     "metadata": {},
     "output_type": "execute_result"
    }
   ],
   "source": []
  },
  {
   "cell_type": "code",
   "execution_count": 62,
   "metadata": {},
   "outputs": [
    {
     "data": {
      "text/plain": [
       "'My name is Harry'"
      ]
     },
     "execution_count": 62,
     "metadata": {},
     "output_type": "execute_result"
    }
   ],
   "source": [
    "S"
   ]
  },
  {
   "cell_type": "markdown",
   "metadata": {
    "id": "dGdzZVWEVfCa"
   },
   "source": [
    "Срез с двумя параметрами: `S[a:b]` возвращает подстроку из `b - a` символов, начиная с символа c индексом a, то есть до символа с индексом `b`, не включая его. Например, `S[1:4] == 'ell'`, то же самое получится если написать `S[-4:-1]`. Можно использовать как положительные, так и отрицательные индексы в одном срезе, например, `S[1:-1]` — это строка без первого и последнего символа (срез начинается с символа с индексом `1` и заканчиватеся индексом `-1`, не включая его)."
   ]
  },
  {
   "cell_type": "code",
   "execution_count": null,
   "metadata": {},
   "outputs": [],
   "source": []
  },
  {
   "cell_type": "markdown",
   "metadata": {
    "id": "CAL1I7v7V7Vj"
   },
   "source": [
    "Если опустить второй параметр (но поставить двоеточие), то срез берется до конца строки. Например, чтобы удалить из строки первый символ (его индекс равен `0`), можно взять срез `S[1:]`. Аналогично если опустить первый параметр, то можно взять срез от начала строки. То есть удалить из строки последний символ можно при помощи среза `S[:-1]`. Срез `S[:]` совпадает с самой строкой `S`."
   ]
  },
  {
   "cell_type": "code",
   "execution_count": 65,
   "metadata": {},
   "outputs": [
    {
     "data": {
      "text/plain": [
       "'Hello My name is Harry'"
      ]
     },
     "execution_count": 65,
     "metadata": {},
     "output_type": "execute_result"
    }
   ],
   "source": [
    "S[:]"
   ]
  },
  {
   "cell_type": "markdown",
   "metadata": {
    "id": "_Jd3mYGBWFJm"
   },
   "source": [
    "*Любые операции среза со строкой создают новые строки и никогда не меняют исходную строку. В Питоне строки вообще являются неизменяемыми, их невозможно изменить. Можно лишь в старую переменную присвоить новую строку.*"
   ]
  },
  {
   "cell_type": "code",
   "execution_count": null,
   "metadata": {},
   "outputs": [],
   "source": [
    "S"
   ]
  },
  {
   "cell_type": "markdown",
   "metadata": {
    "id": "B4T-oU9DWMyn"
   },
   "source": [
    "Если задать срез с тремя параметрами `S[a:b:d]`, то третий параметр задает шаг. При задании значения третьего параметра, равному `2`, в срез попадет кажый второй символ, а если взять значение среза, равное `-1`, то символы будут идти в обратном порядке. Например, можно перевернуть строку срезом `S[::-1]`."
   ]
  },
  {
   "cell_type": "code",
   "execution_count": null,
   "metadata": {},
   "outputs": [],
   "source": []
  },
  {
   "cell_type": "markdown",
   "metadata": {
    "id": "mhQgLtmZCIxM"
   },
   "source": [
    "### **2. `in` str**"
   ]
  },
  {
   "cell_type": "markdown",
   "metadata": {
    "id": "cvhh2qA7CRRh"
   },
   "source": [
    "Проверяет наличие "
   ]
  },
  {
   "cell_type": "code",
   "execution_count": 97,
   "metadata": {},
   "outputs": [],
   "source": [
    "S = 'Hello, Harry. My name is Harry!'"
   ]
  },
  {
   "cell_type": "code",
   "execution_count": 96,
   "metadata": {},
   "outputs": [
    {
     "data": {
      "text/plain": [
       "2"
      ]
     },
     "execution_count": 96,
     "metadata": {},
     "output_type": "execute_result"
    }
   ],
   "source": [
    "# метод\n",
    "S.count('e')"
   ]
  },
  {
   "cell_type": "code",
   "execution_count": 100,
   "metadata": {},
   "outputs": [
    {
     "name": "stdout",
     "output_type": "stream",
     "text": [
      "Yes\n"
     ]
    }
   ],
   "source": [
    "if 'Harry' in S:\n",
    "    print('Yes')\n",
    "else:\n",
    "    print('No')"
   ]
  },
  {
   "cell_type": "code",
   "execution_count": 83,
   "metadata": {},
   "outputs": [
    {
     "data": {
      "text/plain": [
       "True"
      ]
     },
     "execution_count": 83,
     "metadata": {},
     "output_type": "execute_result"
    }
   ],
   "source": [
    "'5' in S\n",
    "# bool"
   ]
  },
  {
   "cell_type": "code",
   "execution_count": 73,
   "metadata": {},
   "outputs": [
    {
     "data": {
      "text/plain": [
       "True"
      ]
     },
     "execution_count": 73,
     "metadata": {},
     "output_type": "execute_result"
    }
   ],
   "source": [
    "5 > 2"
   ]
  },
  {
   "cell_type": "code",
   "execution_count": 77,
   "metadata": {},
   "outputs": [
    {
     "name": "stdout",
     "output_type": "stream",
     "text": [
      "Есть\n"
     ]
    }
   ],
   "source": [
    "if 'llo' in S:\n",
    "    print('Есть')\n",
    "else:\n",
    "    print('Нет')"
   ]
  },
  {
   "cell_type": "code",
   "execution_count": 101,
   "metadata": {},
   "outputs": [
    {
     "name": "stdout",
     "output_type": "stream",
     "text": [
      "HELLO\n"
     ]
    }
   ],
   "source": [
    "slovo = 'Hello'\n",
    "slovo.upper()"
   ]
  },
  {
   "cell_type": "code",
   "execution_count": 118,
   "metadata": {},
   "outputs": [
    {
     "data": {
      "text/plain": [
       "'HELLO'"
      ]
     },
     "execution_count": 118,
     "metadata": {},
     "output_type": "execute_result"
    }
   ],
   "source": [
    "# Методы\n",
    "S[0:5].upper()"
   ]
  },
  {
   "cell_type": "code",
   "execution_count": 110,
   "metadata": {},
   "outputs": [
    {
     "data": {
      "text/plain": [
       "'Hello, Harry. My name is Harry!'"
      ]
     },
     "execution_count": 110,
     "metadata": {},
     "output_type": "execute_result"
    }
   ],
   "source": [
    "S"
   ]
  },
  {
   "cell_type": "code",
   "execution_count": 117,
   "metadata": {},
   "outputs": [
    {
     "data": {
      "text/plain": [
       "1"
      ]
     },
     "execution_count": 117,
     "metadata": {},
     "output_type": "execute_result"
    }
   ],
   "source": [
    "# string.count(value, start, end)\n",
    "S.count('Harry!', 20)"
   ]
  },
  {
   "cell_type": "code",
   "execution_count": 119,
   "metadata": {},
   "outputs": [
    {
     "data": {
      "text/plain": [
       "'Hello, Harry. My name is Harry!'"
      ]
     },
     "execution_count": 119,
     "metadata": {},
     "output_type": "execute_result"
    }
   ],
   "source": [
    "S"
   ]
  },
  {
   "cell_type": "code",
   "execution_count": 121,
   "metadata": {},
   "outputs": [
    {
     "data": {
      "text/plain": [
       "-1"
      ]
     },
     "execution_count": 121,
     "metadata": {},
     "output_type": "execute_result"
    }
   ],
   "source": [
    "S.find('Bob')"
   ]
  },
  {
   "cell_type": "code",
   "execution_count": 122,
   "metadata": {},
   "outputs": [
    {
     "data": {
      "text/plain": [
       "2"
      ]
     },
     "execution_count": 122,
     "metadata": {},
     "output_type": "execute_result"
    }
   ],
   "source": [
    "S.count('Harry')"
   ]
  },
  {
   "cell_type": "code",
   "execution_count": 126,
   "metadata": {},
   "outputs": [
    {
     "data": {
      "text/plain": [
       "'. My name is Harry!'"
      ]
     },
     "execution_count": 126,
     "metadata": {},
     "output_type": "execute_result"
    }
   ],
   "source": [
    "S[12:]"
   ]
  },
  {
   "cell_type": "code",
   "execution_count": 125,
   "metadata": {},
   "outputs": [
    {
     "data": {
      "text/plain": [
       "13"
      ]
     },
     "execution_count": 125,
     "metadata": {},
     "output_type": "execute_result"
    }
   ],
   "source": [
    "S[12:].find('Harry')"
   ]
  },
  {
   "cell_type": "code",
   "execution_count": 124,
   "metadata": {},
   "outputs": [
    {
     "data": {
      "text/plain": [
       "'Harry'"
      ]
     },
     "execution_count": 124,
     "metadata": {},
     "output_type": "execute_result"
    }
   ],
   "source": [
    "S[7:12]"
   ]
  },
  {
   "cell_type": "code",
   "execution_count": 132,
   "metadata": {},
   "outputs": [
    {
     "data": {
      "text/plain": [
       "'Hello, Harry. My name is Harry!'"
      ]
     },
     "execution_count": 132,
     "metadata": {},
     "output_type": "execute_result"
    }
   ],
   "source": [
    "S"
   ]
  },
  {
   "cell_type": "code",
   "execution_count": 133,
   "metadata": {},
   "outputs": [
    {
     "data": {
      "text/plain": [
       "7"
      ]
     },
     "execution_count": 133,
     "metadata": {},
     "output_type": "execute_result"
    }
   ],
   "source": [
    "S.find('Harry')"
   ]
  },
  {
   "cell_type": "code",
   "execution_count": 136,
   "metadata": {},
   "outputs": [
    {
     "data": {
      "text/plain": [
       "2"
      ]
     },
     "execution_count": 136,
     "metadata": {},
     "output_type": "execute_result"
    }
   ],
   "source": [
    "S.count('Harry')"
   ]
  },
  {
   "cell_type": "code",
   "execution_count": 135,
   "metadata": {},
   "outputs": [
    {
     "data": {
      "text/plain": [
       "'Harry'"
      ]
     },
     "execution_count": 135,
     "metadata": {},
     "output_type": "execute_result"
    }
   ],
   "source": [
    "S[7:12]"
   ]
  },
  {
   "cell_type": "markdown",
   "metadata": {
    "id": "EwyY9vKU_DMN"
   },
   "source": [
    "### **3. Метод find**\n",
    "\n",
    "Метод `find` находит в данной строке (к которой применяется метод) данную подстроку (которая передается в качестве параметра). Функция возвращает индекс первого вхождения искомой подстроки. Если же подстрока не найдена, то метод возвращает значение `-1`."
   ]
  },
  {
   "cell_type": "code",
   "execution_count": null,
   "metadata": {
    "colab": {
     "base_uri": "https://localhost:8080/"
    },
    "executionInfo": {
     "elapsed": 1264,
     "status": "ok",
     "timestamp": 1618917410091,
     "user": {
      "displayName": "Subanbek Atalov",
      "photoUrl": "",
      "userId": "10272066776599577598"
     },
     "user_tz": -360
    },
    "id": "HpntP66x9RuP",
    "outputId": "49c01009-b7c1-4918-ef48-202b35f896d1"
   },
   "outputs": [
    {
     "name": "stdout",
     "output_type": "stream",
     "text": [
      "1\n",
      "2\n",
      "-1\n"
     ]
    }
   ],
   "source": [
    "S = 'Hello'\n",
    "print(S.find('e'))\n",
    "# вернёт 1\n"
   ]
  },
  {
   "cell_type": "code",
   "execution_count": null,
   "metadata": {},
   "outputs": [],
   "source": [
    "print(S.find('ll'))\n",
    "# вернёт 2\n"
   ]
  },
  {
   "cell_type": "code",
   "execution_count": null,
   "metadata": {},
   "outputs": [],
   "source": [
    "print(S.find('L'))\n",
    "# вернёт -1\n"
   ]
  },
  {
   "cell_type": "code",
   "execution_count": 139,
   "metadata": {},
   "outputs": [
    {
     "data": {
      "text/plain": [
       "'Hello, Harry. My name is Harry!'"
      ]
     },
     "execution_count": 139,
     "metadata": {},
     "output_type": "execute_result"
    }
   ],
   "source": [
    "S"
   ]
  },
  {
   "cell_type": "code",
   "execution_count": 144,
   "metadata": {},
   "outputs": [],
   "source": [
    "S1 = S.replace('is Harry', 'Bob')"
   ]
  },
  {
   "cell_type": "code",
   "execution_count": 145,
   "metadata": {},
   "outputs": [
    {
     "data": {
      "text/plain": [
       "'Hello, Harry. My name Bob!'"
      ]
     },
     "execution_count": 145,
     "metadata": {},
     "output_type": "execute_result"
    }
   ],
   "source": [
    "S1"
   ]
  },
  {
   "cell_type": "markdown",
   "metadata": {
    "id": "nd6nL14n_8T0"
   },
   "source": [
    "### **4. Метод replace**\n",
    "\n",
    "Метод `replace` заменяет все вхождения одной строки на другую. Формат: `S.replace(old, new)` — заменить в строке `S` все вхождения подстроки `old` на подстроку `new`. \n",
    "\n",
    "Пример:"
   ]
  },
  {
   "cell_type": "code",
   "execution_count": null,
   "metadata": {
    "colab": {
     "base_uri": "https://localhost:8080/"
    },
    "executionInfo": {
     "elapsed": 1503,
     "status": "ok",
     "timestamp": 1618917519087,
     "user": {
      "displayName": "Subanbek Atalov",
      "photoUrl": "",
      "userId": "10272066776599577598"
     },
     "user_tz": -360
    },
    "id": "YNY-UxerALvB",
    "outputId": "a8ae52be-66fe-4551-da98-e3265a850855"
   },
   "outputs": [
    {
     "name": "stdout",
     "output_type": "stream",
     "text": [
      "HeLLo\n"
     ]
    }
   ],
   "source": [
    "print('Hello'.replace('l', 'L'))\n",
    "# вернёт 'HeLLo'"
   ]
  },
  {
   "cell_type": "markdown",
   "metadata": {
    "id": "sdBI2BBuAPmP"
   },
   "source": [
    "### **5. Метод count**\n",
    "\n",
    "Подсчитывает количество вхождений одной строки в другую строку. Простейшая форма вызова `S.count(T)`  возвращает число вхождений строки `T` внутри строки `S`."
   ]
  },
  {
   "cell_type": "code",
   "execution_count": null,
   "metadata": {
    "colab": {
     "base_uri": "https://localhost:8080/"
    },
    "executionInfo": {
     "elapsed": 1062,
     "status": "ok",
     "timestamp": 1618917717028,
     "user": {
      "displayName": "Subanbek Atalov",
      "photoUrl": "",
      "userId": "10272066776599577598"
     },
     "user_tz": -360
    },
    "id": "HUFX_RcuA5MV",
    "outputId": "0987908a-1d69-4869-df51-cb0ffd3c90ad"
   },
   "outputs": [
    {
     "name": "stdout",
     "output_type": "stream",
     "text": [
      "2\n"
     ]
    }
   ],
   "source": [
    "print('devcit auca'.count('a'))\n",
    "# вернёт 2"
   ]
  },
  {
   "cell_type": "markdown",
   "metadata": {},
   "source": [
    "## Практика"
   ]
  },
  {
   "cell_type": "markdown",
   "metadata": {},
   "source": [
    "Дана строка \"!dlrow ,olleH\". Покажите эту строку в обратном порядке."
   ]
  },
  {
   "cell_type": "code",
   "execution_count": 151,
   "metadata": {
    "scrolled": true
   },
   "outputs": [
    {
     "data": {
      "text/plain": [
       "'Hello, world!'"
      ]
     },
     "execution_count": 151,
     "metadata": {},
     "output_type": "execute_result"
    }
   ],
   "source": [
    "s = '!dlrow ,olleH'\n",
    "s[::-1]"
   ]
  },
  {
   "cell_type": "code",
   "execution_count": null,
   "metadata": {},
   "outputs": [],
   "source": [
    "s[start:stop:step]"
   ]
  },
  {
   "cell_type": "markdown",
   "metadata": {},
   "source": [
    "Дана строка \"My name is Harry\". С помощью срезов покажите только имя."
   ]
  },
  {
   "cell_type": "code",
   "execution_count": 153,
   "metadata": {},
   "outputs": [
    {
     "data": {
      "text/plain": [
       "'Harry'"
      ]
     },
     "execution_count": 153,
     "metadata": {},
     "output_type": "execute_result"
    }
   ],
   "source": [
    "s = \"My name is Harry\"\n",
    "s[-5:]"
   ]
  },
  {
   "cell_type": "markdown",
   "metadata": {},
   "source": [
    "Дана строка \"My name is Harry\". Замените имя на \"Bob\""
   ]
  },
  {
   "cell_type": "code",
   "execution_count": 154,
   "metadata": {},
   "outputs": [
    {
     "data": {
      "text/plain": [
       "'My name is Bob'"
      ]
     },
     "execution_count": 154,
     "metadata": {},
     "output_type": "execute_result"
    }
   ],
   "source": [
    "s = \"My name is Harry\"\n",
    "s.replace('Harry', 'Bob')"
   ]
  },
  {
   "cell_type": "code",
   "execution_count": null,
   "metadata": {},
   "outputs": [],
   "source": [
    "print()\n",
    ".count()\n",
    ".replace()\n",
    "input()"
   ]
  },
  {
   "cell_type": "code",
   "execution_count": null,
   "metadata": {},
   "outputs": [],
   "source": [
    "S[4:7]"
   ]
  },
  {
   "cell_type": "code",
   "execution_count": 1,
   "metadata": {},
   "outputs": [
    {
     "name": "stdout",
     "output_type": "stream",
     "text": [
      "Пожалуйста введите Ваше имя: 123\n"
     ]
    }
   ],
   "source": [
    "S = input(\"Пожалуйста введите Ваше имя: \")"
   ]
  },
  {
   "cell_type": "code",
   "execution_count": 156,
   "metadata": {},
   "outputs": [
    {
     "data": {
      "text/plain": [
       "'asjfas'"
      ]
     },
     "execution_count": 156,
     "metadata": {},
     "output_type": "execute_result"
    }
   ],
   "source": []
  }
 ],
 "metadata": {
  "colab": {
   "authorship_tag": "ABX9TyOzvvzvJsJNHxzkL+vRcS9G",
   "collapsed_sections": [],
   "name": "03_str.ipynb",
   "provenance": []
  },
  "kernelspec": {
   "display_name": "Python 3",
   "language": "python",
   "name": "python3"
  },
  "language_info": {
   "codemirror_mode": {
    "name": "ipython",
    "version": 3
   },
   "file_extension": ".py",
   "mimetype": "text/x-python",
   "name": "python",
   "nbconvert_exporter": "python",
   "pygments_lexer": "ipython3",
   "version": "3.8.8"
  }
 },
 "nbformat": 4,
 "nbformat_minor": 1
}
