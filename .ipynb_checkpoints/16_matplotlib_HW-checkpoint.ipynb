{
 "cells": [
  {
   "cell_type": "markdown",
   "metadata": {},
   "source": [
    "Atalov S. DevCIT"
   ]
  },
  {
   "cell_type": "markdown",
   "metadata": {},
   "source": [
    "Импортируйте необходимые библиотеки"
   ]
  },
  {
   "cell_type": "code",
   "execution_count": 3,
   "metadata": {},
   "outputs": [],
   "source": [
    "import matplotlib.pyplot as plt\n",
    "import pandas as pd\n",
    "import numpy as np\n",
    "%matplotlib inline"
   ]
  },
  {
   "cell_type": "markdown",
   "metadata": {},
   "source": [
    "### Загрузите данные по зарплатам в КР (uroven_zarplat.xlsx)\n",
    "Используйте `pd.read_excel('name.xlsx')` для загрузки Excel-файла."
   ]
  },
  {
   "cell_type": "code",
   "execution_count": null,
   "metadata": {},
   "outputs": [],
   "source": [
    "df = pd.read_csv('uroven_zarplat.xlsx', sep = \",\")"
   ]
  },
  {
   "cell_type": "markdown",
   "metadata": {},
   "source": [
    "### 1. Используя iloc, покажите таблицу с уровнем зарплат по республике и Баткенской области в период с 2000 по 2005 года."
   ]
  },
  {
   "cell_type": "code",
   "execution_count": null,
   "metadata": {},
   "outputs": [],
   "source": []
  },
  {
   "cell_type": "markdown",
   "metadata": {},
   "source": [
    "### 2. Используя loc, покажите таблицу с уровнем зарплат Чуйской, Нарынской и Ошской областям в период с 2010 по 2020 год."
   ]
  },
  {
   "cell_type": "code",
   "execution_count": null,
   "metadata": {},
   "outputs": [],
   "source": []
  },
  {
   "cell_type": "markdown",
   "metadata": {},
   "source": [
    "### 3. Нарисуйте график средних зарплат в г. Бишкек за весь период (plot). С подписями осей и названием графика.\n",
    "По x - Дата.\n",
    "\n",
    "По y - Средняя зарплата"
   ]
  },
  {
   "cell_type": "code",
   "execution_count": null,
   "metadata": {
    "scrolled": true
   },
   "outputs": [],
   "source": []
  },
  {
   "cell_type": "markdown",
   "metadata": {},
   "source": [
    "### 4. Нарисуйте два графика рядом. (на одной строке)\n",
    "1. Средних зарплат по Кыргызстану за весь период (plot). С подписями осей и названием графика.\n",
    "2. Средних зарплат в г. Бишкек за весь период (plot). С подписями осей и названием графика.\n"
   ]
  },
  {
   "cell_type": "code",
   "execution_count": null,
   "metadata": {
    "scrolled": true
   },
   "outputs": [],
   "source": []
  },
  {
   "cell_type": "markdown",
   "metadata": {},
   "source": [
    "### 5. Нарисуйте два графика в одном графике.\n",
    "1. Средних зарплат по Кыргызстану за весь период (plot). С подписями осей и названием графика.\n",
    "2. Средних зарплат по г. Бишкек за весь период (plot). С подписями осей и названием графика.\n"
   ]
  },
  {
   "cell_type": "code",
   "execution_count": null,
   "metadata": {},
   "outputs": [],
   "source": []
  },
  {
   "cell_type": "markdown",
   "metadata": {},
   "source": [
    "### 6. Нарисуйте четыре графика (с разными цветами). (2 на 2)\n",
    "1. Средних зарплат по Кыргызстану за весь период (plot). С подписями осей и названием графика.\n",
    "2. Средних зарплат по г. Бишкек за весь период (plot). С подписями осей и названием графика.\n",
    "3. Средних зарплат в Чуйской области за весь период (plot). С подписями осей и названием графика.\n",
    "4. Средних зарплат в Баткенской области за весь период (plot). С подписями осей и названием графика."
   ]
  },
  {
   "cell_type": "code",
   "execution_count": null,
   "metadata": {
    "scrolled": false
   },
   "outputs": [],
   "source": []
  },
  {
   "cell_type": "markdown",
   "metadata": {},
   "source": [
    "### 7. Нарисуйте гистограмму зарплат по Кыргызстану."
   ]
  },
  {
   "cell_type": "code",
   "execution_count": null,
   "metadata": {
    "scrolled": true
   },
   "outputs": [],
   "source": []
  },
  {
   "cell_type": "markdown",
   "metadata": {},
   "source": [
    "### 8. Нарисуйте точечный график зарплат по Кыргызстану. (Scatter plot)"
   ]
  },
  {
   "cell_type": "code",
   "execution_count": null,
   "metadata": {
    "scrolled": true
   },
   "outputs": [],
   "source": []
  },
  {
   "cell_type": "markdown",
   "metadata": {},
   "source": [
    "### 9. Нарисуйте график зарплат по Кыргызстану, но измените тип линии на красный пунктирный. (plot)"
   ]
  },
  {
   "cell_type": "code",
   "execution_count": null,
   "metadata": {
    "scrolled": true
   },
   "outputs": [],
   "source": []
  },
  {
   "cell_type": "markdown",
   "metadata": {},
   "source": [
    "#### Advanced.\n",
    "### 10. Нарисуйте столбчатую диаграмму (bar plot), так, чтобы по оси `y` был средний уровень зарплат в 2020 г., а по оси `x` области (их 7)."
   ]
  },
  {
   "cell_type": "code",
   "execution_count": null,
   "metadata": {},
   "outputs": [],
   "source": []
  }
 ],
 "metadata": {
  "kernelspec": {
   "display_name": "Python 3",
   "language": "python",
   "name": "python3"
  },
  "language_info": {
   "codemirror_mode": {
    "name": "ipython",
    "version": 3
   },
   "file_extension": ".py",
   "mimetype": "text/x-python",
   "name": "python",
   "nbconvert_exporter": "python",
   "pygments_lexer": "ipython3",
   "version": "3.8.8"
  }
 },
 "nbformat": 4,
 "nbformat_minor": 4
}
