{
 "cells": [
  {
   "cell_type": "markdown",
   "metadata": {},
   "source": [
    "Atalov S. (DevCIT)"
   ]
  },
  {
   "cell_type": "markdown",
   "metadata": {
    "id": "4pF3FD1qdE47"
   },
   "source": [
    "Регрессионные модели используются при прогнозировании значений целевых переменных с непрерывным масштабом, что делает их привлекательными для решения многих вопросов в науке. Они также имеют применения в индустрии, такие как выяснение взаимоотношений между переменными, оценивание тенденций или вырабатывание предсказаний. Примером может служить прогнозирование продаж компании в грядущих месяцах."
   ]
  },
  {
   "cell_type": "markdown",
   "metadata": {
    "id": "3-s-KvvvdE5A"
   },
   "source": [
    "### Простая линейная регрессия\n",
    "\n",
    "Цель простой (одномерной) линейной регрессии - моделирование взаимоотношения между одиночным признаком (объясняющей пере.нетюй х) и целью с непрерывными значениями (переменной ответа у). Уравнение линейной модели с одной объясняющей переменной определяется следующим образом:\n",
    "\n",
    "# $y = w_0 + w_1x$\n",
    "\n",
    "Здесь вес $w_0$ представляет точку пересечения оси у, а $w_1$ - весовой коэффициент объясняющей переменной. Наша цель - узнать веса линейного уравнения, чтобы описать взаимоотношение между объясняющей переменной и целевой переменной, которое затем используется для прогнозирования ответов новых объясняющих переменных, не входящих в состав обучающего набора данных."
   ]
  },
  {
   "cell_type": "markdown",
   "metadata": {
    "id": "KLVVxiZmdE5B"
   },
   "source": [
    "<div>\n",
    "<img src=\"attachment:image.png\" width=\"600\"/>\n",
    "</div>"
   ]
  },
  {
   "cell_type": "markdown",
   "metadata": {
    "id": "rwkRNEgDdE5D"
   },
   "source": [
    "Наилучшим образом подогнанная линия также называется линией регрессии, а вертикальные линии от линии регрессии до обучающих образцов - это так называемые смещения или остатки, т.е. ошибки прогноза."
   ]
  },
  {
   "cell_type": "code",
   "execution_count": 7,
   "metadata": {
    "id": "8BioytXTdE5E"
   },
   "outputs": [],
   "source": [
    "import matplotlib.pyplot as plt\n",
    "import numpy as np"
   ]
  },
  {
   "cell_type": "code",
   "execution_count": 2,
   "metadata": {},
   "outputs": [],
   "source": [
    "import pandas as pd"
   ]
  },
  {
   "cell_type": "code",
   "execution_count": 4,
   "metadata": {},
   "outputs": [
    {
     "data": {
      "text/html": [
       "<div>\n",
       "<style scoped>\n",
       "    .dataframe tbody tr th:only-of-type {\n",
       "        vertical-align: middle;\n",
       "    }\n",
       "\n",
       "    .dataframe tbody tr th {\n",
       "        vertical-align: top;\n",
       "    }\n",
       "\n",
       "    .dataframe thead th {\n",
       "        text-align: right;\n",
       "    }\n",
       "</style>\n",
       "<table border=\"1\" class=\"dataframe\">\n",
       "  <thead>\n",
       "    <tr style=\"text-align: right;\">\n",
       "      <th></th>\n",
       "      <th>Name</th>\n",
       "      <th>YearsExperience</th>\n",
       "      <th>Salary</th>\n",
       "    </tr>\n",
       "  </thead>\n",
       "  <tbody>\n",
       "    <tr>\n",
       "      <th>0</th>\n",
       "      <td>James</td>\n",
       "      <td>1.1</td>\n",
       "      <td>39343</td>\n",
       "    </tr>\n",
       "    <tr>\n",
       "      <th>1</th>\n",
       "      <td>John</td>\n",
       "      <td>1.3</td>\n",
       "      <td>46205</td>\n",
       "    </tr>\n",
       "    <tr>\n",
       "      <th>2</th>\n",
       "      <td>Robert</td>\n",
       "      <td>1.5</td>\n",
       "      <td>37731</td>\n",
       "    </tr>\n",
       "    <tr>\n",
       "      <th>3</th>\n",
       "      <td>Michael</td>\n",
       "      <td>2.0</td>\n",
       "      <td>43525</td>\n",
       "    </tr>\n",
       "    <tr>\n",
       "      <th>4</th>\n",
       "      <td>David</td>\n",
       "      <td>2.2</td>\n",
       "      <td>39891</td>\n",
       "    </tr>\n",
       "  </tbody>\n",
       "</table>\n",
       "</div>"
      ],
      "text/plain": [
       "      Name  YearsExperience  Salary\n",
       "0    James              1.1   39343\n",
       "1     John              1.3   46205\n",
       "2   Robert              1.5   37731\n",
       "3  Michael              2.0   43525\n",
       "4    David              2.2   39891"
      ]
     },
     "execution_count": 4,
     "metadata": {},
     "output_type": "execute_result"
    }
   ],
   "source": [
    "df = pd.read_csv(\"salary.csv\", sep = ';')\n",
    "df.head()"
   ]
  },
  {
   "cell_type": "code",
   "execution_count": null,
   "metadata": {},
   "outputs": [],
   "source": []
  }
 ],
 "metadata": {
  "colab": {
   "name": "20_linear_regression.ipynb",
   "provenance": []
  },
  "kernelspec": {
   "display_name": "Python 3",
   "language": "python",
   "name": "python3"
  },
  "language_info": {
   "codemirror_mode": {
    "name": "ipython",
    "version": 3
   },
   "file_extension": ".py",
   "mimetype": "text/x-python",
   "name": "python",
   "nbconvert_exporter": "python",
   "pygments_lexer": "ipython3",
   "version": "3.8.8"
  }
 },
 "nbformat": 4,
 "nbformat_minor": 1
}
