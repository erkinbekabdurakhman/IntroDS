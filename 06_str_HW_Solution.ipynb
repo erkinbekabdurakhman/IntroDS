{
 "cells": [
  {
   "cell_type": "markdown",
   "metadata": {},
   "source": [
    "## 1. Дана строка. \"Abrakadabra\"\n",
    "\n",
    "Сначала выведите третий символ этой строки.\n",
    "\n",
    "Во второй строке выведите предпоследний символ этой строки.\n",
    "\n",
    "В третьей строке выведите первые пять символов этой строки.\n",
    "\n",
    "В четвертой строке выведите всю строку, кроме последних двух символов.\n",
    "\n",
    "В пятой строке выведите все символы с четными индексами (считая, что индексация начинается с 0, поэтому символы выводятся начиная с первого).\n",
    "\n",
    "В шестой строке выведите все символы с нечетными индексами, то есть начиная со второго символа строки.\n",
    "\n",
    "В седьмой строке выведите все символы в обратном порядке.\n",
    "\n",
    "В восьмой строке выведите все символы строки через один в обратном порядке, начиная с последнего.\n",
    "\n",
    "В девятой строке выведите длину данной строки.\n",
    "\n",
    "`Примеры`\n",
    "\n",
    "`входные данные`\n",
    "\n",
    "`Abrakadabra`\n",
    "\n",
    "`выходные данные`\n",
    "\n",
    "`r`\n",
    "\n",
    "`r`\n",
    "\n",
    "`Abrak`\n",
    "\n",
    "`Abrakadab`\n",
    "\n",
    "`Arkdba`\n",
    "\n",
    "`baaar`\n",
    "\n",
    "`arbadakarbA`\n",
    "\n",
    "`abdkrA`\n",
    "\n",
    "`11`"
   ]
  },
  {
   "cell_type": "code",
   "execution_count": 41,
   "metadata": {},
   "outputs": [
    {
     "name": "stdout",
     "output_type": "stream",
     "text": [
      "r\n",
      "r\n",
      "Abrak\n",
      "Abrakadab\n",
      "Arkdba\n",
      "baaar\n",
      "arbadakarbA\n",
      "abdkrA\n",
      "11\n"
     ]
    }
   ],
   "source": [
    "s = 'Abrakadabra'\n",
    "print(s[2])\n",
    "print(s[-2])\n",
    "print(s[:5])\n",
    "print(s[:-2])\n",
    "print(s[::2])\n",
    "print(s[1::2])\n",
    "print(s[::-1])\n",
    "print(s[::-2])\n",
    "print(len(s))"
   ]
  },
  {
   "cell_type": "markdown",
   "metadata": {},
   "source": [
    "## 2. Дана строка \"Hello, world!\". Переставьте эти слова местами. Результат запишите в строку и выведите получившуюся строку.\n",
    "\n",
    "`входные данные`\n",
    "\n",
    "`Hello, world!`\n",
    "\n",
    "`выходные данные`\n",
    "\n",
    "`world! Hello,`\n"
   ]
  },
  {
   "cell_type": "code",
   "execution_count": 5,
   "metadata": {},
   "outputs": [
    {
     "name": "stdout",
     "output_type": "stream",
     "text": [
      "world! Hello, \n"
     ]
    }
   ],
   "source": [
    "s = \"Hello, world!\"\n",
    "new = s[7:] + \" \" + s[:7]\n",
    "print(new)"
   ]
  },
  {
   "cell_type": "markdown",
   "metadata": {},
   "source": [
    "## 3. Дана строка \"1+1=2\". Замените в этой строке все цифры 1 на слово one.\n",
    "\n",
    "`входные данные`\n",
    "\n",
    "`1+1=2`\n",
    "\n",
    "`выходные данные`\n",
    "\n",
    "`one+one=2`\n"
   ]
  },
  {
   "cell_type": "code",
   "execution_count": 7,
   "metadata": {},
   "outputs": [
    {
     "name": "stdout",
     "output_type": "stream",
     "text": [
      "one+one=2\n"
     ]
    }
   ],
   "source": [
    "s = \"1+1=2\"\n",
    "s = s.replace(\"1\", \"one\")\n",
    "print(s)"
   ]
  },
  {
   "cell_type": "markdown",
   "metadata": {},
   "source": [
    "## 4. На вход принимаются две строки. Верните новую строку, где вторая строка будет ровно посередине первой строки (Если нечетное количество символов в первой строке, то вместо символа посередине).\n",
    "\n",
    "`входные данные`\n",
    "\n",
    "`s1 = \"Hello\"`\n",
    "\n",
    "`s2 = \"Kelly\"`\n",
    "\n",
    "`выходные данные`\n",
    "\n",
    "`HeKellylo`\n"
   ]
  },
  {
   "cell_type": "code",
   "execution_count": 22,
   "metadata": {},
   "outputs": [
    {
     "name": "stdout",
     "output_type": "stream",
     "text": [
      "HeKellylo\n"
     ]
    }
   ],
   "source": [
    "s1 = \"Hello\"\n",
    "s2 = \"Kelly\"\n",
    "\n",
    "if len(s1) % 2 == 0:\n",
    "    print(s1[:len(s1)//2] + s2 + s1[len(s1)//2:])\n",
    "else:\n",
    "    print(s1[:len(s1)//2] + s2 + s1[len(s1)//2+1:])"
   ]
  },
  {
   "cell_type": "markdown",
   "metadata": {},
   "source": [
    "## 5. На вход подаются две строки одной длины. Выведите новую строку как смешанную двух строк. Например, сначала идет первый символ первой строки, далее первый символ второй строки, второй символ первой строки, второй символ второй строки и т.д.\n",
    "\n",
    "`входные данные`\n",
    "\n",
    "`ABC`\n",
    "\n",
    "`xyz`\n",
    "\n",
    "`выходные данные`\n",
    "\n",
    "`AxByCz`\n"
   ]
  },
  {
   "cell_type": "code",
   "execution_count": 24,
   "metadata": {},
   "outputs": [
    {
     "name": "stdout",
     "output_type": "stream",
     "text": [
      "AxByCzFe\n"
     ]
    }
   ],
   "source": [
    "a = 'ABCF'\n",
    "b = 'xyze'\n",
    "new = \"\"\n",
    "for n in range(len(a)):\n",
    "    new += a[n]\n",
    "    new += b[n]\n",
    "    \n",
    "print(new)"
   ]
  },
  {
   "cell_type": "markdown",
   "metadata": {},
   "source": [
    "## 6. На вход подаются две строки. Если количество символов в первой строке равно количеству символов второй строки, вывести `True`, иначе `False`.\n",
    "\n",
    "`входные данные`\n",
    "\n",
    "`ABC`\n",
    "\n",
    "`xyz`\n",
    "\n",
    "`выходные данные`\n",
    "\n",
    "`True`\n"
   ]
  },
  {
   "cell_type": "code",
   "execution_count": 28,
   "metadata": {},
   "outputs": [
    {
     "name": "stdout",
     "output_type": "stream",
     "text": [
      "True\n"
     ]
    }
   ],
   "source": [
    "a = 'ABCF'\n",
    "b = 'xyze'\n",
    "print(len(a) == len(b))"
   ]
  },
  {
   "cell_type": "markdown",
   "metadata": {},
   "source": [
    "## 7. На вход подается строка. Если в нем содержится буква `a` верните `True`, иначе `False`.\n",
    "\n",
    "`входные данные`\n",
    "\n",
    "`Barbershop`\n",
    "\n",
    "`выходные данные`\n",
    "\n",
    "`True`\n"
   ]
  },
  {
   "cell_type": "code",
   "execution_count": 32,
   "metadata": {},
   "outputs": [
    {
     "name": "stdout",
     "output_type": "stream",
     "text": [
      "True\n"
     ]
    }
   ],
   "source": [
    "s = 'Barbershop'\n",
    "\n",
    "if 'a' in s:\n",
    "    print(True)\n",
    "else:\n",
    "    print(False)"
   ]
  },
  {
   "cell_type": "code",
   "execution_count": 31,
   "metadata": {},
   "outputs": [
    {
     "name": "stdout",
     "output_type": "stream",
     "text": [
      "True\n"
     ]
    }
   ],
   "source": [
    "s = 'Barbershop'\n",
    "print(\"a\" in s)\n"
   ]
  }
 ],
 "metadata": {
  "kernelspec": {
   "display_name": "Python 3",
   "language": "python",
   "name": "python3"
  },
  "language_info": {
   "codemirror_mode": {
    "name": "ipython",
    "version": 3
   },
   "file_extension": ".py",
   "mimetype": "text/x-python",
   "name": "python",
   "nbconvert_exporter": "python",
   "pygments_lexer": "ipython3",
   "version": "3.8.2"
  }
 },
 "nbformat": 4,
 "nbformat_minor": 2
}
