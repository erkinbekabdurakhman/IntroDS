{
 "cells": [
  {
   "cell_type": "markdown",
   "id": "644c1b0c",
   "metadata": {},
   "source": [
    "Atalov S. (DevCIT)"
   ]
  },
  {
   "cell_type": "markdown",
   "id": "ed371517",
   "metadata": {},
   "source": [
    "## 1. У нас есть данные по возрасту:\n",
    "`[13, 15, 16, 16, 19, 20, 20, 21, 22, 22, 25, 25, 25, 25, 30, 33, 33, 35, 35, 35, 35, 36, 40, 45, 46, 52, 70]`\n",
    "\n",
    "### 1.1. Найдите среднее:"
   ]
  },
  {
   "cell_type": "code",
   "execution_count": 11,
   "id": "278e7190",
   "metadata": {},
   "outputs": [
    {
     "name": "stdout",
     "output_type": "stream",
     "text": [
      "4\n",
      "Mean is: 29.962962962962962\n"
     ]
    }
   ],
   "source": [
    "# list of elements to calculate mean\n",
    "numbers = [13, 15, 16, 16, 19, 20, 20, 21, 22, 22, 25, 25, 25, 25, 30, 33, 33, 35, 35, 35, 35, 36, 40, 45, 46, 52, 70]\n",
    "n = len(numbers)\n",
    "  \n",
    "get_sum = sum(numbers)\n",
    "mean = get_sum / n\n",
    "  \n",
    "print(\"Mean is: \" + str(mean))"
   ]
  },
  {
   "cell_type": "markdown",
   "id": "7d6ced0c",
   "metadata": {},
   "source": [
    "### 1.2. Найдите медиану:"
   ]
  },
  {
   "cell_type": "code",
   "execution_count": 10,
   "id": "f8df35c9",
   "metadata": {},
   "outputs": [
    {
     "name": "stdout",
     "output_type": "stream",
     "text": [
      "The original list : [13, 15, 16, 16, 19, 20, 20, 21, 22, 22, 25, 25, 25, 25, 30, 33, 33, 35, 35, 35, 35, 36, 40, 45, 46, 52, 70]\n",
      "Median of list is : 25.0\n"
     ]
    }
   ],
   "source": [
    "numbers = [13, 15, 16, 16, 19, 20, 20, 21, 22, 22, 25, 25, 25, 25, 30, 33, 33, 35, 35, 35, 35, 36, 40, 45, 46, 52, 70]\n",
    "print(\"The original list : \" + str(numbers))\n",
    "\n",
    "# Median of list\n",
    "# Using loop + \"~\" operator\n",
    "numbers.sort()\n",
    "mid = len(numbers) // 2\n",
    "res = (numbers[mid] + numbers[~mid]) / 2\n",
    "\n",
    "# Printing result\n",
    "print(\"Median of list is : \" + str(res))"
   ]
  },
  {
   "cell_type": "markdown",
   "id": "7b9b76bb",
   "metadata": {},
   "source": [
    "### 1.3. Найдите моду:"
   ]
  },
  {
   "cell_type": "code",
   "execution_count": 13,
   "id": "7122ef29",
   "metadata": {},
   "outputs": [
    {
     "name": "stdout",
     "output_type": "stream",
     "text": [
      "Mode(s) is/are :{25, 35}\n"
     ]
    }
   ],
   "source": [
    "list_numbers = [13, 15, 16, 16, 19, 20, 20, 21, 22, 22, 25, 25, 25, 25, 30, 33, 33, 35, 35, 35, 35, 36, 40, 45, 46, 52, 70]\n",
    "list_numbers.sort()\n",
    "\n",
    "empty_list = []\n",
    "\n",
    "i = 0\n",
    "while i < len(list_numbers) :\n",
    "    empty_list.append(list_numbers.count(list_numbers[i]))\n",
    "    i += 1\n",
    "    \n",
    "# now you can create a custom dictionary d1 for k : V\n",
    "# where k = your values in sorted y \n",
    "# and v = the occurrences of each value in y\n",
    "\n",
    "d1 = dict(zip(list_numbers, empty_list))\n",
    "\n",
    "\n",
    "d2={k for (k,v) in d1.items() if v == max(empty_list) }\n",
    "  \n",
    "print(\"Mode(s) is/are :\" + str(d2))"
   ]
  },
  {
   "cell_type": "markdown",
   "id": "c32c7947",
   "metadata": {},
   "source": [
    "### 1.4. Покажите гистограмму:"
   ]
  },
  {
   "cell_type": "code",
   "execution_count": 7,
   "id": "edfd0045",
   "metadata": {},
   "outputs": [
    {
     "data": {
      "text/plain": [
       "[<matplotlib.lines.Line2D at 0x1db4425b7c0>]"
      ]
     },
     "execution_count": 7,
     "metadata": {},
     "output_type": "execute_result"
    },
    {
     "data": {
      "image/png": "[encoded data removed]",
      "text/plain": [
       "<Figure size 432x288 with 1 Axes>"
      ]
     },
     "metadata": {
      "needs_background": "light"
     },
     "output_type": "display_data"
    }
   ],
   "source": [
    "import matplotlib.pyplot as plt\n",
    "import numpy as np\n",
    "%matplotlib inline\n",
    "plt.plot()\n",
    "\n",
    "list_numbers = np.array([13, 15, 16, 16, 19, 20, 20, 21, 22, 22, 25, 25, 25, 25, 30, 33, 33, 35, 35, 35, 35, 36, 40, 45, 46, 52, 70])\n",
    "plt.plot(list_numbers)"
   ]
  },
  {
   "cell_type": "markdown",
   "id": "7aa44d14",
   "metadata": {},
   "source": [
    "## 2. Функция для нахождения расстояние между точками.\n",
    "Напишите функцию, которая считает расстояние между двумя точками. У каждой точки есть 2 координаты (x и y) в виде списка.\n",
    "Получается, что функция получает 2 аргумента в виде списков.\n",
    "\n",
    "`p1 = [x, y], \n",
    "p2 = [x, y]`"
   ]
  },
  {
   "cell_type": "code",
   "execution_count": null,
   "id": "2f358b68",
   "metadata": {},
   "outputs": [],
   "source": []
  },
  {
   "cell_type": "markdown",
   "id": "75e8a5f5",
   "metadata": {},
   "source": [
    "## 3. Загрузите файл `iris.csv`:\n",
    "### 3.1. Покажите основные статистические показатели:"
   ]
  },
  {
   "cell_type": "code",
   "execution_count": 36,
   "id": "93efc599",
   "metadata": {},
   "outputs": [
    {
     "data": {
      "text/plain": [
       "0      1.4\n",
       "1      1.4\n",
       "2      1.3\n",
       "3      1.5\n",
       "4      1.4\n",
       "      ... \n",
       "145    5.2\n",
       "146    5.0\n",
       "147    5.2\n",
       "148    5.4\n",
       "149    5.1\n",
       "Name: PetalLengthCm, Length: 150, dtype: float64"
      ]
     },
     "execution_count": 36,
     "metadata": {},
     "output_type": "execute_result"
    }
   ],
   "source": [
    "import pandas as pd\n",
    "df = pd.read_csv('iris.csv', sep = ',')\n",
    "df"
   ]
  },
  {
   "cell_type": "markdown",
   "id": "ae836137",
   "metadata": {},
   "source": [
    "### 3.2. Постройте Scatter Plot где `x = PetalLengthCm` and `y = PetalWidthCm`:"
   ]
  },
  {
   "cell_type": "code",
   "execution_count": 37,
   "id": "4006cd06",
   "metadata": {},
   "outputs": [
    {
     "data": {
      "image/png": "[encoded data removed]",
      "text/plain": [
       "<Figure size 432x288 with 1 Axes>"
      ]
     },
     "metadata": {
      "needs_background": "light"
     },
     "output_type": "display_data"
    }
   ],
   "source": [
    "import matplotlib.pyplot as plt\n",
    "import numpy as np\n",
    "%matplotlib inline\n",
    "\n",
    "\n",
    "\n",
    "plt.scatter(x = df['PetalLengthCm'], y = df['PetalWidthCm'])\n",
    "plt.show()"
   ]
  },
  {
   "cell_type": "markdown",
   "id": "240e19c3",
   "metadata": {},
   "source": [
    "### 3.3. Покажите средние значения  `PetalLengthCm` отдельно для всех трех типов цветков (`Species`):"
   ]
  },
  {
   "cell_type": "code",
   "execution_count": null,
   "id": "fe6941f3",
   "metadata": {},
   "outputs": [],
   "source": []
  },
  {
   "cell_type": "markdown",
   "id": "8ec689b8",
   "metadata": {},
   "source": [
    "## 4. У нас есть данные по автомобилям (`car-sales.csv`). Но данные беспорядочны. Нужно с ними хоть что-то попробовать сделать и подготовить данные..."
   ]
  },
  {
   "cell_type": "code",
   "execution_count": null,
   "id": "f8f5334d",
   "metadata": {},
   "outputs": [],
   "source": []
  },
  {
   "cell_type": "markdown",
   "id": "d43d130f",
   "metadata": {},
   "source": [
    "## 5.  Напишите функцию, которая принимает список с числами и возвращает сумму двух наибольших чисел в списке. \n",
    "Например:\n",
    "\n",
    "`[10, 14, 2, 23, 19] -->  42 (= 23 + 19)\n",
    "[99, 2, 2, 23, 19]  --> 122 (= 99 + 23)`"
   ]
  },
  {
   "cell_type": "code",
   "execution_count": null,
   "id": "78aff5bd",
   "metadata": {},
   "outputs": [],
   "source": []
  },
  {
   "cell_type": "markdown",
   "id": "d6a27d43",
   "metadata": {},
   "source": [
    "## 6. Напишите функцию, которая принимает число и возвращает число с обратными цифрами.\n",
    "\n",
    "Например:\n",
    "\n",
    "`Input: 42145 Output: 54421`\n",
    "\n",
    "`Input: 145263 Output: 654321`\n",
    "\n",
    "`Input: 123456789 Output: 987654321`"
   ]
  },
  {
   "cell_type": "code",
   "execution_count": 2,
   "id": "7b327065",
   "metadata": {},
   "outputs": [
    {
     "name": "stdout",
     "output_type": "stream",
     "text": [
      "145263\n",
      "362541\n"
     ]
    }
   ],
   "source": [
    "num = input()\n",
    "print(num[::-1])"
   ]
  },
  {
   "cell_type": "markdown",
   "id": "c4c94627",
   "metadata": {},
   "source": [
    "## 7. Напишите функцию, которая принимает неотсортированный список с 9 числами от 1 до 10. Но одно число в этом диапазоне пропущено. Верните это число.\n",
    "\n",
    "Например:\n",
    "\n",
    "`[1, 4, 3, 9, 7, 6, 5, 2, 10] -->  8`"
   ]
  },
  {
   "cell_type": "code",
   "execution_count": null,
   "id": "8e400aa5",
   "metadata": {},
   "outputs": [],
   "source": []
  },
  {
   "cell_type": "markdown",
   "id": "a266bb96",
   "metadata": {},
   "source": [
    "## 8. Напишите функцию, которая принимает список с числами. Возвратите список с такими же числами, но умноженными на 2.\n",
    "\n",
    "Например:\n",
    "\n",
    "`[1, 4, 3] -->  [2, 8, 6]`"
   ]
  },
  {
   "cell_type": "code",
   "execution_count": 4,
   "id": "de0824f3",
   "metadata": {},
   "outputs": [
    {
     "name": "stdout",
     "output_type": "stream",
     "text": [
      "[1, 4, 3]\n",
      "[1, 4, 3]\n"
     ]
    }
   ],
   "source": []
  },
  {
   "cell_type": "code",
   "execution_count": null,
   "id": "bf9d38be",
   "metadata": {},
   "outputs": [],
   "source": []
  }
 ],
 "metadata": {
  "kernelspec": {
   "display_name": "Python 3",
   "language": "python",
   "name": "python3"
  },
  "language_info": {
   "codemirror_mode": {
    "name": "ipython",
    "version": 3
   },
   "file_extension": ".py",
   "mimetype": "text/x-python",
   "name": "python",
   "nbconvert_exporter": "python",
   "pygments_lexer": "ipython3",
   "version": "3.8.8"
  }
 },
 "nbformat": 4,
 "nbformat_minor": 5
}
