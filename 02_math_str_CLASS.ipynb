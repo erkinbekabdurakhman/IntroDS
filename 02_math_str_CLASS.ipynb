{
 "cells": [
  {
   "cell_type": "markdown",
   "metadata": {},
   "source": [
    "Atalov S. (DevCIT)"
   ]
  },
  {
   "cell_type": "markdown",
   "metadata": {},
   "source": [
    "### Jupyter Notebook\n",
    "\n",
    "Почти весь код мы будем писать в приложении Jupyter Notebook. C помощью Jupyter Notebook можно создавать интерактивные ноутбуки (с английского notebook — тетрадь) с кодом на языке Python и текстовыми элементами. Jupyter работает с файлами формата .ipynb. Результатом работы в ноутбуке является код, который презентует сам себя с помощью текстовых комментариев.\n",
    "\n",
    "Код в ноутбуке разделён на блоки, которые можно выполнять в произвольном порядке. После выполнения блока результат его работы сохраняется в оперативной памяти Jupyter Notebook. Это возможно благодаря тому, что в начале работы Jupyter Notebook запускает ядро (kernel), которое производит все операции. Ядро можно перезагружать, но тогда все сохранённые переменные сотрутся.\n",
    "\n",
    "Для прохождения курса вам понадобится несколько библиотек для работы с данными. Поэтому мы рекомендуем устанавливать Jupyter как часть пакета Anaconda, куда помимо Jupyter добавлены самые распространённые библиотеки, которые в том числе понадобятся вам в этом курсе.\n",
    "\n",
    "Также [ссылка](https://docs.anaconda.com/anaconda/user-guide/getting-started/) на quick-start с Jupyter Notebook."
   ]
  },
  {
   "cell_type": "code",
   "execution_count": null,
   "metadata": {},
   "outputs": [],
   "source": []
  },
  {
   "cell_type": "markdown",
   "metadata": {},
   "source": [
    "### Быстрые комбинации клавиш:\n",
    "`b` - добавить строку снизу\n",
    "\n",
    "`a` - добавить строку сверху\n",
    "\n",
    "`Ctrl + Enter` - Выполнить ячейку\n",
    "\n",
    "`Shift + Enter` - Выполнить ячейку и перейти к следующей\n"
   ]
  },
  {
   "cell_type": "code",
   "execution_count": null,
   "metadata": {},
   "outputs": [],
   "source": []
  },
  {
   "cell_type": "markdown",
   "metadata": {
    "id": "gqTtxGHBlOQ5"
   },
   "source": [
    "### Предварительный разогрев:"
   ]
  },
  {
   "cell_type": "markdown",
   "metadata": {
    "id": "ZovDYMeNp_SX"
   },
   "source": [
    "1. Есть переменная a. Какой у него тип? Можно ли его сделать int?"
   ]
  },
  {
   "cell_type": "code",
   "execution_count": 4,
   "metadata": {
    "id": "a2NWUjDwj1ZK"
   },
   "outputs": [],
   "source": [
    "a = '1.5'"
   ]
  },
  {
   "cell_type": "code",
   "execution_count": 2,
   "metadata": {},
   "outputs": [
    {
     "name": "stdout",
     "output_type": "stream",
     "text": [
      "1.5\n"
     ]
    }
   ],
   "source": [
    "print(a)"
   ]
  },
  {
   "cell_type": "markdown",
   "metadata": {
    "id": "eICJLZAUqJqE"
   },
   "source": [
    "2. Как введение значение сохранить как **целое число** в переменной `x`?\n"
   ]
  },
  {
   "cell_type": "code",
   "execution_count": null,
   "metadata": {
    "id": "Sm9rvxKPqVkO"
   },
   "outputs": [],
   "source": []
  },
  {
   "cell_type": "markdown",
   "metadata": {
    "id": "vOy0E1Knqltc"
   },
   "source": [
    "3. Расчет площади прямоугольника. Примите два значения - `а` и `b` (длина и ширина). Верните значение площади прямоугольника."
   ]
  },
  {
   "cell_type": "code",
   "execution_count": null,
   "metadata": {
    "id": "btr6-y4dq7KH"
   },
   "outputs": [],
   "source": []
  },
  {
   "cell_type": "markdown",
   "metadata": {
    "id": "DUDYk5mCrowW"
   },
   "source": [
    "4. Есть две переменные - `x1=5` и `x2=0`. Как поменять их значения между собой? чтобы `x1=0` и `x2=5`."
   ]
  },
  {
   "cell_type": "code",
   "execution_count": null,
   "metadata": {
    "id": "XyBlxLWkr4z4"
   },
   "outputs": [],
   "source": [
    "x1 = 5\n",
    "x2 = 0\n",
    "\n",
    "#ваше решение\n"
   ]
  },
  {
   "cell_type": "markdown",
   "metadata": {},
   "source": [
    "# Занятие 2"
   ]
  },
  {
   "cell_type": "markdown",
   "metadata": {
    "id": "bA3W29GVr-uL"
   },
   "source": [
    "## print()"
   ]
  },
  {
   "cell_type": "code",
   "execution_count": 13,
   "metadata": {
    "colab": {
     "base_uri": "https://localhost:8080/",
     "height": 35
    },
    "id": "-AcUWp47b28u",
    "outputId": "54af50f5-097e-418f-be8f-5965b59a99d8"
   },
   "outputs": [
    {
     "name": "stdout",
     "output_type": "stream",
     "text": [
      "1 2 3 - 123\n",
      "1\n"
     ]
    }
   ],
   "source": [
    "#separator - это комментарий\n",
    "\n",
    "print(1, 2, 3, end = ' - ')\n",
    "print(1, 2, 3, sep = '')\n",
    "print(1)\n"
   ]
  },
  {
   "cell_type": "code",
   "execution_count": 10,
   "metadata": {
    "id": "WB_ob3Y7cI1G"
   },
   "outputs": [
    {
     "name": "stdout",
     "output_type": "stream",
     "text": [
      "1 2 3 1 2\n",
      "1\n"
     ]
    }
   ],
   "source": [
    "#end\n",
    "\n",
    "print(1, 2, 3, end = ' ')\n",
    "print(1, 2)\n",
    "print(1)"
   ]
  },
  {
   "cell_type": "code",
   "execution_count": 14,
   "metadata": {
    "colab": {
     "base_uri": "https://localhost:8080/"
    },
    "id": "CuPLJOclc2UE",
    "outputId": "d192bc54-3aaa-49c7-ddfe-602c3bb33982"
   },
   "outputs": [
    {
     "name": "stdout",
     "output_type": "stream",
     "text": [
      "Этот товар стоит ___ сом и ____ тыйын\n"
     ]
    }
   ],
   "source": [
    "som = 9\n",
    "tyiyn = 50\n",
    "print(\"Этот товар стоит ___ сом и ____ тыйын\")"
   ]
  },
  {
   "cell_type": "markdown",
   "metadata": {
    "id": "wmyriv4AsHtm"
   },
   "source": [
    "Первый вариант"
   ]
  },
  {
   "cell_type": "code",
   "execution_count": 15,
   "metadata": {
    "colab": {
     "base_uri": "https://localhost:8080/"
    },
    "id": "FBqa-3t4dQuT",
    "outputId": "02384c6f-1716-4e30-ab46-34f61d23258a"
   },
   "outputs": [
    {
     "name": "stdout",
     "output_type": "stream",
     "text": [
      "Этот товар стоит 9 сом и 50 тыйын\n"
     ]
    }
   ],
   "source": [
    "print(\"Этот товар стоит\", som, \"сом и\", tyiyn, \"тыйын\")"
   ]
  },
  {
   "cell_type": "markdown",
   "metadata": {
    "id": "OLFgPutbde5q"
   },
   "source": [
    "Второй вариант (грамотный)"
   ]
  },
  {
   "cell_type": "code",
   "execution_count": 17,
   "metadata": {
    "colab": {
     "base_uri": "https://localhost:8080/"
    },
    "id": "vzwyEgTbdhfy",
    "outputId": "b0da4bbb-f906-463e-9ebc-13b6e8114d9e"
   },
   "outputs": [
    {
     "name": "stdout",
     "output_type": "stream",
     "text": [
      "Этот товар стоит 9 сом и 50 тыйын\n"
     ]
    }
   ],
   "source": [
    "print(f\"Этот товар стоит {som} сом и {tyiyn} тыйын\")"
   ]
  },
  {
   "cell_type": "code",
   "execution_count": 18,
   "metadata": {
    "colab": {
     "base_uri": "https://localhost:8080/"
    },
    "id": "TUrTfeytdyOV",
    "outputId": "2b0bf50b-7323-4f87-d251-63885dfc4aa1"
   },
   "outputs": [
    {
     "name": "stdout",
     "output_type": "stream",
     "text": [
      "Этот товар стоит 59 сом и 99 тыйын\n"
     ]
    }
   ],
   "source": [
    "som = 59\n",
    "tyiyn = 99\n",
    "print(f\"Этот товар стоит {som} сом и {tyiyn} тыйын\")\n",
    "\n"
   ]
  },
  {
   "cell_type": "markdown",
   "metadata": {
    "id": "gtJA0WcSwuOV"
   },
   "source": [
    "#### Есть переменные часов, минут и секунд. Напишите программу которая выведет в формате \"Сейчас ____ часов, ____ минут и _____ секунд\"."
   ]
  },
  {
   "cell_type": "code",
   "execution_count": 19,
   "metadata": {
    "id": "ym5oKL6SxQE9"
   },
   "outputs": [
    {
     "name": "stdout",
     "output_type": "stream",
     "text": [
      "Сейчас 8 часов, 12 минут и 0 секунд\n"
     ]
    }
   ],
   "source": [
    "hours = 8\n",
    "minutes = 12\n",
    "seconds = 0\n",
    "\n",
    "# Напишите здесь своё решение\n",
    "print(f\"Сейчас {hours} часов, {minutes} минут и {seconds} секунд\")\n"
   ]
  },
  {
   "cell_type": "code",
   "execution_count": 25,
   "metadata": {},
   "outputs": [],
   "source": [
    "a = 5\n",
    "b = 3"
   ]
  },
  {
   "cell_type": "code",
   "execution_count": 31,
   "metadata": {},
   "outputs": [
    {
     "data": {
      "text/plain": [
       "5"
      ]
     },
     "execution_count": 31,
     "metadata": {},
     "output_type": "execute_result"
    }
   ],
   "source": [
    "a"
   ]
  },
  {
   "cell_type": "code",
   "execution_count": null,
   "metadata": {},
   "outputs": [],
   "source": []
  },
  {
   "cell_type": "markdown",
   "metadata": {
    "id": "AE5VC9-ieKqA"
   },
   "source": [
    "### Арифметические выражения"
   ]
  },
  {
   "cell_type": "markdown",
   "metadata": {
    "id": "970quHFdfXD2"
   },
   "source": [
    "![image.png](data:image/png;base64,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)"
   ]
  },
  {
   "cell_type": "code",
   "execution_count": 34,
   "metadata": {
    "colab": {
     "base_uri": "https://localhost:8080/"
    },
    "id": "0YiS7XKKeNxl",
    "outputId": "68c03d0b-b50b-4f85-f5e6-1af4aa07631c"
   },
   "outputs": [
    {
     "name": "stdout",
     "output_type": "stream",
     "text": [
      "5.0\n"
     ]
    }
   ],
   "source": [
    "# обычное деление \n",
    "\n",
    "print(15/3)"
   ]
  },
  {
   "cell_type": "code",
   "execution_count": 44,
   "metadata": {},
   "outputs": [
    {
     "name": "stdout",
     "output_type": "stream",
     "text": [
      "4\n"
     ]
    }
   ],
   "source": [
    "print(19 % 5)"
   ]
  },
  {
   "cell_type": "code",
   "execution_count": 43,
   "metadata": {},
   "outputs": [
    {
     "data": {
      "text/plain": [
       "16"
      ]
     },
     "execution_count": 43,
     "metadata": {},
     "output_type": "execute_result"
    }
   ],
   "source": [
    "2 * 2 * 2 * 2"
   ]
  },
  {
   "cell_type": "code",
   "execution_count": 47,
   "metadata": {},
   "outputs": [
    {
     "data": {
      "text/plain": [
       "25"
      ]
     },
     "execution_count": 47,
     "metadata": {},
     "output_type": "execute_result"
    }
   ],
   "source": [
    "5 ** 2"
   ]
  },
  {
   "cell_type": "code",
   "execution_count": 51,
   "metadata": {},
   "outputs": [
    {
     "data": {
      "text/plain": [
       "1"
      ]
     },
     "execution_count": 51,
     "metadata": {},
     "output_type": "execute_result"
    }
   ],
   "source": [
    "15 % 2"
   ]
  },
  {
   "cell_type": "code",
   "execution_count": null,
   "metadata": {},
   "outputs": [],
   "source": []
  },
  {
   "cell_type": "code",
   "execution_count": null,
   "metadata": {},
   "outputs": [],
   "source": [
    "int\n",
    "float"
   ]
  },
  {
   "cell_type": "code",
   "execution_count": 59,
   "metadata": {},
   "outputs": [
    {
     "data": {
      "text/plain": [
       "2"
      ]
     },
     "execution_count": 59,
     "metadata": {},
     "output_type": "execute_result"
    }
   ],
   "source": [
    "round(2.46)"
   ]
  },
  {
   "cell_type": "markdown",
   "metadata": {
    "id": "ZxmwBnO_fy5-"
   },
   "source": [
    "#### Есть 13 человек. В одну машину помещается 5 человек. Сколько автомобилей будут полными? Сколько человек поедут в последней неполной машине?"
   ]
  },
  {
   "cell_type": "code",
   "execution_count": 52,
   "metadata": {
    "colab": {
     "base_uri": "https://localhost:8080/"
    },
    "id": "LHjLTQ7OfpoF",
    "outputId": "8d459455-d889-4d7e-fcb9-4422740c479f"
   },
   "outputs": [
    {
     "name": "stdout",
     "output_type": "stream",
     "text": [
      "2\n"
     ]
    }
   ],
   "source": [
    "print(13 // 5)"
   ]
  },
  {
   "cell_type": "code",
   "execution_count": 53,
   "metadata": {
    "colab": {
     "base_uri": "https://localhost:8080/"
    },
    "id": "eawxJezYgr_j",
    "outputId": "beb1998a-ff5c-4d55-8b33-e6dc6a84498d"
   },
   "outputs": [
    {
     "name": "stdout",
     "output_type": "stream",
     "text": [
      "3\n"
     ]
    }
   ],
   "source": [
    "print(13 % 5)"
   ]
  },
  {
   "cell_type": "markdown",
   "metadata": {
    "id": "8eNpVn1S1xdk"
   },
   "source": [
    "---------\n",
    "\n",
    "#### На вход подается число трехзначное. Выведите последнюю цифру числа.\n",
    "\n",
    "Например,\n",
    "\n",
    "на вход = 156\n",
    "\n",
    "на выход = 6"
   ]
  },
  {
   "cell_type": "code",
   "execution_count": 56,
   "metadata": {
    "id": "lRzaF_mn31Xb"
   },
   "outputs": [
    {
     "name": "stdout",
     "output_type": "stream",
     "text": [
      "156\n",
      "56\n"
     ]
    }
   ],
   "source": [
    "# 100 - 999\n",
    "num = int(input())\n",
    "print(num % 100)"
   ]
  },
  {
   "cell_type": "markdown",
   "metadata": {
    "id": "Gp7EOrFr4WHn"
   },
   "source": [
    "#### Найдите корень числа, который подается на вход"
   ]
  },
  {
   "cell_type": "code",
   "execution_count": 57,
   "metadata": {
    "id": "FmeLUJ-B4ftH"
   },
   "outputs": [
    {
     "name": "stdout",
     "output_type": "stream",
     "text": [
      "64\n",
      "8.0\n"
     ]
    }
   ],
   "source": [
    "num = int(input())\n",
    "print(num ** (1/2))"
   ]
  },
  {
   "cell_type": "markdown",
   "metadata": {
    "id": "zLYAlMqA4lUx"
   },
   "source": [
    "---------\n",
    "\n",
    "## Логический тип данных."
   ]
  },
  {
   "cell_type": "markdown",
   "metadata": {
    "id": "shrBQmc063NE"
   },
   "source": [
    "#### На вход подаются два числа, `n1`, `n2`. Сравните больше ли первое число второго? Выведите `True` если да, иначе `False`."
   ]
  },
  {
   "cell_type": "code",
   "execution_count": 66,
   "metadata": {
    "id": "C2beZQ4c4w3w"
   },
   "outputs": [
    {
     "name": "stdout",
     "output_type": "stream",
     "text": [
      "10\n",
      "1\n",
      "True\n"
     ]
    }
   ],
   "source": [
    "n1 = int(input())\n",
    "n2 = int(input())\n",
    "print(n1 > n2)"
   ]
  },
  {
   "cell_type": "code",
   "execution_count": 76,
   "metadata": {},
   "outputs": [
    {
     "data": {
      "text/plain": [
       "False"
      ]
     },
     "execution_count": 76,
     "metadata": {},
     "output_type": "execute_result"
    }
   ],
   "source": [
    "10 >= 11\n",
    "\n",
    ">\n",
    "<\n",
    "==\n",
    "!=\n",
    "<=\n",
    ">="
   ]
  },
  {
   "cell_type": "markdown",
   "metadata": {
    "id": "_qOGlmFO7PxN"
   },
   "source": [
    "#### На вход подается число - `n1`. Проверьте четное ли число. Выведите `True` если да, иначе `False`."
   ]
  },
  {
   "cell_type": "code",
   "execution_count": 78,
   "metadata": {
    "id": "IEIlFiJx8NpQ"
   },
   "outputs": [
    {
     "name": "stdout",
     "output_type": "stream",
     "text": [
      "5\n",
      "False\n"
     ]
    }
   ],
   "source": [
    "n1 = int(input())\n",
    "print(n1 % 2 == 0)"
   ]
  },
  {
   "cell_type": "markdown",
   "metadata": {
    "id": "6RraEyQh8S8U"
   },
   "source": [
    "#### На вход подается число - `n1`. Проверьте делится ли число на 3 без остатка."
   ]
  },
  {
   "cell_type": "code",
   "execution_count": 79,
   "metadata": {
    "id": "4wg4SPqV8a8N"
   },
   "outputs": [
    {
     "name": "stdout",
     "output_type": "stream",
     "text": [
      "9\n",
      "True\n"
     ]
    }
   ],
   "source": [
    "n1 = int(input())\n",
    "print(n1 % 3 == 0)"
   ]
  },
  {
   "cell_type": "markdown",
   "metadata": {
    "id": "OwtGvV6_-m0d"
   },
   "source": [
    "#### На вход подается число - `n1`. Выведите `True` если число **НЕ** делится на 10, если делится - `False`."
   ]
  },
  {
   "cell_type": "code",
   "execution_count": 83,
   "metadata": {
    "id": "9A7X-Yh2-lln"
   },
   "outputs": [
    {
     "name": "stdout",
     "output_type": "stream",
     "text": [
      "100\n",
      "False\n"
     ]
    }
   ],
   "source": [
    "n1 = int(input())\n",
    "print((n1 % 10) != 0)"
   ]
  },
  {
   "cell_type": "markdown",
   "metadata": {
    "id": "rZNN1Eph8kKr"
   },
   "source": [
    "#### На вход подается число - `n1`. Проверьте находится ли число в интервале `[5, 25)`."
   ]
  },
  {
   "cell_type": "code",
   "execution_count": 96,
   "metadata": {
    "id": "isoAVoUd8cBP"
   },
   "outputs": [
    {
     "name": "stdout",
     "output_type": "stream",
     "text": [
      "8\n",
      "True\n"
     ]
    }
   ],
   "source": [
    "n1 = int(input())\n",
    "\n",
    "print(  (n1 >= 5) and (n1 < 25)  )"
   ]
  },
  {
   "cell_type": "markdown",
   "metadata": {
    "id": "s87bSUeL9Iff"
   },
   "source": [
    "#### На вход подается число - `n1`. Выведите `True`, если число делится на 3 либо на 2, иначе `False`."
   ]
  },
  {
   "cell_type": "code",
   "execution_count": 92,
   "metadata": {
    "id": "I-Qt1c0R9v-0"
   },
   "outputs": [
    {
     "name": "stdout",
     "output_type": "stream",
     "text": [
      "6\n",
      "True\n"
     ]
    }
   ],
   "source": [
    "n1 = int(input())\n",
    "\n",
    "print(   (n1 % 3 == 0) or (n1 % 2 == 0)  )"
   ]
  },
  {
   "cell_type": "markdown",
   "metadata": {
    "id": "MG7kJu19AcW6"
   },
   "source": [
    "#### На вход подается число - `n1`. Проверьте находится ли число в интервале `[0, 5)` или `[20, 25]`."
   ]
  },
  {
   "cell_type": "code",
   "execution_count": 99,
   "metadata": {
    "id": "WO0WcTbWAotf"
   },
   "outputs": [
    {
     "name": "stdout",
     "output_type": "stream",
     "text": [
      "15\n",
      "False\n"
     ]
    }
   ],
   "source": [
    "# первый вариант\n",
    "n1 = int(input())\n",
    "\n",
    "print(   ( (n1 >= 0) and (n1 < 5) ) or ( (n1 >= 20) and (n1 <= 25) )  )"
   ]
  },
  {
   "cell_type": "code",
   "execution_count": null,
   "metadata": {},
   "outputs": [],
   "source": [
    "# второй вариант"
   ]
  },
  {
   "cell_type": "code",
   "execution_count": 103,
   "metadata": {},
   "outputs": [
    {
     "name": "stdout",
     "output_type": "stream",
     "text": [
      "22\n",
      "True\n"
     ]
    }
   ],
   "source": [
    "n1 = int(input())\n",
    "\n",
    "print(   ( 0 <= n1 < 5 ) or ( 20 <= n1 <= 25 )  )"
   ]
  },
  {
   "cell_type": "code",
   "execution_count": 110,
   "metadata": {},
   "outputs": [
    {
     "data": {
      "text/plain": [
       "bool"
      ]
     },
     "execution_count": 110,
     "metadata": {},
     "output_type": "execute_result"
    }
   ],
   "source": [
    "type(False)"
   ]
  },
  {
   "cell_type": "code",
   "execution_count": 122,
   "metadata": {},
   "outputs": [
    {
     "data": {
      "text/plain": [
       "True"
      ]
     },
     "execution_count": 122,
     "metadata": {},
     "output_type": "execute_result"
    }
   ],
   "source": [
    "False == 0"
   ]
  },
  {
   "cell_type": "code",
   "execution_count": null,
   "metadata": {},
   "outputs": [],
   "source": []
  },
  {
   "cell_type": "markdown",
   "metadata": {
    "id": "p0ai4IfnBHB_"
   },
   "source": [
    "---\n",
    "## Строки (str)"
   ]
  },
  {
   "cell_type": "markdown",
   "metadata": {
    "id": "z9HloYUiBc7w"
   },
   "source": [
    "#### Знак `\\n`"
   ]
  },
  {
   "cell_type": "code",
   "execution_count": 127,
   "metadata": {
    "colab": {
     "base_uri": "https://localhost:8080/"
    },
    "id": "cTlbkWsfBRmI",
    "outputId": "fc7fa057-f61f-4445-acf3-8b575e8becb6"
   },
   "outputs": [
    {
     "name": "stdout",
     "output_type": "stream",
     "text": [
      "Hello\n",
      "world\n",
      "asd\n"
     ]
    }
   ],
   "source": [
    "print(\"Hello\\nworld\\nasd\")\n"
   ]
  },
  {
   "cell_type": "markdown",
   "metadata": {
    "id": "ue1DMGj8B44X"
   },
   "source": [
    "#### На вход подаются два слова - `word1`, `word2`. Выведите их вместе через пробел."
   ]
  },
  {
   "cell_type": "code",
   "execution_count": 128,
   "metadata": {
    "id": "9OejHZGNCPLJ"
   },
   "outputs": [
    {
     "name": "stdout",
     "output_type": "stream",
     "text": [
      "asd\n",
      "das\n",
      "asd das\n"
     ]
    }
   ],
   "source": [
    "word1 = input()\n",
    "word2 = input()\n",
    "print(word1, word2)"
   ]
  },
  {
   "cell_type": "code",
   "execution_count": 130,
   "metadata": {},
   "outputs": [
    {
     "name": "stdout",
     "output_type": "stream",
     "text": [
      "asdas\n",
      "dsa\n",
      "asdasdsa\n"
     ]
    }
   ],
   "source": [
    "word1 = input()\n",
    "word2 = input()\n",
    "print(word1 + \" \" + word2)"
   ]
  },
  {
   "cell_type": "markdown",
   "metadata": {
    "id": "HuhWvdGDCP2y"
   },
   "source": [
    "#### На вход подается строка - `word` и число `n`. Выведите их вместе."
   ]
  },
  {
   "cell_type": "code",
   "execution_count": 133,
   "metadata": {
    "id": "fgeAgIyOC-kW"
   },
   "outputs": [
    {
     "name": "stdout",
     "output_type": "stream",
     "text": [
      "asdas\n",
      "123\n",
      "asdas 123\n"
     ]
    }
   ],
   "source": [
    "word = input()\n",
    "n = int(input())\n",
    "print(word + \" \" +  str(n))"
   ]
  },
  {
   "cell_type": "markdown",
   "metadata": {
    "id": "_qMXyYf_DOOT"
   },
   "source": [
    "#### Как узнать сколько символов в строке (длину строки)? **len( )**\n"
   ]
  },
  {
   "cell_type": "code",
   "execution_count": 137,
   "metadata": {
    "colab": {
     "base_uri": "https://localhost:8080/"
    },
    "id": "goDP1xS6GJSR",
    "outputId": "52192dbb-eaf4-402c-d736-dacdff601be5"
   },
   "outputs": [
    {
     "name": "stdout",
     "output_type": "stream",
     "text": [
      "9\n"
     ]
    }
   ],
   "source": [
    "word = \"Python  5\"\n",
    "print(len(word))\n",
    "\n",
    "# length"
   ]
  },
  {
   "cell_type": "code",
   "execution_count": 140,
   "metadata": {},
   "outputs": [
    {
     "name": "stdout",
     "output_type": "stream",
     "text": [
      "True\n"
     ]
    }
   ],
   "source": [
    "word = \"hello\"\n",
    "\n",
    "len(word) > 4"
   ]
  },
  {
   "cell_type": "code",
   "execution_count": 138,
   "metadata": {
    "colab": {
     "base_uri": "https://localhost:8080/"
    },
    "id": "FGy2MXsAGrvE",
    "outputId": "a08d136f-8394-4d4a-daf5-d25f13cb1b3d"
   },
   "outputs": [
    {
     "name": "stdout",
     "output_type": "stream",
     "text": [
      "3\n"
     ]
    }
   ],
   "source": [
    "print(len(\"   \"))"
   ]
  },
  {
   "cell_type": "markdown",
   "metadata": {
    "id": "U3fGq-XQGDYN"
   },
   "source": [
    "------\n",
    "\n",
    "**Как Вам такой формат работы? Ваши предложения**"
   ]
  }
 ],
 "metadata": {
  "colab": {
   "collapsed_sections": [
    "gqTtxGHBlOQ5",
    "bA3W29GVr-uL",
    "AE5VC9-ieKqA",
    "zLYAlMqA4lUx",
    "p0ai4IfnBHB_"
   ],
   "name": "02_math_str.ipynb",
   "provenance": []
  },
  "kernelspec": {
   "display_name": "Python 3",
   "language": "python",
   "name": "python3"
  },
  "language_info": {
   "codemirror_mode": {
    "name": "ipython",
    "version": 3
   },
   "file_extension": ".py",
   "mimetype": "text/x-python",
   "name": "python",
   "nbconvert_exporter": "python",
   "pygments_lexer": "ipython3",
   "version": "3.8.3"
  }
 },
 "nbformat": 4,
 "nbformat_minor": 1
}
