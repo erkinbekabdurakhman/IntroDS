{
 "cells": [
  {
   "cell_type": "markdown",
   "id": "8086baf1",
   "metadata": {},
   "source": [
    "Atalov S. (DevCIT)\n",
    "\n",
    "# Функции\n",
    "---"
   ]
  },
  {
   "cell_type": "markdown",
   "id": "fa1f72d7",
   "metadata": {},
   "source": [
    "### Создание (определение) функции"
   ]
  },
  {
   "cell_type": "code",
   "execution_count": null,
   "id": "550c276a",
   "metadata": {},
   "outputs": [],
   "source": [
    "# Создадим нашу первую функцию. \n",
    "# У неё будет одна задача: выводить на экран текст Today is: November 25.\n",
    "\n"
   ]
  },
  {
   "cell_type": "code",
   "execution_count": null,
   "id": "63d7b295",
   "metadata": {},
   "outputs": [],
   "source": [
    "# вызов функции\n"
   ]
  },
  {
   "cell_type": "markdown",
   "id": "5d8cc25c",
   "metadata": {},
   "source": [
    "### Передача одного аргумента"
   ]
  },
  {
   "cell_type": "code",
   "execution_count": null,
   "id": "6a556a18",
   "metadata": {},
   "outputs": [],
   "source": [
    "# переписать функцию так, чтобы дату можно было подавать функции\n"
   ]
  },
  {
   "cell_type": "markdown",
   "id": "f8c9d40c",
   "metadata": {},
   "source": [
    "### Передача нескольких аргументов"
   ]
  },
  {
   "cell_type": "code",
   "execution_count": null,
   "id": "e7d633ff",
   "metadata": {},
   "outputs": [],
   "source": [
    "# переписать функцию так, чтобы месяц и дату передавать отдельно\n"
   ]
  },
  {
   "cell_type": "markdown",
   "id": "3b279916",
   "metadata": {},
   "source": [
    "В Python, как и в большинстве языков, при вызове функции нужно обязательно передать столько же аргументов, сколько было указано при её определении. Иначе программа выдаст ошибку."
   ]
  },
  {
   "cell_type": "markdown",
   "id": "3accd36a",
   "metadata": {},
   "source": [
    "### Возврат значений"
   ]
  },
  {
   "cell_type": "markdown",
   "id": "47c6a513",
   "metadata": {},
   "source": [
    "Мы в основном работали с функциями, которые выводят результат на экран, а не возвращают его. Честно говоря, вывод на экран — фактически обучающий элемент. В реальном коде на экран никто ничего не выводит (за исключением утилит командной строки). Функции возвращают данные, которые потребляются другими функциями."
   ]
  },
  {
   "cell_type": "code",
   "execution_count": null,
   "id": "ceab0444",
   "metadata": {},
   "outputs": [],
   "source": [
    "# создадим и вызовем функцию, которая принимает два числа и возвращает произведение данных чисел\n"
   ]
  },
  {
   "cell_type": "code",
   "execution_count": null,
   "id": "48bedf9d",
   "metadata": {},
   "outputs": [],
   "source": [
    "# что если ничего не возвращать\n"
   ]
  },
  {
   "cell_type": "markdown",
   "id": "d00b6d67",
   "metadata": {},
   "source": [
    "### Параметры по умолчанию"
   ]
  },
  {
   "cell_type": "code",
   "execution_count": null,
   "id": "28914335",
   "metadata": {},
   "outputs": [],
   "source": [
    "# аргумент может быть необязательным. У такого аргумента есть значение по умолчанию."
   ]
  },
  {
   "cell_type": "markdown",
   "id": "edc6c455",
   "metadata": {},
   "source": [
    "### Именование"
   ]
  },
  {
   "cell_type": "code",
   "execution_count": null,
   "id": "55cd1e92",
   "metadata": {},
   "outputs": [],
   "source": []
  },
  {
   "cell_type": "markdown",
   "id": "100b9a9c",
   "metadata": {},
   "source": [
    "### Глобальные и локальные переменные"
   ]
  },
  {
   "cell_type": "code",
   "execution_count": null,
   "id": "e556b394",
   "metadata": {},
   "outputs": [],
   "source": [
    "# Какое значение окажется внутри переменной result после выполнения кода?\n",
    "\n",
    "age = 5\n",
    "\n",
    "def generate():\n",
    "    return age + 3\n",
    "\n",
    "result = generate()"
   ]
  },
  {
   "cell_type": "code",
   "execution_count": null,
   "id": "cc1fc9d0",
   "metadata": {},
   "outputs": [],
   "source": [
    "# а если так?\n",
    "\n",
    "age = 5\n",
    "\n",
    "def generate():\n",
    "    age = 10\n",
    "    return age + 3\n",
    "\n",
    "result = generate()"
   ]
  },
  {
   "cell_type": "code",
   "execution_count": null,
   "id": "6ac20cc3",
   "metadata": {},
   "outputs": [],
   "source": [
    "# если так?\n",
    "\n",
    "age = 5\n",
    "\n",
    "def generate():\n",
    "    age = 8\n",
    "\n",
    "generate()\n",
    "\n",
    "result = age"
   ]
  },
  {
   "cell_type": "markdown",
   "id": "85ed7852",
   "metadata": {},
   "source": [
    "### Решаем задачки с использованием функций"
   ]
  },
  {
   "cell_type": "markdown",
   "id": "97ab0d9d",
   "metadata": {},
   "source": [
    "#### 1. Функция для расчета списка квадратов\n",
    "\n",
    "По данному целому числу N **верните** список всех квадратов натуральных чисел, не превосходящие N, в порядке возрастания.\n",
    "\n",
    "`Входные данные`\n",
    "\n",
    "`50`\n",
    "\n",
    "`Выходные данные`\n",
    "\n",
    "`[1, 4, 9, 16, 25, 36, 49]`"
   ]
  },
  {
   "cell_type": "code",
   "execution_count": null,
   "id": "aeb2cb78",
   "metadata": {},
   "outputs": [],
   "source": []
  },
  {
   "cell_type": "markdown",
   "id": "afa1b24b",
   "metadata": {},
   "source": [
    "#### 2. Функция для нахождения максимума в списке чисел\n",
    "\n",
    "По данному списку lst **верните** максимальный элемент списка.\n",
    "\n",
    "`Входные данные`\n",
    "\n",
    "`[1, 4, 9, 162, 25, 36, 49]`\n",
    "\n",
    "`Выходные данные`\n",
    "\n",
    "`162`"
   ]
  },
  {
   "cell_type": "code",
   "execution_count": null,
   "id": "b192867d",
   "metadata": {},
   "outputs": [],
   "source": []
  },
  {
   "cell_type": "markdown",
   "id": "71758438",
   "metadata": {},
   "source": [
    "#### 3. Функция для замены точек на запятую.\n",
    "\n",
    "На вход функции подается текст, в котором содержатся точки, верните тот же текст, но заменив точки на запятые.\n",
    "\n",
    "`Входные данные`\n",
    "\n",
    "`Это текст, для проверки, работы функции!`\n",
    "\n",
    "`Выходные данные`\n",
    "\n",
    "`Это текст. для проверки. работы функции!`"
   ]
  },
  {
   "cell_type": "code",
   "execution_count": null,
   "id": "2b781753",
   "metadata": {},
   "outputs": [],
   "source": []
  },
  {
   "cell_type": "markdown",
   "id": "d130e6f6",
   "metadata": {},
   "source": [
    "#### 4. Функция для округления списка чисел.\n",
    "\n",
    "На вход функции подается список дробных чисел. Верните список, в котором числа округлены (вниз) и имеют тип данных `int`\n",
    "\n",
    "`Входные данные`\n",
    "\n",
    "`[1.3, 5.22, 4.86]`\n",
    "\n",
    "`Выходные данные`\n",
    "\n",
    "`[1, 5, 4]`"
   ]
  },
  {
   "cell_type": "code",
   "execution_count": null,
   "id": "b9b78976",
   "metadata": {},
   "outputs": [],
   "source": []
  },
  {
   "cell_type": "markdown",
   "id": "9794b868",
   "metadata": {},
   "source": [
    "#### 5. Функция для нахождения отличников.\n",
    "\n",
    "На вход функции подаются два списка:\n",
    "1. Список имен студентов\n",
    "2. Список оценок этих студентов\n",
    "\n",
    "Верните имена отличников (оценка = 5).\n",
    "\n",
    "`Входные данные`\n",
    "\n",
    "`names = ['Lucie','Mark', 'Lutz', 'John', 'Maria']`\n",
    "\n",
    "`marks = [5, 4, 5, 3, 4]`\n",
    "\n",
    "`Выходные данные`\n",
    "\n",
    "`['Lucie', 'Lutz']`"
   ]
  },
  {
   "cell_type": "code",
   "execution_count": null,
   "id": "1be2f08e",
   "metadata": {},
   "outputs": [],
   "source": []
  },
  {
   "cell_type": "markdown",
   "id": "b91de282",
   "metadata": {},
   "source": [
    "#### 6. Функция Модуль.\n",
    "\n",
    "На вход функции подается список чисел типа `int`. Верните список чисел, заменив знак отрицательных чисел на положительный.\n",
    "\n",
    "\n",
    "`Входные данные`\n",
    "\n",
    "``\n",
    "\n",
    "`[5, -8, 4, 5, -12, 0, 3, 4]`\n",
    "\n",
    "`Выходные данные`\n",
    "\n",
    "`[5, 8, 4, 5, 12, 0, 3, 4]`"
   ]
  },
  {
   "cell_type": "code",
   "execution_count": null,
   "id": "5eb68e21",
   "metadata": {},
   "outputs": [],
   "source": []
  },
  {
   "cell_type": "markdown",
   "id": "1e32a0b8",
   "metadata": {},
   "source": [
    "#### 7. Функция для фильтрации чисел.\n",
    "\n",
    "На вход функции подается список чисел типа `int`. Верните список без 0.\n",
    "\n",
    "\n",
    "`Входные данные`\n",
    "\n",
    "``\n",
    "\n",
    "`[5, 0, 4, 5, 0, 0, 3, 4]`\n",
    "\n",
    "`Выходные данные`\n",
    "\n",
    "`[5, 4, 5, 3, 4]`"
   ]
  },
  {
   "cell_type": "code",
   "execution_count": null,
   "id": "2bc6dbad",
   "metadata": {},
   "outputs": [],
   "source": []
  }
 ],
 "metadata": {
  "kernelspec": {
   "display_name": "Python 3",
   "language": "python",
   "name": "python3"
  },
  "language_info": {
   "codemirror_mode": {
    "name": "ipython",
    "version": 3
   },
   "file_extension": ".py",
   "mimetype": "text/x-python",
   "name": "python",
   "nbconvert_exporter": "python",
   "pygments_lexer": "ipython3",
   "version": "3.8.8"
  }
 },
 "nbformat": 4,
 "nbformat_minor": 5
}
