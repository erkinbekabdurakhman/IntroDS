{
 "cells": [
  {
   "cell_type": "markdown",
   "id": "1b66e4fb",
   "metadata": {},
   "source": [
    "Atalov S. (DevCIT)\n",
    "\n",
    "# Логистическая регрессия"
   ]
  },
  {
   "cell_type": "code",
   "execution_count": 2,
   "id": "35289afb",
   "metadata": {},
   "outputs": [],
   "source": [
    "import pandas as pd\n",
    "import matplotlib.pyplot as plt"
   ]
  },
  {
   "cell_type": "code",
   "execution_count": 3,
   "id": "b6edad3e",
   "metadata": {},
   "outputs": [],
   "source": [
    "df = pd.read_csv('iris_short.csv')"
   ]
  },
  {
   "cell_type": "code",
   "execution_count": 4,
   "id": "177a4a0e",
   "metadata": {},
   "outputs": [
    {
     "data": {
      "text/html": [
       "<div>\n",
       "<style scoped>\n",
       "    .dataframe tbody tr th:only-of-type {\n",
       "        vertical-align: middle;\n",
       "    }\n",
       "\n",
       "    .dataframe tbody tr th {\n",
       "        vertical-align: top;\n",
       "    }\n",
       "\n",
       "    .dataframe thead th {\n",
       "        text-align: right;\n",
       "    }\n",
       "</style>\n",
       "<table border=\"1\" class=\"dataframe\">\n",
       "  <thead>\n",
       "    <tr style=\"text-align: right;\">\n",
       "      <th></th>\n",
       "      <th>Id</th>\n",
       "      <th>PetalLengthCm</th>\n",
       "      <th>PetalWidthCm</th>\n",
       "      <th>Species</th>\n",
       "    </tr>\n",
       "  </thead>\n",
       "  <tbody>\n",
       "    <tr>\n",
       "      <th>0</th>\n",
       "      <td>1</td>\n",
       "      <td>1.4</td>\n",
       "      <td>0.2</td>\n",
       "      <td>Iris-setosa</td>\n",
       "    </tr>\n",
       "    <tr>\n",
       "      <th>1</th>\n",
       "      <td>2</td>\n",
       "      <td>1.4</td>\n",
       "      <td>0.2</td>\n",
       "      <td>Iris-setosa</td>\n",
       "    </tr>\n",
       "    <tr>\n",
       "      <th>2</th>\n",
       "      <td>3</td>\n",
       "      <td>1.3</td>\n",
       "      <td>0.2</td>\n",
       "      <td>Iris-setosa</td>\n",
       "    </tr>\n",
       "    <tr>\n",
       "      <th>3</th>\n",
       "      <td>4</td>\n",
       "      <td>1.5</td>\n",
       "      <td>0.2</td>\n",
       "      <td>Iris-setosa</td>\n",
       "    </tr>\n",
       "    <tr>\n",
       "      <th>4</th>\n",
       "      <td>5</td>\n",
       "      <td>1.4</td>\n",
       "      <td>0.2</td>\n",
       "      <td>Iris-setosa</td>\n",
       "    </tr>\n",
       "  </tbody>\n",
       "</table>\n",
       "</div>"
      ],
      "text/plain": [
       "   Id  PetalLengthCm  PetalWidthCm      Species\n",
       "0   1            1.4           0.2  Iris-setosa\n",
       "1   2            1.4           0.2  Iris-setosa\n",
       "2   3            1.3           0.2  Iris-setosa\n",
       "3   4            1.5           0.2  Iris-setosa\n",
       "4   5            1.4           0.2  Iris-setosa"
      ]
     },
     "execution_count": 4,
     "metadata": {},
     "output_type": "execute_result"
    }
   ],
   "source": [
    "df.head()"
   ]
  },
  {
   "cell_type": "code",
   "execution_count": null,
   "id": "0015a8b0",
   "metadata": {},
   "outputs": [],
   "source": []
  },
  {
   "cell_type": "code",
   "execution_count": null,
   "id": "3ea89bd3",
   "metadata": {},
   "outputs": [],
   "source": []
  },
  {
   "cell_type": "code",
   "execution_count": null,
   "id": "11f4378c",
   "metadata": {},
   "outputs": [],
   "source": []
  },
  {
   "cell_type": "markdown",
   "id": "5b35892e",
   "metadata": {},
   "source": [
    "---\n",
    "# Немного математики \"под капотом\"\n",
    "## Сигмоидная функция"
   ]
  },
  {
   "cell_type": "markdown",
   "id": "8cf143c4",
   "metadata": {},
   "source": [
    "### Обычная модель линейной регрессии $h_θ(x)=θ^{T}x$\n",
    "\n",
    "### Функция сигмоиды $g(z)= \\frac{1}{1+e^{−z}}$\n",
    "\n",
    "### Если как аргументом функции сигмоиды  дать модель регрессии $z=h_θ(x)=θ^{T}x$\n",
    "\n",
    "\n",
    "### Получим:\n",
    "\n",
    "## $g(z)= \\frac{1}{1+e^{−(θ^{T}x)}}$"
   ]
  },
  {
   "cell_type": "code",
   "execution_count": null,
   "id": "51e13e79",
   "metadata": {},
   "outputs": [],
   "source": [
    "import pandas as pd"
   ]
  },
  {
   "cell_type": "code",
   "execution_count": null,
   "id": "570ed241",
   "metadata": {},
   "outputs": [],
   "source": [
    "df = pd.read_csv('telecom_churn.csv')"
   ]
  },
  {
   "cell_type": "code",
   "execution_count": null,
   "id": "028eb7f1",
   "metadata": {},
   "outputs": [],
   "source": [
    "df.info()"
   ]
  },
  {
   "cell_type": "code",
   "execution_count": null,
   "id": "d3ba9cc4",
   "metadata": {},
   "outputs": [],
   "source": [
    "df.drop(columns = 'State')"
   ]
  },
  {
   "cell_type": "code",
   "execution_count": null,
   "id": "de6994c6",
   "metadata": {},
   "outputs": [],
   "source": [
    "df['International plan'] = df['International plan'].map({'Yes': 1, 'No': 0})\n",
    "df['Voice mail plan'] = df['Voice mail plan'].map({'Yes': 1, 'No': 0})"
   ]
  },
  {
   "cell_type": "code",
   "execution_count": null,
   "id": "1a762498",
   "metadata": {},
   "outputs": [],
   "source": [
    "df['Churn'] = df['Churn'].map({ 'Yes': 1, 'No': 0})"
   ]
  },
  {
   "cell_type": "code",
   "execution_count": null,
   "id": "e30b7448",
   "metadata": {},
   "outputs": [],
   "source": [
    "X = df.copy()\n",
    "X.pop('Churn')\n",
    "y = df['Churn']"
   ]
  },
  {
   "cell_type": "code",
   "execution_count": null,
   "id": "319dab2f",
   "metadata": {},
   "outputs": [],
   "source": [
    "from sklearn.model_selection import train_test_split"
   ]
  },
  {
   "cell_type": "code",
   "execution_count": null,
   "id": "1337987d",
   "metadata": {},
   "outputs": [],
   "source": [
    "X_train, X_test, y_train, y_test = train_test_split(X, y, test_size = 0.2)"
   ]
  },
  {
   "cell_type": "code",
   "execution_count": null,
   "id": "cb8728cd",
   "metadata": {},
   "outputs": [],
   "source": [
    "from sklearn.linear_model import LogisticRegression"
   ]
  },
  {
   "cell_type": "code",
   "execution_count": null,
   "id": "ac79bd83",
   "metadata": {},
   "outputs": [],
   "source": [
    "model = LogisticRegression(max_iter = 10000)\n",
    "model.fit(X_train, y_train)"
   ]
  },
  {
   "cell_type": "code",
   "execution_count": null,
   "id": "19964b37",
   "metadata": {},
   "outputs": [],
   "source": [
    "model.score(X_train, y_train)"
   ]
  },
  {
   "cell_type": "code",
   "execution_count": null,
   "id": "13b3dd4d",
   "metadata": {},
   "outputs": [],
   "source": [
    "X_new = X_test.copy()"
   ]
  },
  {
   "cell_type": "code",
   "execution_count": null,
   "id": "c399e1f7",
   "metadata": {},
   "outputs": [],
   "source": [
    "y_predicted = model.predict(X_test)"
   ]
  },
  {
   "cell_type": "code",
   "execution_count": null,
   "id": "3d3a0bf6",
   "metadata": {},
   "outputs": [],
   "source": [
    "X_new['Churn_prediction'] = y_predicted"
   ]
  },
  {
   "cell_type": "code",
   "execution_count": null,
   "id": "8934a63e",
   "metadata": {},
   "outputs": [],
   "source": [
    "df_1 =  X_new[ X_new['Churn_Prediction' ]  == 1]\n",
    "df_0 =  X_new[ X_new['Churn_Prediction' ] == 0]"
   ]
  },
  {
   "cell_type": "code",
   "execution_count": null,
   "id": "6e7f283b",
   "metadata": {},
   "outputs": [],
   "source": [
    "df_0.describe()"
   ]
  },
  {
   "cell_type": "code",
   "execution_count": 6,
   "id": "d18ac087",
   "metadata": {},
   "outputs": [],
   "source": [
    "#Прогноз"
   ]
  },
  {
   "cell_type": "code",
   "execution_count": null,
   "id": "cc114e4e",
   "metadata": {},
   "outputs": [],
   "source": [
    "labels = list(df_1.columns)"
   ]
  },
  {
   "cell_type": "code",
   "execution_count": null,
   "id": "7be03958",
   "metadata": {},
   "outputs": [],
   "source": [
    "list_1 = []\n",
    "for i in labels:\n",
    "    list_1.append(df_1[i].mean())"
   ]
  },
  {
   "cell_type": "code",
   "execution_count": null,
   "id": "bfac07ef",
   "metadata": {},
   "outputs": [],
   "source": [
    "list_0 = []\n",
    "for i in labels:\n",
    "    list_1.append(df_0[i].mean())"
   ]
  },
  {
   "cell_type": "code",
   "execution_count": null,
   "id": "052298a2",
   "metadata": {},
   "outputs": [],
   "source": [
    "import numpy as np"
   ]
  },
  {
   "cell_type": "code",
   "execution_count": null,
   "id": "69efde5d",
   "metadata": {},
   "outputs": [],
   "source": []
  },
  {
   "cell_type": "code",
   "execution_count": null,
   "id": "5b358e55",
   "metadata": {},
   "outputs": [],
   "source": [
    "D = {'Название признака': labels,\n",
    "    'Те кто ушли': list_1,\n",
    "    'Те кто остались': list_0,\n",
    "    'Разница': list_diff}"
   ]
  },
  {
   "cell_type": "code",
   "execution_count": null,
   "id": "f8e7e129",
   "metadata": {},
   "outputs": [],
   "source": [
    "analys = pd.DataFrame.from_dict(D)"
   ]
  },
  {
   "cell_type": "code",
   "execution_count": null,
   "id": "7a5f0a75",
   "metadata": {},
   "outputs": [],
   "source": [
    "analys.to.csv('analys.csv')"
   ]
  }
 ],
 "metadata": {
  "kernelspec": {
   "display_name": "Python 3",
   "language": "python",
   "name": "python3"
  },
  "language_info": {
   "codemirror_mode": {
    "name": "ipython",
    "version": 3
   },
   "file_extension": ".py",
   "mimetype": "text/x-python",
   "name": "python",
   "nbconvert_exporter": "python",
   "pygments_lexer": "ipython3",
   "version": "3.8.8"
  }
 },
 "nbformat": 4,
 "nbformat_minor": 5
}
