{
 "cells": [
  {
   "cell_type": "markdown",
   "metadata": {},
   "source": [
    "### 1. Дается список с числами. Собрать в новом списке все числа которые меньше 10."
   ]
  },
  {
   "cell_type": "code",
   "execution_count": 1,
   "metadata": {},
   "outputs": [],
   "source": [
    "L = [-1, 0, 1, 2, 3, 4, 5, 6, 7, 8, 9, 10, 11, 12, 13, 14, 15, 16, 17, 18, 19]\n",
    "N = [i for i in L if i < 10]\n",
    "print(N)\n"
   ]
  },
  {
   "cell_type": "markdown",
   "metadata": {},
   "source": [
    "### 2. Дается список с числами. Собрать в новом списке все числа которые делятся на 3 и на 5."
   ]
  },
  {
   "cell_type": "code",
   "execution_count": 2,
   "metadata": {},
   "outputs": [],
   "source": [
    "L = [-1, 0, 1, 2, 3, 4, 5, 6, 7, 8, 9, 10, 11, 12, 13, 14, 15, 16, 17, 18, 19]\n",
    "N = [i for i in L if i % 3 == 0 and i % 5 == 0]\n",
    "print(N)\n"
   ]
  },
  {
   "cell_type": "markdown",
   "metadata": {},
   "source": [
    "### 3. Дается список с числами. Собрать в новом списке квадраты (во второй степени) всех чисел которые меньше 10"
   ]
  },
  {
   "cell_type": "code",
   "execution_count": 3,
   "metadata": {},
   "outputs": [],
   "source": [
    "L = [-1, 0, 1, 2, 3, 4, 5, 6, 7, 8, 9, 10, 11, 12, 13, 14, 15, 16, 17, 18, 19]\n",
    "N = [i**2 for i in L if i < 10]\n",
    "print(N)"
   ]
  },
  {
   "cell_type": "markdown",
   "metadata": {},
   "source": [
    "### 4. Дается список с числами. Найдите количество положительных элементов в данном списке."
   ]
  },
  {
   "cell_type": "code",
   "execution_count": 4,
   "metadata": {},
   "outputs": [],
   "source": [
    "L = [-1, 0, -1, -2, -3, 4, 5, 6, -7, 8, 9, -10, 11, 12, -13, 14, 15, -16, 17, 18, 19]\n",
    "N = [i for i in L if i > 0]\n",
    "print(len(N))"
   ]
  },
  {
   "cell_type": "markdown",
   "metadata": {},
   "source": [
    "### 5. Дается список с числами. Выведите значение наименьшего из всех положительных элементов в данном списке."
   ]
  },
  {
   "cell_type": "code",
   "execution_count": 5,
   "metadata": {},
   "outputs": [],
   "source": [
    "L = [-1, 5, -1, -2, -3, 4, 5, 6, -7, 8, 9, -10, 11, 12, -13, 14, 15, -16, 17, 18, 19]\n",
    "N = [i for i in L if i > 0]\n",
    "print(min(N))"
   ]
  },
  {
   "cell_type": "markdown",
   "metadata": {},
   "source": [
    "### 6. Дается список с числами. Выведите значение наименьшего нечетного элемента в данном списке."
   ]
  },
  {
   "cell_type": "code",
   "execution_count": 6,
   "metadata": {},
   "outputs": [],
   "source": [
    "L = [-1, 5, -1, -2, -3, 4, 5, 6, -7, 8, 9, -10, 11, 12, -13, 14, 15, -16, 17, 18, 19]\n",
    "\n",
    "N = [i for i in L if i % 2 != 0]\n",
    "print(min(N))"
   ]
  },
  {
   "cell_type": "markdown",
   "metadata": {},
   "source": [
    "### 7. Дается список с числами. Выведите элементы данного списка в обратном порядке."
   ]
  },
  {
   "cell_type": "code",
   "execution_count": 7,
   "metadata": {},
   "outputs": [
    {
     "name": "stdout",
     "output_type": "stream",
     "text": [
      "[19, 18, 17, -16, 15, 14, -13, 12, 11, -10, 9, 8, -7, 6, 5, 4, -3, -2, -1, 5, -1]\n"
     ]
    }
   ],
   "source": [
    "L = [-1, 5, -1, -2, -3, 4, 5, 6, -7, 8, 9, -10, 11, 12, -13, 14, 15, -16, 17, 18, 19]\n",
    "print(L[::-1])"
   ]
  },
  {
   "cell_type": "markdown",
   "metadata": {},
   "source": [
    "### 8. Дан список. Определите, какое число в этом списке встречается чаще всего. Если таких чисел несколько, выведите любое из них.\n",
    "\n"
   ]
  },
  {
   "cell_type": "code",
   "execution_count": 9,
   "metadata": {},
   "outputs": [
    {
     "name": "stdout",
     "output_type": "stream",
     "text": [
      "1\n"
     ]
    }
   ],
   "source": [
    "L = [1, 5, 1, 2, 3, 4, 5, 6, 2, 8, 3, 1, 1, 12, 13, 14, 15, 16, 17, 12, 1]\n",
    "max_el = L[0]\n",
    "max_c = 0\n",
    "for n in L:\n",
    "    c = L.count(n)\n",
    "    if c > max_c:\n",
    "        max_c = c\n",
    "        max_el = n\n",
    "        \n",
    "print(max_el)\n",
    "    "
   ]
  }
 ],
 "metadata": {
  "kernelspec": {
   "display_name": "Python 3",
   "language": "python",
   "name": "python3"
  },
  "language_info": {
   "codemirror_mode": {
    "name": "ipython",
    "version": 3
   },
   "file_extension": ".py",
   "mimetype": "text/x-python",
   "name": "python",
   "nbconvert_exporter": "python",
   "pygments_lexer": "ipython3",
   "version": "3.7.3"
  }
 },
 "nbformat": 4,
 "nbformat_minor": 2
}
