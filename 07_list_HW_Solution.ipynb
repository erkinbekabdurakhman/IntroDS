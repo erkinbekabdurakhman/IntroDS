{
 "cells": [
  {
   "cell_type": "markdown",
   "metadata": {
    "id": "zMHwChnIwGUM"
   },
   "source": [
    "### 1 Серия задач\n",
    "\n",
    "Имеется строка"
   ]
  },
  {
   "cell_type": "code",
   "execution_count": 1,
   "metadata": {
    "id": "-OTenu8cwGUW"
   },
   "outputs": [],
   "source": [
    "planets = \"Меркурий Венера Марс Jupiter Сатурн Уран Нептун\""
   ]
  },
  {
   "cell_type": "markdown",
   "metadata": {
    "id": "CU05rzHhwGUX"
   },
   "source": [
    "Сделайте из него список (.split()) и сохраните как planet_list."
   ]
  },
  {
   "cell_type": "code",
   "execution_count": 2,
   "metadata": {
    "id": "cOLMt9ASwGUX"
   },
   "outputs": [
    {
     "name": "stdout",
     "output_type": "stream",
     "text": [
      "['Меркурий', 'Венера', 'Марс', 'Jupiter', 'Сатурн', 'Уран', 'Нептун']\n"
     ]
    }
   ],
   "source": [
    "planet_list = planets.split()\n",
    "print(planet_list)"
   ]
  },
  {
   "cell_type": "markdown",
   "metadata": {
    "id": "aejpqqvjwGUX"
   },
   "source": [
    "Добавьте в этот список последним \"Плутон\""
   ]
  },
  {
   "cell_type": "code",
   "execution_count": 3,
   "metadata": {
    "id": "k6_4HWgIwGUY"
   },
   "outputs": [
    {
     "name": "stdout",
     "output_type": "stream",
     "text": [
      "['Меркурий', 'Венера', 'Марс', 'Jupiter', 'Сатурн', 'Уран', 'Нептун', 'Плутон']\n"
     ]
    }
   ],
   "source": [
    "planet_list.append(\"Плутон\")\n",
    "print(planet_list)"
   ]
  },
  {
   "cell_type": "markdown",
   "metadata": {
    "id": "m_R2lg5iwGUY"
   },
   "source": [
    "Между \"Венера\" и \"Марс\" добавьте \"Земля\""
   ]
  },
  {
   "cell_type": "code",
   "execution_count": 4,
   "metadata": {
    "id": "zhmxCe_PwGUY"
   },
   "outputs": [
    {
     "name": "stdout",
     "output_type": "stream",
     "text": [
      "['Меркурий', 'Венера', 'Земля', 'Марс', 'Jupiter', 'Сатурн', 'Уран', 'Нептун', 'Плутон']\n"
     ]
    }
   ],
   "source": [
    "planet_list.insert(2, \"Земля\")\n",
    "print(planet_list)"
   ]
  },
  {
   "cell_type": "markdown",
   "metadata": {
    "id": "WEwsGT6fwGUZ"
   },
   "source": [
    "\"Jupiter\" переименуйте на \"Юпитер\" одной строкой кода"
   ]
  },
  {
   "cell_type": "code",
   "execution_count": 5,
   "metadata": {
    "id": "mWYRzEgMwGUZ"
   },
   "outputs": [
    {
     "name": "stdout",
     "output_type": "stream",
     "text": [
      "['Меркурий', 'Венера', 'Земля', 'Марс', 'Юпитер', 'Сатурн', 'Уран', 'Нептун', 'Плутон']\n"
     ]
    }
   ],
   "source": [
    "planet_list[4] = \"Юпитер\"\n",
    "print(planet_list)"
   ]
  },
  {
   "cell_type": "markdown",
   "metadata": {
    "id": "IkUzjr79wGUZ"
   },
   "source": [
    "Оказывается Плутон не планета. Удалите \"Плутон\" из нашего списка."
   ]
  },
  {
   "cell_type": "code",
   "execution_count": 6,
   "metadata": {
    "id": "trtf3w-vwGUa"
   },
   "outputs": [
    {
     "name": "stdout",
     "output_type": "stream",
     "text": [
      "['Меркурий', 'Венера', 'Земля', 'Марс', 'Юпитер', 'Сатурн', 'Уран', 'Нептун']\n"
     ]
    }
   ],
   "source": [
    "planet_list.remove(\"Плутон\")\n",
    "print(planet_list)"
   ]
  },
  {
   "cell_type": "markdown",
   "metadata": {
    "id": "ZBzqFj25wGUa"
   },
   "source": [
    "Выведите количество планет в списке."
   ]
  },
  {
   "cell_type": "code",
   "execution_count": 7,
   "metadata": {
    "id": "ohyaNeZ5wGUa"
   },
   "outputs": [
    {
     "name": "stdout",
     "output_type": "stream",
     "text": [
      "8\n"
     ]
    }
   ],
   "source": [
    "print(len(planet_list))"
   ]
  },
  {
   "cell_type": "markdown",
   "metadata": {
    "id": "dnZJuOLXwGUb"
   },
   "source": [
    "Покажите, используя срезы (slices) три планеты - Венера, Земля, Марс"
   ]
  },
  {
   "cell_type": "code",
   "execution_count": 8,
   "metadata": {
    "id": "Cvc0teaAwGUb"
   },
   "outputs": [
    {
     "data": {
      "text/plain": [
       "['Венера', 'Земля', 'Марс']"
      ]
     },
     "execution_count": 8,
     "metadata": {},
     "output_type": "execute_result"
    }
   ],
   "source": [
    "planet_list[1:4]"
   ]
  },
  {
   "cell_type": "markdown",
   "metadata": {
    "id": "TnBtQ0fpwGUb"
   },
   "source": [
    "Используя срезы покажите две последние планеты"
   ]
  },
  {
   "cell_type": "code",
   "execution_count": 9,
   "metadata": {
    "id": "II-LZbT5wGUb"
   },
   "outputs": [
    {
     "data": {
      "text/plain": [
       "['Уран', 'Нептун']"
      ]
     },
     "execution_count": 9,
     "metadata": {},
     "output_type": "execute_result"
    }
   ],
   "source": [
    "planet_list[-2:]"
   ]
  },
  {
   "cell_type": "markdown",
   "metadata": {
    "id": "pKdGLoFIwGUc"
   },
   "source": [
    "### 2 Серия задач\n",
    "\n",
    "Имеется таблица:\n",
    "\n",
    "|  Student | Mark |\n",
    "| --- | --- |\n",
    "| Джон | 4 |\n",
    "| Сара | 5 |\n",
    "| Девид | 5 |\n",
    "| Марк | 3 |\n",
    "| Клара | 2 |\n",
    "| Сэм | 2 |\n",
    "| Санта | 4 |\n",
    "| Крис | 5 |\n",
    "| Джастин | 4 |\n",
    "\n",
    "Имеются два столбца. Создайте два списка (Student и Mark). В первом будут имена студентов по порядку, указанному в таблице. Во втором списке в таком же порядке их оценки."
   ]
  },
  {
   "cell_type": "code",
   "execution_count": 10,
   "metadata": {
    "id": "lEx7mQwlwGUc"
   },
   "outputs": [],
   "source": [
    "# Создайте здесь списки\n",
    "Student = [\"Джон\", \"Сара\", \"Девид\", \"Марк\", \"Клара\", \"Сэм\", \"Санта\", \"Крис\", \"Джастин\"]\n",
    "Mark = [4, 5, 5, 3, 2, 2, 4, 5, 4]\n"
   ]
  },
  {
   "cell_type": "markdown",
   "metadata": {
    "id": "MSDSh0oUwGUd"
   },
   "source": [
    "Добавился студент по имени Рассел и с оценкой 5. Добавьте его имя и оценки в соответствующие списки."
   ]
  },
  {
   "cell_type": "code",
   "execution_count": 11,
   "metadata": {
    "id": "x8LCpZm9wGUd"
   },
   "outputs": [],
   "source": [
    "Student.append(\"Рассел\")\n",
    "Mark.append(5)"
   ]
  },
  {
   "cell_type": "code",
   "execution_count": 12,
   "metadata": {},
   "outputs": [
    {
     "name": "stdout",
     "output_type": "stream",
     "text": [
      "['Джон', 'Сара', 'Девид', 'Марк', 'Клара', 'Сэм', 'Санта', 'Крис', 'Джастин', 'Рассел']\n",
      "[4, 5, 5, 3, 2, 2, 4, 5, 4, 5]\n"
     ]
    }
   ],
   "source": [
    "print(Student)\n",
    "print(Mark)"
   ]
  },
  {
   "cell_type": "markdown",
   "metadata": {
    "id": "gfZTIeplwGUd"
   },
   "source": [
    "Выведите количество студентов в списке"
   ]
  },
  {
   "cell_type": "code",
   "execution_count": 13,
   "metadata": {
    "id": "l3kvA0YzwGUd"
   },
   "outputs": [
    {
     "name": "stdout",
     "output_type": "stream",
     "text": [
      "10\n"
     ]
    }
   ],
   "source": [
    "print(len(Student))"
   ]
  },
  {
   "cell_type": "markdown",
   "metadata": {
    "id": "YCpxk-xfwGUd"
   },
   "source": [
    "Проверьте, имеется ли в списке студентов студент по имени Марк. Если ИСТИНА, выведите \"да\", иначе \"нет\"."
   ]
  },
  {
   "cell_type": "code",
   "execution_count": 14,
   "metadata": {
    "id": "wt-ZMEVmwGUe"
   },
   "outputs": [
    {
     "name": "stdout",
     "output_type": "stream",
     "text": [
      "да\n"
     ]
    }
   ],
   "source": [
    "if \"Марк\" in Student:\n",
    "    print(\"да\")\n",
    "else:\n",
    "    print(\"нет\")"
   ]
  },
  {
   "cell_type": "markdown",
   "metadata": {
    "id": "Oz6IPCOhwGUe"
   },
   "source": [
    "Пробежитесь в цикле и выведите из двух списков значения таким образом, чтобы на каждой строке печаталось по следущему образцу:\n",
    "\n",
    "\"У студента по имени Джастин 4 балла\""
   ]
  },
  {
   "cell_type": "code",
   "execution_count": 15,
   "metadata": {
    "id": "BwUzBCpzwGUe"
   },
   "outputs": [
    {
     "name": "stdout",
     "output_type": "stream",
     "text": [
      "У студента по имени Джон 4 балла\n",
      "У студента по имени Сара 5 балла\n",
      "У студента по имени Девид 5 балла\n",
      "У студента по имени Марк 3 балла\n",
      "У студента по имени Клара 2 балла\n",
      "У студента по имени Сэм 2 балла\n",
      "У студента по имени Санта 4 балла\n",
      "У студента по имени Крис 5 балла\n",
      "У студента по имени Джастин 4 балла\n",
      "У студента по имени Рассел 5 балла\n"
     ]
    }
   ],
   "source": [
    "for i in range(len(Student)):\n",
    "    print(f\"У студента по имени {Student[i]} {Mark[i]} балла\")"
   ]
  },
  {
   "cell_type": "markdown",
   "metadata": {
    "id": "4aGi2T0GwGUe"
   },
   "source": [
    "Создайте копии списков: Student_2, Mark_2."
   ]
  },
  {
   "cell_type": "code",
   "execution_count": 16,
   "metadata": {
    "id": "_NtyMwwmwGUf"
   },
   "outputs": [],
   "source": [
    "Student_2 = Student.copy()\n",
    "Mark_2 = Mark.copy()"
   ]
  },
  {
   "cell_type": "markdown",
   "metadata": {
    "id": "NWTRDEYWwGUf"
   },
   "source": [
    "Из оригинальных списков (не копий) удалите студентов и их оценки, если у них 2 балла. (можно вручную по одному, либо в цикле проверяя условие: если оценка == 2."
   ]
  },
  {
   "cell_type": "code",
   "execution_count": 17,
   "metadata": {
    "id": "WSyVuFlJwGUf"
   },
   "outputs": [
    {
     "name": "stdout",
     "output_type": "stream",
     "text": [
      "['Джон', 'Сара', 'Девид', 'Марк', 'Санта', 'Крис', 'Джастин', 'Рассел']\n",
      "[4, 5, 5, 3, 4, 5, 4, 5]\n"
     ]
    }
   ],
   "source": [
    "names = []\n",
    "for i in range(len(Student)):\n",
    "    if Mark[i] == 2:\n",
    "        names.append(Student[i])\n",
    "    \n",
    "for name in names:\n",
    "    Student.remove(name)\n",
    "    Mark.remove(2)\n",
    "\n",
    "\n",
    "print(Student)\n",
    "print(Mark)"
   ]
  },
  {
   "cell_type": "markdown",
   "metadata": {
    "id": "bYp1X-OfwGUf"
   },
   "source": [
    "Выведите с 3 по 5 включительно имена студентов."
   ]
  },
  {
   "cell_type": "code",
   "execution_count": 18,
   "metadata": {
    "id": "yVChw7wMwGUg"
   },
   "outputs": [
    {
     "data": {
      "text/plain": [
       "['Девид', 'Марк', 'Клара']"
      ]
     },
     "execution_count": 18,
     "metadata": {},
     "output_type": "execute_result"
    }
   ],
   "source": [
    "Student_2[2:5]"
   ]
  },
  {
   "cell_type": "markdown",
   "metadata": {
    "id": "oUw-skBzwGUg"
   },
   "source": [
    "Выведите имена студентов через раз. Джон, Девид, Клара... и тд"
   ]
  },
  {
   "cell_type": "code",
   "execution_count": 19,
   "metadata": {
    "id": "wc3ZnA0uwGUg"
   },
   "outputs": [
    {
     "data": {
      "text/plain": [
       "['Джон', 'Девид', 'Клара', 'Санта', 'Джастин']"
      ]
     },
     "execution_count": 19,
     "metadata": {},
     "output_type": "execute_result"
    }
   ],
   "source": [
    "Student_2[::2]"
   ]
  },
  {
   "cell_type": "markdown",
   "metadata": {
    "id": "bhGMQ9HiwGUg"
   },
   "source": [
    "У вас сохранились копии списков (Student_2, Mark_2). Там в копии списков если оценка равна 2 - поставьте оценку 3."
   ]
  },
  {
   "cell_type": "code",
   "execution_count": 20,
   "metadata": {
    "id": "4tj8i-RPwGUg"
   },
   "outputs": [
    {
     "name": "stdout",
     "output_type": "stream",
     "text": [
      "[4, 5, 5, 3, 3, 3, 4, 5, 4, 5]\n"
     ]
    }
   ],
   "source": [
    "for i in range(len(Mark_2)):\n",
    "    if Mark_2[i] == 2:\n",
    "        Mark_2[i] = 3\n",
    "        \n",
    "print(Mark_2)"
   ]
  },
  {
   "cell_type": "markdown",
   "metadata": {
    "id": "v7bOnuaPwGUh"
   },
   "source": [
    "Посчитайте у скольких студентов оценка 5"
   ]
  },
  {
   "cell_type": "code",
   "execution_count": 21,
   "metadata": {
    "id": "4iXwZ-TkwGUh"
   },
   "outputs": [
    {
     "name": "stdout",
     "output_type": "stream",
     "text": [
      "4\n"
     ]
    }
   ],
   "source": [
    "c = 0\n",
    "\n",
    "for n in Mark_2:\n",
    "    if n == 5:\n",
    "        c += 1\n",
    "        \n",
    "print(c)"
   ]
  },
  {
   "cell_type": "markdown",
   "metadata": {
    "id": "WwfQ592rwGUh"
   },
   "source": [
    "Выведите имена отличников (у кого 5). Через цикл и условие если оценка == 5."
   ]
  },
  {
   "cell_type": "code",
   "execution_count": 22,
   "metadata": {
    "id": "jPQHohMmwGUh"
   },
   "outputs": [
    {
     "name": "stdout",
     "output_type": "stream",
     "text": [
      "Сара\n",
      "Девид\n",
      "Крис\n",
      "Рассел\n"
     ]
    }
   ],
   "source": [
    "for i in range(len(Mark_2)):\n",
    "    if Mark_2[i] == 5:\n",
    "        print(Student_2[i])\n",
    "    "
   ]
  }
 ],
 "metadata": {
  "colab": {
   "name": "07_list_HW.ipynb",
   "provenance": []
  },
  "kernelspec": {
   "display_name": "Python 3",
   "language": "python",
   "name": "python3"
  },
  "language_info": {
   "codemirror_mode": {
    "name": "ipython",
    "version": 3
   },
   "file_extension": ".py",
   "mimetype": "text/x-python",
   "name": "python",
   "nbconvert_exporter": "python",
   "pygments_lexer": "ipython3",
   "version": "3.7.3"
  }
 },
 "nbformat": 4,
 "nbformat_minor": 1
}
