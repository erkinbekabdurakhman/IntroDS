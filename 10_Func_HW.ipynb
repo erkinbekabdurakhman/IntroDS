{
 "cells": [
  {
   "cell_type": "markdown",
   "metadata": {},
   "source": [
    "Atalov S. DevCIT"
   ]
  },
  {
   "cell_type": "markdown",
   "metadata": {},
   "source": [
    "## 1. Создайте функцию которая принимает аргументом целое число и возвращает \"Четное\" если число четное или иначе \"Нечетное\".\n",
    "\n",
    "Вход:\n",
    "\n",
    "5\n",
    "\n",
    "Выход:\n",
    "\n",
    "Нечетное"
   ]
  },
  {
   "cell_type": "code",
   "execution_count": null,
   "metadata": {},
   "outputs": [],
   "source": []
  },
  {
   "cell_type": "markdown",
   "metadata": {},
   "source": [
    "## 2. Создайте функцию которая принимает аргументом список с числами, верните сумму четных чисел.\n",
    "\n",
    "Вход:\n",
    "\n",
    "[1, 2, 3, 4]\n",
    "\n",
    "Выход:\n",
    "\n",
    "6"
   ]
  },
  {
   "cell_type": "code",
   "execution_count": null,
   "metadata": {},
   "outputs": [],
   "source": []
  },
  {
   "cell_type": "markdown",
   "metadata": {},
   "source": [
    "## 3. Создайте функцию которая принимает аргументом список с числами, верните список первый элемент которого  - количество положительных чисел, а второй элемент - сумма отрицательных чисел.\n",
    "\n",
    "Вход:\n",
    "\n",
    "[1, 2, 3, 4, 5, 6, 7, 8, 9, 10, -11, -12, -13, -14, -15]\n",
    "\n",
    "Выход:\n",
    "\n",
    "[10, -65]."
   ]
  },
  {
   "cell_type": "code",
   "execution_count": null,
   "metadata": {},
   "outputs": [],
   "source": []
  },
  {
   "cell_type": "markdown",
   "metadata": {},
   "source": [
    "## 4. Фильтр чисел. Создайте функцию которая принимает аргументом список с числами и строками, верните список с числами, убрав строки.\n",
    "\n",
    "```\n",
    "filter_list([1,2,'a','b']) == [1,2]\n",
    "filter_list([1,'a','b',0,15]) == [1,0,15]\n",
    "filter_list([1,2,'aasf','1','123',123]) == [1,2,123]\n",
    "```"
   ]
  },
  {
   "cell_type": "code",
   "execution_count": null,
   "metadata": {},
   "outputs": [],
   "source": []
  },
  {
   "cell_type": "markdown",
   "metadata": {},
   "source": [
    "## 5. Создайте функцию которая принимает аргументом целое число и возвращает число с обратным знаком.\n",
    "\n",
    "```\n",
    "1: -1\n",
    "14: -14\n",
    "-34: 34\n",
    "```"
   ]
  },
  {
   "cell_type": "code",
   "execution_count": null,
   "metadata": {},
   "outputs": [],
   "source": []
  },
  {
   "cell_type": "markdown",
   "metadata": {},
   "source": [
    "## 6. Создайте функцию которая принимает аргументом строку и возвращает новую строку без первого и последнего знака.\n",
    "\n",
    "Вход:\n",
    "\n",
    "Hello\n",
    "\n",
    "Выход:\n",
    "\n",
    "ell"
   ]
  },
  {
   "cell_type": "code",
   "execution_count": null,
   "metadata": {},
   "outputs": [],
   "source": []
  },
  {
   "cell_type": "markdown",
   "metadata": {},
   "source": [
    "## 7. Создайте функцию `accum` по аналогии входа и выхода в примере:\n",
    "```\n",
    "accum(\"abcd\") -> \"a-bb-ccc-dddd\"\n",
    "accum(\"RqaEzty\") -> \"R-qq-aaa-EEEE-zzzzz-tttttt-yyyyyyy\"\n",
    "accum(\"cwAt\") -> \"c-ww-AAA-tttt\"\n",
    "```"
   ]
  },
  {
   "cell_type": "code",
   "execution_count": null,
   "metadata": {},
   "outputs": [],
   "source": []
  },
  {
   "cell_type": "markdown",
   "metadata": {},
   "source": [
    "## 8. Изограмма - это слово, в котором нет повторяющихся букв. Создайте функцию `is_isogram`, которое проверяет является ли слово изограммой. \n",
    "\n",
    "```\n",
    "is_isogram(\"Dermatoglyphics\" ) == True\n",
    "is_isogram(\"aba\" ) == False\n",
    "is_isogram(\"moOse\" ) == False\n",
    "```"
   ]
  },
  {
   "cell_type": "code",
   "execution_count": null,
   "metadata": {},
   "outputs": [],
   "source": []
  },
  {
   "cell_type": "markdown",
   "metadata": {},
   "source": [
    "## 9. На вход функции подаются слова. Выведите самое короткое слово.\n",
    "\n",
    "```\n",
    "shortest_word(\"Привет как дела\" ) => \"как\"\n",
    "```"
   ]
  },
  {
   "cell_type": "code",
   "execution_count": null,
   "metadata": {},
   "outputs": [],
   "source": []
  },
  {
   "cell_type": "markdown",
   "metadata": {},
   "source": [
    "## 10. Маскировка номера карты. На вход функции подаются числа. Выведите только последние 4 цифры, заменив остальные символом `#`.\n",
    "\n",
    "```\n",
    "maskify(\"4556364607935616\") == \"############5616\"\n",
    "maskify(     \"64607935616\") ==      \"#######5616\"\n",
    "```"
   ]
  },
  {
   "cell_type": "code",
   "execution_count": null,
   "metadata": {},
   "outputs": [],
   "source": []
  }
 ],
 "metadata": {
  "kernelspec": {
   "display_name": "Python 3",
   "language": "python",
   "name": "python3"
  },
  "language_info": {
   "codemirror_mode": {
    "name": "ipython",
    "version": 3
   },
   "file_extension": ".py",
   "mimetype": "text/x-python",
   "name": "python",
   "nbconvert_exporter": "python",
   "pygments_lexer": "ipython3",
   "version": "3.8.8"
  }
 },
 "nbformat": 4,
 "nbformat_minor": 2
}
