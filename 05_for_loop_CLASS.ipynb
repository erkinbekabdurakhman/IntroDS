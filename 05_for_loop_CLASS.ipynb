{
 "cells": [
  {
   "cell_type": "markdown",
   "metadata": {
    "id": "uU5uHKKGoGMX"
   },
   "source": [
    "Atalov S. (DevCIT)"
   ]
  },
  {
   "cell_type": "markdown",
   "metadata": {
    "id": "oI5Wa_K2oGMd"
   },
   "source": [
    "---\n",
    "## Цикл while (повторение)"
   ]
  },
  {
   "cell_type": "markdown",
   "metadata": {
    "id": "aoYv8_oKoGMd"
   },
   "source": [
    "Цикл while (“пока”) позволяет выполнить одну и ту же последовательность действий, пока проверяемое условие истинно. Условие записывается до тела цикла и проверяется до выполнения тела цикла. Как правило, цикл while используется, когда невозможно определить точное значение количества проходов исполнения цикла.\n",
    "\n",
    "Синтаксис цикла while в простейшем случае выглядит так:\n",
    "\n",
    "```\n",
    "while условие:\n",
    "    блок инструкций\n",
    "```\n",
    "\n",
    "При выполнении цикла while сначала проверяется условие. Если оно ложно, то выполнение цикла прекращается и управление передается на следующую инструкцию после тела цикла while. Если условие истинно, то выполняется инструкция, после чего условие проверяется снова и снова выполняется инструкция. Так продолжается до тех пор, пока условие будет истинно. Как только условие станет ложно, работа цикла завершится и управление передастся следующей инструкции после цикла.\n",
    "\n",
    "Например, следующий фрагмент программы напечатает на экран квадраты всех целых чисел от 1 до 10.\n",
    "\n",
    "```\n",
    "i = 1\n",
    "while i <= 10:\n",
    "    print(i * i)\n",
    "    i += 1\n",
    "```\n",
    "\n",
    "В этом примере переменная i внутри цикла изменяется от 1 до 10. Такая переменная, значение которой меняется с каждым новым проходом цикла, называется счетчиком. Заметим, что после выполнения этого фрагмента значение переменной i будет равно 11, поскольку именно при i==11 условие i<=10 впервые перестанет выполняться."
   ]
  },
  {
   "cell_type": "code",
   "execution_count": 11,
   "metadata": {},
   "outputs": [
    {
     "name": "stdout",
     "output_type": "stream",
     "text": [
      "1\n",
      "4\n",
      "9\n",
      "16\n",
      "25\n",
      "36\n",
      "49\n",
      "64\n",
      "81\n",
      "100\n"
     ]
    }
   ],
   "source": [
    "i = 0\n",
    "while i < 10:\n",
    "    i += 1\n",
    "    print(i * i)\n",
    "    "
   ]
  },
  {
   "cell_type": "markdown",
   "metadata": {
    "id": "XJ7-2SzroGMd"
   },
   "source": [
    "---\n",
    "# Цикл for"
   ]
  },
  {
   "cell_type": "markdown",
   "metadata": {
    "id": "VuFKq8FUoGMe"
   },
   "source": [
    "Цикл for, также называемый циклом с параметром, в языке Питон богат возможностями. В цикле for указывается переменная и множество значений, по которому будет пробегать переменная.\n",
    "\n",
    "Перебор значений.\n",
    "\n",
    "Вот простейший пример использования цикла, где в качестве множества значений используются числа:"
   ]
  },
  {
   "cell_type": "code",
   "execution_count": 12,
   "metadata": {},
   "outputs": [
    {
     "name": "stdout",
     "output_type": "stream",
     "text": [
      "5\n",
      "3\n",
      "2\n",
      "6\n",
      "7\n"
     ]
    }
   ],
   "source": [
    "for i in 5, 3, 2, 6, 7:\n",
    "    print(i)"
   ]
  },
  {
   "cell_type": "markdown",
   "metadata": {},
   "source": [
    "Здесь строки:"
   ]
  },
  {
   "cell_type": "code",
   "execution_count": 20,
   "metadata": {
    "id": "VFMgtyc-oGMe",
    "outputId": "7a151a99-a2c8-4365-9c1f-eabae49b2150"
   },
   "outputs": [
    {
     "name": "stdout",
     "output_type": "stream",
     "text": [
      "2 цвет радуги это - красный, 3 цвет радуги это - оранжевый, 4 цвет радуги это - желтый, 5 цвет радуги это - зеленый, 6 цвет радуги это - голубой, 7 цвет радуги это - синий, 8 цвет радуги это - фиолетовый, "
     ]
    }
   ],
   "source": [
    "i = 1\n",
    "\n",
    "for color in 'красный', 'оранжевый', 'желтый', 'зеленый', 'голубой', 'синий', 'фиолетовый':\n",
    "    i += 1\n",
    "    print(f'{i} цвет радуги это - {color}', end = \", \")\n",
    "    \n",
    "    "
   ]
  },
  {
   "cell_type": "markdown",
   "metadata": {
    "id": "tewj8zD_oGMf"
   },
   "source": [
    "В этом примере переменная color последовательно принимает значения 'красный', 'оранжевый' и т.д. В теле цикла выводится сообщение, которое содержит название цвета, то есть значение переменной color, а также номер итерации цикла  число, которое сначала равно 1, а потом увеличивается на один (инструкцией i += 1 с каждым проходом цикла.\n",
    "\n",
    "В списке значений могут быть выражения различных типов, например:"
   ]
  },
  {
   "cell_type": "code",
   "execution_count": 23,
   "metadata": {
    "id": "Q9LbGqLKoGMf",
    "outputId": "98ab6de6-3f06-4889-88f0-438f7a7271b9",
    "scrolled": false
   },
   "outputs": [
    {
     "name": "stdout",
     "output_type": "stream",
     "text": [
      "<class 'str'>\n",
      "<class 'int'>\n",
      "<class 'int'>\n",
      "<class 'str'>\n",
      "<class 'str'>\n",
      "<class 'str'>\n",
      "<class 'float'>\n"
     ]
    }
   ],
   "source": [
    "for i in '1', 2, 3, 'один', 'два', 'три', 4.0:\n",
    "    print(type(i))"
   ]
  },
  {
   "cell_type": "markdown",
   "metadata": {
    "id": "dTapsI-joGMg"
   },
   "source": [
    "При первых трех итерациях цикла переменная i будет принимать значение типа int, при последующих трех — типа str"
   ]
  },
  {
   "cell_type": "markdown",
   "metadata": {},
   "source": [
    "### Цикл for со строками."
   ]
  },
  {
   "cell_type": "code",
   "execution_count": 26,
   "metadata": {},
   "outputs": [
    {
     "name": "stdout",
     "output_type": "stream",
     "text": [
      "Hello\n",
      "Bye\n"
     ]
    }
   ],
   "source": [
    "i = 0\n",
    "for i in 'Hello', 'Bye':\n",
    "    i += 1\n",
    "    print(i)"
   ]
  },
  {
   "cell_type": "markdown",
   "metadata": {},
   "source": [
    "### Цикл for для диапазона."
   ]
  },
  {
   "cell_type": "markdown",
   "metadata": {},
   "source": [
    "А что если мы хотим взять некий диапазон чисел, скажем от 0 до 5?"
   ]
  },
  {
   "cell_type": "code",
   "execution_count": 27,
   "metadata": {},
   "outputs": [
    {
     "name": "stdout",
     "output_type": "stream",
     "text": [
      "0\n",
      "1\n",
      "2\n",
      "3\n",
      "4\n",
      "5\n"
     ]
    }
   ],
   "source": [
    "for i in 0, 1, 2, 3, 4, 5:\n",
    "    print(i)"
   ]
  },
  {
   "cell_type": "markdown",
   "metadata": {},
   "source": [
    "А если диапазон от 0 до 100?"
   ]
  },
  {
   "cell_type": "code",
   "execution_count": null,
   "metadata": {},
   "outputs": [],
   "source": []
  },
  {
   "cell_type": "markdown",
   "metadata": {},
   "source": [
    "Нужно научиться генерировать числа. **range()**"
   ]
  },
  {
   "cell_type": "markdown",
   "metadata": {
    "id": "Xn8FJ8e0oGMg"
   },
   "source": [
    "### Функция range( )"
   ]
  },
  {
   "cell_type": "markdown",
   "metadata": {
    "id": "fVSpRkFnoGMg"
   },
   "source": [
    "Функция range\n",
    "\n",
    "Как правило, циклы for используются либо для повторения какой-либо последовательности действий заданное число раз, либо для изменения значения переменной в цикле от некоторого начального значения до некоторого конечного.\n",
    "\n",
    "Для повторения цикла некоторое заданное число раз n можно использовать цикл for вместе с функцией range:"
   ]
  },
  {
   "cell_type": "markdown",
   "metadata": {
    "id": "-MrT_P6ZoGMg"
   },
   "source": [
    "```\n",
    "for i in range(n):\n",
    "    Тело цикла\n",
    "```"
   ]
  },
  {
   "cell_type": "markdown",
   "metadata": {
    "id": "uC2oHgfsoGMh"
   },
   "source": [
    "В качестве n может использоваться числовая константа, переменная или произвольное арифметическое выражение (например, 2 ** 10). Если значение n равно нулю или отрицательное, то тело цикла не выполнится ни разу.\n",
    "\n",
    "Если задать цикл таким образом:\n",
    "\n",
    "```\n",
    "for i in range(a, b):\n",
    "    Тело цикла \n",
    "```\n",
    "\n",
    "о индексная переменная i будеть принимать значения от a до b - 1, то есть первый параметр функции range, вызываемой с двумя параметрами, задает начальное значение индексной переменной, а второй параметр — значение, которая индексная переменная принимать не будет. Если же a≥b, то цикл не будет выполнен ни разу. Например, для того, чтобы просуммировать значения чисел от 1 до n можно воспользоваться следующей программой:\n",
    "\n",
    "\n",
    "```\n",
    "sum = 0\n",
    "for i in range(1, n + 1):\n",
    "    sum += i\n",
    "```\n",
    "    \n",
    "В этом примере переменная i принимает значения 1, 2, ..., n, и значение переменной sum последовательно увеличивается на указанные значения.\n",
    "\n",
    "Наконец, чтобы организовать цикл, в котором индексная переменная будет уменьшаться, необходимо использовать функцию range с тремя параметрами. Первый параметр задает начальное значение индексной переменной, второй параметр — значение, до которого будет изменяться индексная переменная (не включая его!), а третий параметр — величину изменения индексной переменной. Например, сделать цикл по всем нечетным числам от 1 до 99 можно при помощи функции range(1, 100, 2), а сделать цикл по всем числам от 100 до 1 можно при помощи range(100, 0, -1).\n",
    "\n",
    "Более формально, цикл for i in range(a, b, d) при d > 0 задает значения индексной переменной i = a, i = a + d, i = a + 2 * d и так для всех значений, для которых i < b. Если же d < 0, то переменная цикла принимает все значения i > b."
   ]
  },
  {
   "cell_type": "markdown",
   "metadata": {},
   "source": [
    "## range(start, stop, step)"
   ]
  },
  {
   "cell_type": "code",
   "execution_count": 31,
   "metadata": {},
   "outputs": [
    {
     "name": "stdout",
     "output_type": "stream",
     "text": [
      "0, 1, 2, 3, 4, 5, 6, 7, 8, 9, 10, 11, 12, 13, 14, 15, 16, 17, 18, 19, 20, 21, 22, 23, 24, 25, 26, 27, 28, 29, 30, 31, 32, 33, 34, 35, 36, 37, 38, 39, 40, 41, 42, 43, 44, 45, 46, 47, 48, 49, 50, 51, 52, 53, 54, 55, 56, 57, 58, 59, 60, 61, 62, 63, 64, 65, 66, 67, 68, 69, 70, 71, 72, 73, 74, 75, 76, 77, 78, 79, 80, 81, 82, 83, 84, 85, 86, 87, 88, 89, 90, 91, 92, 93, 94, 95, 96, 97, 98, 99, 100, "
     ]
    }
   ],
   "source": [
    "# диапазон от 0 до 100 (включительно)\n",
    "for n in range(0, 101):\n",
    "    print(n, end = ', ')"
   ]
  },
  {
   "cell_type": "code",
   "execution_count": 32,
   "metadata": {},
   "outputs": [
    {
     "name": "stdout",
     "output_type": "stream",
     "text": [
      "0, 2, 4, 6, 8, 10, 12, 14, 16, 18, 20, 22, 24, 26, 28, 30, 32, 34, 36, 38, 40, 42, 44, 46, 48, 50, 52, 54, 56, 58, 60, 62, 64, 66, 68, 70, 72, 74, 76, 78, 80, 82, 84, 86, 88, 90, 92, 94, 96, 98, 100, "
     ]
    }
   ],
   "source": [
    "# диапазон от 0 до 100 (включительно) с шагом 2\n",
    "for n in range(0, 101, 2):\n",
    "    print(n, end = ', ')"
   ]
  },
  {
   "cell_type": "code",
   "execution_count": 37,
   "metadata": {},
   "outputs": [
    {
     "name": "stdout",
     "output_type": "stream",
     "text": [
      "50, 49, 48, 47, 46, 45, 44, 43, 42, 41, 40, "
     ]
    }
   ],
   "source": [
    "# диапазон от 50 до 40 (включительно) ???\n",
    "for n in range(50, 39, -1):\n",
    "    print(n, end = ', ')"
   ]
  },
  {
   "cell_type": "markdown",
   "metadata": {},
   "source": [
    "---\n",
    "## Практика"
   ]
  },
  {
   "cell_type": "markdown",
   "metadata": {
    "id": "t9FMgikjoGMh"
   },
   "source": [
    "### Задача 1.\n",
    "\n",
    "Даны два целых числа A и B (при этом A≤B). Выведите все числа от A до B включительно.\n",
    "\n",
    "`Примеры`\n",
    "\n",
    "`входные данные`\n",
    "\n",
    "`1`\n",
    "\n",
    "`10`\n",
    "\n",
    "`выходные данные`\n",
    "\n",
    "`1 2 3 4 5 6 7 8 9 10`\n",
    "\n",
    "Подсказка: Используйте в функции `print` параметр `end` -> `print( , end = ' ')` чтобы печатать числа в ряд, а не на каждой строке"
   ]
  },
  {
   "cell_type": "code",
   "execution_count": 59,
   "metadata": {
    "id": "7NoL7mPMoGMh"
   },
   "outputs": [
    {
     "name": "stdout",
     "output_type": "stream",
     "text": [
      "5 6 7 8 9 "
     ]
    }
   ],
   "source": [
    "# с использованием цикла while\n",
    "A = 5 #int(input())\n",
    "B = 9 #int(input())\n",
    "\n",
    "while A <= B:\n",
    "    print(A, end = ' ')\n",
    "    A += 1"
   ]
  },
  {
   "cell_type": "code",
   "execution_count": 60,
   "metadata": {},
   "outputs": [],
   "source": [
    "A = 8"
   ]
  },
  {
   "cell_type": "code",
   "execution_count": 61,
   "metadata": {
    "id": "7NoL7mPMoGMh"
   },
   "outputs": [
    {
     "name": "stdout",
     "output_type": "stream",
     "text": [
      "8 9 "
     ]
    }
   ],
   "source": [
    "# с использованием цикла for\n",
    "\n",
    "for i in range(A, B+1):\n",
    "    print(i, end = ' ')"
   ]
  },
  {
   "cell_type": "markdown",
   "metadata": {
    "id": "ydD47KU2oGMi"
   },
   "source": [
    "### Задача 2.\n",
    "\n",
    "\n",
    "Даны два целых числа A и В. Выведите все числа от A до B включительно, в порядке возрастания, **если A < B, или в порядке убывания в противном случае.**\n",
    "\n",
    "`Примеры`\n",
    "\n",
    "`входные данные`\n",
    "\n",
    "`1`\n",
    "\n",
    "`10`\n",
    "\n",
    "`выходные данные`\n",
    "\n",
    "`1 2 3 4 5 6 7 8 9 10`\n"
   ]
  },
  {
   "cell_type": "code",
   "execution_count": 71,
   "metadata": {
    "colab": {
     "base_uri": "https://localhost:8080/"
    },
    "executionInfo": {
     "elapsed": 6955,
     "status": "ok",
     "timestamp": 1619448414149,
     "user": {
      "displayName": "Subanbek Atalov",
      "photoUrl": "",
      "userId": "10272066776599577598"
     },
     "user_tz": -360
    },
    "id": "bZ1ABgCEoGMi",
    "outputId": "4e4a5c02-6855-4bf6-dc03-9dc638f846ee"
   },
   "outputs": [
    {
     "name": "stdout",
     "output_type": "stream",
     "text": [
      "4\n",
      "9\n",
      "4 5 6 7 8 9 "
     ]
    }
   ],
   "source": [
    "start = int(input())\n",
    "stop = int(input())\n",
    "\n",
    "if start < stop:\n",
    "    step = 1\n",
    "    stop = stop + 1\n",
    "else:\n",
    "    step = -1\n",
    "    stop = stop - 1\n",
    "    \n",
    "for i in range(start, stop, step):\n",
    "    print(i, end = ' ')"
   ]
  },
  {
   "cell_type": "markdown",
   "metadata": {
    "id": "JRCqWlWgoGMj"
   },
   "source": [
    "### Задача 3. Четные числа.\n",
    "\n",
    "\n",
    "По данным двум натуральным числам A и B (A≤B) выведите все чётные числа на отрезке от A до B.\n",
    "\n",
    "`Примеры`\n",
    "\n",
    "`входные данные`\n",
    "\n",
    "`1`\n",
    "\n",
    "`10`\n",
    "\n",
    "`выходные данные`\n",
    "\n",
    "`2 4 6 8 10`"
   ]
  },
  {
   "cell_type": "code",
   "execution_count": 78,
   "metadata": {},
   "outputs": [
    {
     "name": "stdout",
     "output_type": "stream",
     "text": [
      "4\n",
      "10\n",
      "4 6 8 10 "
     ]
    }
   ],
   "source": [
    "# с использованием цикла while\n",
    "start = int(input())\n",
    "stop = int(input())\n",
    "\n",
    "while start <= stop:\n",
    "    if start % 2 == 0:\n",
    "        print(start, end = ' ')\n",
    "    start += 1"
   ]
  },
  {
   "cell_type": "code",
   "execution_count": 73,
   "metadata": {},
   "outputs": [
    {
     "name": "stdout",
     "output_type": "stream",
     "text": [
      "1\n",
      "10\n",
      "2 4 6 8 10 "
     ]
    }
   ],
   "source": [
    "# с использованием цикла for\n",
    "start = int(input())\n",
    "stop = int(input())\n",
    "\n",
    "for i in range(start, stop+1):\n",
    "    if i % 2 == 0:\n",
    "        print(i, end = ' ')\n"
   ]
  },
  {
   "cell_type": "code",
   "execution_count": null,
   "metadata": {},
   "outputs": [],
   "source": []
  },
  {
   "cell_type": "markdown",
   "metadata": {
    "id": "2hhuEWk-oGMi"
   },
   "source": [
    "### Задача 4.\n",
    "\n",
    "\n",
    "Дано натуральное число n. Напечатайте все нечетные натуральные числа в порядке убывания начиная с n до 0.\n",
    "\n",
    "`Примеры`\n",
    "\n",
    "`входные данные`\n",
    "\n",
    "`10`\n",
    "\n",
    "`выходные данные`\n",
    "\n",
    "`9 7 5 3 1`\n"
   ]
  },
  {
   "cell_type": "code",
   "execution_count": null,
   "metadata": {
    "id": "EX9-HOccoGMi"
   },
   "outputs": [],
   "source": []
  },
  {
   "cell_type": "markdown",
   "metadata": {
    "id": "dbagyCiyoGMi"
   },
   "source": [
    "### Задача 5. Сумма квадратов\n",
    "\n",
    "\n",
    "По данному натуральном n вычислите сумму $1^2 + 2^2 + 3^2 + 4^2 + ... + n^2$.\n",
    "\n",
    "`Примеры`\n",
    "\n",
    "`входные данные`\n",
    "\n",
    "`5`\n",
    "\n",
    "`выходные данные`\n",
    "\n",
    "`55`\n"
   ]
  },
  {
   "cell_type": "code",
   "execution_count": 85,
   "metadata": {
    "id": "EkbFADnzoGMi"
   },
   "outputs": [
    {
     "name": "stdout",
     "output_type": "stream",
     "text": [
      "5\n",
      "55\n"
     ]
    }
   ],
   "source": [
    "# с использованием цикла while\n",
    "\n",
    "n = int(input())\n",
    "summa = 0\n",
    "i = 1\n",
    "while i <= n:\n",
    "    summa = summa + i**2\n",
    "    i += 1\n",
    "print(summa)"
   ]
  },
  {
   "cell_type": "code",
   "execution_count": 86,
   "metadata": {},
   "outputs": [
    {
     "name": "stdout",
     "output_type": "stream",
     "text": [
      "5\n",
      "55\n"
     ]
    }
   ],
   "source": [
    "# с использованием цикла for\n",
    "\n",
    "n = int(input())\n",
    "summa = 0\n",
    "\n",
    "for i in range(1, n+1):\n",
    "    summa = summa + i**2\n",
    "\n",
    "print(summa)"
   ]
  },
  {
   "cell_type": "markdown",
   "metadata": {
    "id": "mlaBzj85oGMj"
   },
   "source": [
    "### Задача 6. Факториал числа.\n",
    "\n",
    "\n",
    "По данному целому неотрицательному n вычислите значение n!.\n",
    "\n",
    "`Примеры`\n",
    "\n",
    "`входные данные`\n",
    "\n",
    "`3`\n",
    "\n",
    "`выходные данные`\n",
    "\n",
    "`6`\n",
    "\n",
    "Факториал числа 3: `1 * 2 * 3 = 6`"
   ]
  },
  {
   "cell_type": "code",
   "execution_count": null,
   "metadata": {
    "id": "HE7SdjCnoGMj"
   },
   "outputs": [],
   "source": []
  },
  {
   "cell_type": "markdown",
   "metadata": {
    "id": "dNkZt4dsoGMj"
   },
   "source": [
    "### Задача 7. Сумма цифр числа\n",
    "\n",
    "\n",
    "Прочитайте строку состоящую из цифр (как строку, а не число). Посчитайте сумму всех чисел в списке.\n",
    "\n",
    "`Примеры`\n",
    "\n",
    "`входные данные`\n",
    "\n",
    "`1234`\n",
    "\n",
    "`выходные данные`\n",
    "\n",
    "`10`\n",
    "\n",
    "\n",
    "Подсказка: (1 + 2 + 3 + 4 = 10)\n",
    "Пробежитесь по строке в цикле for и суммируйте."
   ]
  },
  {
   "cell_type": "code",
   "execution_count": null,
   "metadata": {},
   "outputs": [],
   "source": []
  }
 ],
 "metadata": {
  "colab": {
   "name": "05_for_loop.ipynb",
   "provenance": []
  },
  "kernelspec": {
   "display_name": "Python 3",
   "language": "python",
   "name": "python3"
  },
  "language_info": {
   "codemirror_mode": {
    "name": "ipython",
    "version": 3
   },
   "file_extension": ".py",
   "mimetype": "text/x-python",
   "name": "python",
   "nbconvert_exporter": "python",
   "pygments_lexer": "ipython3",
   "version": "3.8.2"
  }
 },
 "nbformat": 4,
 "nbformat_minor": 1
}
