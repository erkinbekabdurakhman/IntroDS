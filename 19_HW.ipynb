{
 "cells": [
  {
   "cell_type": "markdown",
   "metadata": {},
   "source": [
    "Atalov S.\n",
    "\n",
    "# Линейная регрессия"
   ]
  },
  {
   "cell_type": "markdown",
   "metadata": {},
   "source": [
    "На этот раз у нас имеются данные по домам (Real_estate.csv).\n",
    "\n",
    "* transaction date - дата транзакции (не будем использовать)\n",
    "* house age - возраст дома\n",
    "* distance metro station - расстояние до станции метро\n",
    "* number of convenience stores - количество магазинов\n",
    "* latitude - широта (для местоположения)\n",
    "* longitude - долгота (для местоположения)\n",
    "* house price of unit area - стоимость квадратного метра жилья"
   ]
  },
  {
   "cell_type": "markdown",
   "metadata": {},
   "source": [
    "**У нас имеется модель линейной регрессии со следующей спецификацией:**\n",
    "\n",
    "$\\hat{y}=\\theta_0 + \\theta_1house age + \\theta_2distance metro station + \\theta_3number of convenience stores + \\theta_4latitude + \\theta_5longitude$"
   ]
  },
  {
   "cell_type": "markdown",
   "metadata": {},
   "source": [
    "где,\n",
    "\n",
    "$\\hat{y}$ - это прогнозируемое значение - `house price of unit area`;\n",
    "\n",
    "*ℎ𝑜𝑢𝑠𝑒𝑎𝑔𝑒* - это `house age`;\n",
    "\n",
    "*𝑑𝑖𝑠𝑡𝑎𝑛𝑐𝑒𝑚𝑒𝑡𝑟𝑜𝑠𝑡𝑎𝑡𝑖𝑜𝑛* - это `distance metro station`;\n",
    "\n",
    "*𝑛𝑢𝑚𝑏𝑒𝑟𝑜𝑓𝑐𝑜𝑛𝑣𝑒𝑛𝑖𝑒𝑛𝑐𝑒𝑠𝑡𝑜𝑟𝑒𝑠* - это `number of convenience stores`;\n",
    "\n",
    "*𝑙𝑎𝑡𝑖𝑡𝑢𝑑𝑒* - это `latitude`;\n",
    "\n",
    "*𝑙𝑜𝑛𝑔𝑖𝑡𝑢𝑑𝑒* - это `longitude`;\n",
    "\n",
    "$\\theta_i$ - это параметры модели."
   ]
  },
  {
   "cell_type": "markdown",
   "metadata": {},
   "source": [
    "**Попробуем оценить модель аналитически и с помощью Sklearn:**"
   ]
  },
  {
   "cell_type": "code",
   "execution_count": 21,
   "metadata": {},
   "outputs": [],
   "source": [
    "import pandas as pd"
   ]
  },
  {
   "cell_type": "code",
   "execution_count": 2,
   "metadata": {},
   "outputs": [],
   "source": [
    "df = pd.read_csv('Real_estate.csv')"
   ]
  },
  {
   "cell_type": "code",
   "execution_count": 4,
   "metadata": {},
   "outputs": [
    {
     "data": {
      "text/html": [
       "<div>\n",
       "<style scoped>\n",
       "    .dataframe tbody tr th:only-of-type {\n",
       "        vertical-align: middle;\n",
       "    }\n",
       "\n",
       "    .dataframe tbody tr th {\n",
       "        vertical-align: top;\n",
       "    }\n",
       "\n",
       "    .dataframe thead th {\n",
       "        text-align: right;\n",
       "    }\n",
       "</style>\n",
       "<table border=\"1\" class=\"dataframe\">\n",
       "  <thead>\n",
       "    <tr style=\"text-align: right;\">\n",
       "      <th></th>\n",
       "      <th>No</th>\n",
       "      <th>transaction date</th>\n",
       "      <th>house age</th>\n",
       "      <th>distance metro station</th>\n",
       "      <th>number of convenience stores</th>\n",
       "      <th>latitude</th>\n",
       "      <th>longitude</th>\n",
       "      <th>house price of unit area</th>\n",
       "    </tr>\n",
       "  </thead>\n",
       "  <tbody>\n",
       "    <tr>\n",
       "      <th>0</th>\n",
       "      <td>1</td>\n",
       "      <td>2012.917</td>\n",
       "      <td>32.0</td>\n",
       "      <td>84.87882</td>\n",
       "      <td>10</td>\n",
       "      <td>24.98298</td>\n",
       "      <td>121.54024</td>\n",
       "      <td>37.9</td>\n",
       "    </tr>\n",
       "    <tr>\n",
       "      <th>1</th>\n",
       "      <td>2</td>\n",
       "      <td>2012.917</td>\n",
       "      <td>19.5</td>\n",
       "      <td>306.59470</td>\n",
       "      <td>9</td>\n",
       "      <td>24.98034</td>\n",
       "      <td>121.53951</td>\n",
       "      <td>42.2</td>\n",
       "    </tr>\n",
       "    <tr>\n",
       "      <th>2</th>\n",
       "      <td>3</td>\n",
       "      <td>2013.583</td>\n",
       "      <td>13.3</td>\n",
       "      <td>561.98450</td>\n",
       "      <td>5</td>\n",
       "      <td>24.98746</td>\n",
       "      <td>121.54391</td>\n",
       "      <td>47.3</td>\n",
       "    </tr>\n",
       "    <tr>\n",
       "      <th>3</th>\n",
       "      <td>4</td>\n",
       "      <td>2013.500</td>\n",
       "      <td>13.3</td>\n",
       "      <td>561.98450</td>\n",
       "      <td>5</td>\n",
       "      <td>24.98746</td>\n",
       "      <td>121.54391</td>\n",
       "      <td>54.8</td>\n",
       "    </tr>\n",
       "    <tr>\n",
       "      <th>4</th>\n",
       "      <td>5</td>\n",
       "      <td>2012.833</td>\n",
       "      <td>5.0</td>\n",
       "      <td>390.56840</td>\n",
       "      <td>5</td>\n",
       "      <td>24.97937</td>\n",
       "      <td>121.54245</td>\n",
       "      <td>43.1</td>\n",
       "    </tr>\n",
       "  </tbody>\n",
       "</table>\n",
       "</div>"
      ],
      "text/plain": [
       "   No  transaction date  house age  distance metro station  \\\n",
       "0   1          2012.917       32.0                84.87882   \n",
       "1   2          2012.917       19.5               306.59470   \n",
       "2   3          2013.583       13.3               561.98450   \n",
       "3   4          2013.500       13.3               561.98450   \n",
       "4   5          2012.833        5.0               390.56840   \n",
       "\n",
       "   number of convenience stores  latitude  longitude  house price of unit area  \n",
       "0                            10  24.98298  121.54024                      37.9  \n",
       "1                             9  24.98034  121.53951                      42.2  \n",
       "2                             5  24.98746  121.54391                      47.3  \n",
       "3                             5  24.98746  121.54391                      54.8  \n",
       "4                             5  24.97937  121.54245                      43.1  "
      ]
     },
     "execution_count": 4,
     "metadata": {},
     "output_type": "execute_result"
    }
   ],
   "source": [
    "df.head()"
   ]
  },
  {
   "cell_type": "markdown",
   "metadata": {},
   "source": [
    "#### Делим данные на X и y как показано в спецификации уравнения (какие данные нам необходимы)"
   ]
  },
  {
   "cell_type": "code",
   "execution_count": 23,
   "metadata": {},
   "outputs": [],
   "source": [
    "from sklearn.model_selection import train_test_split"
   ]
  },
  {
   "cell_type": "code",
   "execution_count": 9,
   "metadata": {},
   "outputs": [
    {
     "data": {
      "text/plain": [
       "0      2012.917\n",
       "1      2012.917\n",
       "2      2013.583\n",
       "3      2013.500\n",
       "4      2012.833\n",
       "         ...   \n",
       "409    2013.000\n",
       "410    2012.667\n",
       "411    2013.250\n",
       "412    2013.000\n",
       "413    2013.500\n",
       "Name: transaction date, Length: 414, dtype: float64"
      ]
     },
     "execution_count": 9,
     "metadata": {},
     "output_type": "execute_result"
    }
   ],
   "source": [
    "X = df.copy()\n",
    "X.pop('house price of unit area')\n",
    "X.pop('transaction date')"
   ]
  },
  {
   "cell_type": "code",
   "execution_count": 11,
   "metadata": {},
   "outputs": [],
   "source": [
    "y = df[['house price of unit area']]"
   ]
  },
  {
   "cell_type": "markdown",
   "metadata": {},
   "source": [
    "#### Разделим данные на тренировочные и тестовые данные (размер тестовых данны определяем сами)"
   ]
  },
  {
   "cell_type": "code",
   "execution_count": 12,
   "metadata": {},
   "outputs": [],
   "source": [
    "X_train, X_test, y_train, y_test = train_test_split(X, y, test_size = 0.8, random_state = 40)"
   ]
  },
  {
   "cell_type": "code",
   "execution_count": 13,
   "metadata": {},
   "outputs": [
    {
     "data": {
      "text/html": [
       "<div>\n",
       "<style scoped>\n",
       "    .dataframe tbody tr th:only-of-type {\n",
       "        vertical-align: middle;\n",
       "    }\n",
       "\n",
       "    .dataframe tbody tr th {\n",
       "        vertical-align: top;\n",
       "    }\n",
       "\n",
       "    .dataframe thead th {\n",
       "        text-align: right;\n",
       "    }\n",
       "</style>\n",
       "<table border=\"1\" class=\"dataframe\">\n",
       "  <thead>\n",
       "    <tr style=\"text-align: right;\">\n",
       "      <th></th>\n",
       "      <th>No</th>\n",
       "      <th>house age</th>\n",
       "      <th>distance metro station</th>\n",
       "      <th>number of convenience stores</th>\n",
       "      <th>latitude</th>\n",
       "      <th>longitude</th>\n",
       "    </tr>\n",
       "  </thead>\n",
       "  <tbody>\n",
       "    <tr>\n",
       "      <th>320</th>\n",
       "      <td>321</td>\n",
       "      <td>13.5</td>\n",
       "      <td>4197.3490</td>\n",
       "      <td>0</td>\n",
       "      <td>24.93885</td>\n",
       "      <td>121.50383</td>\n",
       "    </tr>\n",
       "    <tr>\n",
       "      <th>383</th>\n",
       "      <td>384</td>\n",
       "      <td>29.1</td>\n",
       "      <td>506.1144</td>\n",
       "      <td>4</td>\n",
       "      <td>24.97845</td>\n",
       "      <td>121.53889</td>\n",
       "    </tr>\n",
       "    <tr>\n",
       "      <th>362</th>\n",
       "      <td>363</td>\n",
       "      <td>17.1</td>\n",
       "      <td>967.4000</td>\n",
       "      <td>4</td>\n",
       "      <td>24.98872</td>\n",
       "      <td>121.53408</td>\n",
       "    </tr>\n",
       "    <tr>\n",
       "      <th>85</th>\n",
       "      <td>86</td>\n",
       "      <td>0.0</td>\n",
       "      <td>338.9679</td>\n",
       "      <td>9</td>\n",
       "      <td>24.96853</td>\n",
       "      <td>121.54413</td>\n",
       "    </tr>\n",
       "    <tr>\n",
       "      <th>169</th>\n",
       "      <td>170</td>\n",
       "      <td>8.4</td>\n",
       "      <td>1962.6280</td>\n",
       "      <td>1</td>\n",
       "      <td>24.95468</td>\n",
       "      <td>121.55481</td>\n",
       "    </tr>\n",
       "    <tr>\n",
       "      <th>...</th>\n",
       "      <td>...</td>\n",
       "      <td>...</td>\n",
       "      <td>...</td>\n",
       "      <td>...</td>\n",
       "      <td>...</td>\n",
       "      <td>...</td>\n",
       "    </tr>\n",
       "    <tr>\n",
       "      <th>283</th>\n",
       "      <td>284</td>\n",
       "      <td>33.5</td>\n",
       "      <td>1978.6710</td>\n",
       "      <td>2</td>\n",
       "      <td>24.98674</td>\n",
       "      <td>121.51844</td>\n",
       "    </tr>\n",
       "    <tr>\n",
       "      <th>115</th>\n",
       "      <td>116</td>\n",
       "      <td>20.6</td>\n",
       "      <td>737.9161</td>\n",
       "      <td>2</td>\n",
       "      <td>24.98092</td>\n",
       "      <td>121.54739</td>\n",
       "    </tr>\n",
       "    <tr>\n",
       "      <th>119</th>\n",
       "      <td>120</td>\n",
       "      <td>16.6</td>\n",
       "      <td>289.3248</td>\n",
       "      <td>5</td>\n",
       "      <td>24.98203</td>\n",
       "      <td>121.54348</td>\n",
       "    </tr>\n",
       "    <tr>\n",
       "      <th>250</th>\n",
       "      <td>251</td>\n",
       "      <td>39.2</td>\n",
       "      <td>424.7132</td>\n",
       "      <td>7</td>\n",
       "      <td>24.97429</td>\n",
       "      <td>121.53917</td>\n",
       "    </tr>\n",
       "    <tr>\n",
       "      <th>201</th>\n",
       "      <td>202</td>\n",
       "      <td>13.1</td>\n",
       "      <td>561.9845</td>\n",
       "      <td>5</td>\n",
       "      <td>24.98746</td>\n",
       "      <td>121.54391</td>\n",
       "    </tr>\n",
       "  </tbody>\n",
       "</table>\n",
       "<p>332 rows × 6 columns</p>\n",
       "</div>"
      ],
      "text/plain": [
       "      No  house age  distance metro station  number of convenience stores  \\\n",
       "320  321       13.5               4197.3490                             0   \n",
       "383  384       29.1                506.1144                             4   \n",
       "362  363       17.1                967.4000                             4   \n",
       "85    86        0.0                338.9679                             9   \n",
       "169  170        8.4               1962.6280                             1   \n",
       "..   ...        ...                     ...                           ...   \n",
       "283  284       33.5               1978.6710                             2   \n",
       "115  116       20.6                737.9161                             2   \n",
       "119  120       16.6                289.3248                             5   \n",
       "250  251       39.2                424.7132                             7   \n",
       "201  202       13.1                561.9845                             5   \n",
       "\n",
       "     latitude  longitude  \n",
       "320  24.93885  121.50383  \n",
       "383  24.97845  121.53889  \n",
       "362  24.98872  121.53408  \n",
       "85   24.96853  121.54413  \n",
       "169  24.95468  121.55481  \n",
       "..        ...        ...  \n",
       "283  24.98674  121.51844  \n",
       "115  24.98092  121.54739  \n",
       "119  24.98203  121.54348  \n",
       "250  24.97429  121.53917  \n",
       "201  24.98746  121.54391  \n",
       "\n",
       "[332 rows x 6 columns]"
      ]
     },
     "execution_count": 13,
     "metadata": {},
     "output_type": "execute_result"
    }
   ],
   "source": [
    "X_test"
   ]
  },
  {
   "cell_type": "code",
   "execution_count": 26,
   "metadata": {},
   "outputs": [],
   "source": [
    "from sklearn.linear_model import LinearRegression\n",
    "model = LinearRegression()"
   ]
  },
  {
   "cell_type": "code",
   "execution_count": 29,
   "metadata": {},
   "outputs": [
    {
     "data": {
      "text/plain": [
       "LinearRegression()"
      ]
     },
     "execution_count": 29,
     "metadata": {},
     "output_type": "execute_result"
    }
   ],
   "source": [
    "model.fit(X_train, y_train)"
   ]
  },
  {
   "cell_type": "code",
   "execution_count": 30,
   "metadata": {},
   "outputs": [
    {
     "data": {
      "text/plain": [
       "0.5244273432977027"
      ]
     },
     "execution_count": 30,
     "metadata": {},
     "output_type": "execute_result"
    }
   ],
   "source": [
    "model.score(X_train, y_train)"
   ]
  },
  {
   "cell_type": "code",
   "execution_count": 31,
   "metadata": {},
   "outputs": [
    {
     "data": {
      "text/plain": [
       "0.5235278827770324"
      ]
     },
     "execution_count": 31,
     "metadata": {},
     "output_type": "execute_result"
    }
   ],
   "source": [
    "model.score(X_test, y_test)"
   ]
  },
  {
   "cell_type": "markdown",
   "metadata": {},
   "source": [
    "-----\n",
    "\n",
    "## Решение уравнения в аналитическом виде\n",
    "\n",
    "\n",
    "## $\\hat{\\theta} = (X^{T}X)^{-1} X^{T}y$\n"
   ]
  },
  {
   "cell_type": "code",
   "execution_count": null,
   "metadata": {},
   "outputs": [],
   "source": []
  },
  {
   "cell_type": "code",
   "execution_count": null,
   "metadata": {},
   "outputs": [],
   "source": [
    "# добавляем x0 равное 1, для того чтобы решалось уравнение\n",
    "X = np.c_[np.ones((\"тут количество строк в x_train\", 1)), X_train]\n",
    "y = Y_train"
   ]
  },
  {
   "cell_type": "markdown",
   "metadata": {},
   "source": [
    "### Какие наилучшие оценки коэффициентов $\\theta$ ???"
   ]
  },
  {
   "cell_type": "code",
   "execution_count": null,
   "metadata": {},
   "outputs": [],
   "source": [
    "# тут решение по формуле данной выше\n",
    "theta_best = "
   ]
  },
  {
   "cell_type": "markdown",
   "metadata": {},
   "source": [
    "### Каковы значения коэффициентов $\\theta_0$, $\\theta_1$, $\\theta_2$, $\\theta_3$, $\\theta_4$ и $\\theta_5$ ???"
   ]
  },
  {
   "cell_type": "code",
   "execution_count": null,
   "metadata": {},
   "outputs": [],
   "source": [
    "theta0 = theta_best[0]\n",
    "theta1 = theta_best[1]\n",
    "theta2 = ...\n",
    "theta3 = ...\n",
    "theta4 = ...\n",
    "theta5 = ..."
   ]
  },
  {
   "cell_type": "markdown",
   "metadata": {},
   "source": [
    "#### Если наше уравнение выглядит таким образом:\n",
    "\n",
    "$\\hat{y}=\\theta_0 + \\theta_1house age + \\theta_2distance metro station + \\theta_3number of convenience stores + \\theta_4latitude + \\theta_5longitude$\n",
    "\n",
    "#### Сделайте прогноз `house price of unit area` если у нас имеется дом с данными параметрами:\n",
    "\n",
    "`house age = 18`\n",
    "\n",
    "`distance metro station = 1000`\n",
    "\n",
    "`number of convenience stores = 4`\n",
    "\n",
    "`latitude = 25`\n",
    "\n",
    "`longitude = 121`\n"
   ]
  },
  {
   "cell_type": "markdown",
   "metadata": {},
   "source": [
    "#### Используя оцененные выше коэффициенты, допишите уравнение и предскажите стоимость жилья:"
   ]
  },
  {
   "cell_type": "code",
   "execution_count": null,
   "metadata": {},
   "outputs": [],
   "source": [
    "price = theta0 + theta1 * 18 + ...\n",
    "print(price)"
   ]
  },
  {
   "cell_type": "markdown",
   "metadata": {},
   "source": [
    "-----\n",
    "\n",
    "## Решение с помощью sklearn."
   ]
  },
  {
   "cell_type": "code",
   "execution_count": null,
   "metadata": {},
   "outputs": [],
   "source": []
  },
  {
   "cell_type": "code",
   "execution_count": null,
   "metadata": {},
   "outputs": [],
   "source": []
  },
  {
   "cell_type": "markdown",
   "metadata": {},
   "source": [
    "#### Проверьте, оцененные коэффициенты с помощью sklearn такие же как мы получали выше?"
   ]
  },
  {
   "cell_type": "code",
   "execution_count": null,
   "metadata": {},
   "outputs": [],
   "source": []
  },
  {
   "cell_type": "markdown",
   "metadata": {},
   "source": [
    "#### Сделайте прогноз `house price of unit area` если у нас имеется дом со следующими характеристиками:\n",
    "\n",
    "`house age = 18`\n",
    "\n",
    "`distance metro station = 1000`\n",
    "\n",
    "`number of convenience stores = 4`\n",
    "\n",
    "`latitude = 25`\n",
    "\n",
    "`longitude = 121`"
   ]
  },
  {
   "cell_type": "code",
   "execution_count": null,
   "metadata": {},
   "outputs": [],
   "source": [
    "# напишите в списке данные характеристики в порядке, указанном в спецификации модели\n",
    "model.predict([[]])"
   ]
  },
  {
   "cell_type": "markdown",
   "metadata": {},
   "source": [
    "### Схожи ли прогнозы???\n",
    "\n",
    "---"
   ]
  },
  {
   "cell_type": "markdown",
   "metadata": {},
   "source": [
    "### Посмотрим насколько хороша модель на train и test data."
   ]
  },
  {
   "cell_type": "code",
   "execution_count": null,
   "metadata": {},
   "outputs": [],
   "source": [
    "print(\"Training set score: {:.2f}\".format(model.score(X_train, Y_train)))\n",
    "print(\"Test set score: {:.2f}\".format(model.score(X_test, Y_test)))"
   ]
  },
  {
   "cell_type": "code",
   "execution_count": null,
   "metadata": {},
   "outputs": [],
   "source": []
  }
 ],
 "metadata": {
  "kernelspec": {
   "display_name": "Python 3",
   "language": "python",
   "name": "python3"
  },
  "language_info": {
   "codemirror_mode": {
    "name": "ipython",
    "version": 3
   },
   "file_extension": ".py",
   "mimetype": "text/x-python",
   "name": "python",
   "nbconvert_exporter": "python",
   "pygments_lexer": "ipython3",
   "version": "3.8.8"
  }
 },
 "nbformat": 4,
 "nbformat_minor": 4
}
